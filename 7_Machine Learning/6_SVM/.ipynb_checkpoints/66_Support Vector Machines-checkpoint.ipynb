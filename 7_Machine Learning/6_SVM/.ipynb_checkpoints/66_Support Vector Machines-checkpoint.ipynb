{
 "cells": [
  {
   "cell_type": "markdown",
   "id": "d3cc6f19",
   "metadata": {},
   "source": [
    "# Letter Recognition"
   ]
  },
  {
   "cell_type": "code",
   "execution_count": 1,
   "id": "e4b1f8bb",
   "metadata": {},
   "outputs": [],
   "source": [
    "import numpy as np\n",
    "import pandas as pd"
   ]
  },
  {
   "cell_type": "code",
   "execution_count": 2,
   "id": "4a729123",
   "metadata": {},
   "outputs": [
    {
     "data": {
      "text/html": [
       "<div>\n",
       "<style scoped>\n",
       "    .dataframe tbody tr th:only-of-type {\n",
       "        vertical-align: middle;\n",
       "    }\n",
       "\n",
       "    .dataframe tbody tr th {\n",
       "        vertical-align: top;\n",
       "    }\n",
       "\n",
       "    .dataframe thead th {\n",
       "        text-align: right;\n",
       "    }\n",
       "</style>\n",
       "<table border=\"1\" class=\"dataframe\">\n",
       "  <thead>\n",
       "    <tr style=\"text-align: right;\">\n",
       "      <th></th>\n",
       "      <th>letter</th>\n",
       "      <th>xbox</th>\n",
       "      <th>ybox</th>\n",
       "      <th>width</th>\n",
       "      <th>height</th>\n",
       "      <th>onpix</th>\n",
       "      <th>xbar</th>\n",
       "      <th>ybar</th>\n",
       "      <th>x2bar</th>\n",
       "      <th>y2bar</th>\n",
       "      <th>xybar</th>\n",
       "      <th>x2ybar</th>\n",
       "      <th>xy2bar</th>\n",
       "      <th>xedge</th>\n",
       "      <th>xedgey</th>\n",
       "      <th>yedge</th>\n",
       "      <th>yedgex</th>\n",
       "    </tr>\n",
       "  </thead>\n",
       "  <tbody>\n",
       "    <tr>\n",
       "      <th>0</th>\n",
       "      <td>T</td>\n",
       "      <td>2</td>\n",
       "      <td>8</td>\n",
       "      <td>3</td>\n",
       "      <td>5</td>\n",
       "      <td>1</td>\n",
       "      <td>8</td>\n",
       "      <td>13</td>\n",
       "      <td>0</td>\n",
       "      <td>6</td>\n",
       "      <td>6</td>\n",
       "      <td>10</td>\n",
       "      <td>8</td>\n",
       "      <td>0</td>\n",
       "      <td>8</td>\n",
       "      <td>0</td>\n",
       "      <td>8</td>\n",
       "    </tr>\n",
       "    <tr>\n",
       "      <th>1</th>\n",
       "      <td>I</td>\n",
       "      <td>5</td>\n",
       "      <td>12</td>\n",
       "      <td>3</td>\n",
       "      <td>7</td>\n",
       "      <td>2</td>\n",
       "      <td>10</td>\n",
       "      <td>5</td>\n",
       "      <td>5</td>\n",
       "      <td>4</td>\n",
       "      <td>13</td>\n",
       "      <td>3</td>\n",
       "      <td>9</td>\n",
       "      <td>2</td>\n",
       "      <td>8</td>\n",
       "      <td>4</td>\n",
       "      <td>10</td>\n",
       "    </tr>\n",
       "    <tr>\n",
       "      <th>2</th>\n",
       "      <td>D</td>\n",
       "      <td>4</td>\n",
       "      <td>11</td>\n",
       "      <td>6</td>\n",
       "      <td>8</td>\n",
       "      <td>6</td>\n",
       "      <td>10</td>\n",
       "      <td>6</td>\n",
       "      <td>2</td>\n",
       "      <td>6</td>\n",
       "      <td>10</td>\n",
       "      <td>3</td>\n",
       "      <td>7</td>\n",
       "      <td>3</td>\n",
       "      <td>7</td>\n",
       "      <td>3</td>\n",
       "      <td>9</td>\n",
       "    </tr>\n",
       "    <tr>\n",
       "      <th>3</th>\n",
       "      <td>N</td>\n",
       "      <td>7</td>\n",
       "      <td>11</td>\n",
       "      <td>6</td>\n",
       "      <td>6</td>\n",
       "      <td>3</td>\n",
       "      <td>5</td>\n",
       "      <td>9</td>\n",
       "      <td>4</td>\n",
       "      <td>6</td>\n",
       "      <td>4</td>\n",
       "      <td>4</td>\n",
       "      <td>10</td>\n",
       "      <td>6</td>\n",
       "      <td>10</td>\n",
       "      <td>2</td>\n",
       "      <td>8</td>\n",
       "    </tr>\n",
       "    <tr>\n",
       "      <th>4</th>\n",
       "      <td>G</td>\n",
       "      <td>2</td>\n",
       "      <td>1</td>\n",
       "      <td>3</td>\n",
       "      <td>1</td>\n",
       "      <td>1</td>\n",
       "      <td>8</td>\n",
       "      <td>6</td>\n",
       "      <td>6</td>\n",
       "      <td>6</td>\n",
       "      <td>6</td>\n",
       "      <td>5</td>\n",
       "      <td>9</td>\n",
       "      <td>1</td>\n",
       "      <td>7</td>\n",
       "      <td>5</td>\n",
       "      <td>10</td>\n",
       "    </tr>\n",
       "  </tbody>\n",
       "</table>\n",
       "</div>"
      ],
      "text/plain": [
       "  letter  xbox   ybox   width   height  onpix   xbar   ybar   x2bar  y2bar   \\\n",
       "0      T      2      8       3       5       1      8     13      0       6   \n",
       "1      I      5     12       3       7       2     10      5      5       4   \n",
       "2      D      4     11       6       8       6     10      6      2       6   \n",
       "3      N      7     11       6       6       3      5      9      4       6   \n",
       "4      G      2      1       3       1       1      8      6      6       6   \n",
       "\n",
       "   xybar   x2ybar  xy2bar  xedge   xedgey  yedge   yedgex  \n",
       "0       6      10       8       0       8       0       8  \n",
       "1      13       3       9       2       8       4      10  \n",
       "2      10       3       7       3       7       3       9  \n",
       "3       4       4      10       6      10       2       8  \n",
       "4       6       5       9       1       7       5      10  "
      ]
     },
     "execution_count": 2,
     "metadata": {},
     "output_type": "execute_result"
    }
   ],
   "source": [
    "letters = pd.read_csv('letter-recognition.csv')\n",
    "letters.head()"
   ]
  },
  {
   "cell_type": "code",
   "execution_count": 3,
   "id": "4870893c",
   "metadata": {},
   "outputs": [
    {
     "data": {
      "text/plain": [
       "(20000, 17)"
      ]
     },
     "execution_count": 3,
     "metadata": {},
     "output_type": "execute_result"
    }
   ],
   "source": [
    "letters.shape"
   ]
  },
  {
   "cell_type": "code",
   "execution_count": 4,
   "id": "c0542b73",
   "metadata": {},
   "outputs": [
    {
     "name": "stdout",
     "output_type": "stream",
     "text": [
      "<class 'pandas.core.frame.DataFrame'>\n",
      "RangeIndex: 20000 entries, 0 to 19999\n",
      "Data columns (total 17 columns):\n",
      " #   Column  Non-Null Count  Dtype \n",
      "---  ------  --------------  ----- \n",
      " 0   letter  20000 non-null  object\n",
      " 1   xbox    20000 non-null  int64 \n",
      " 2   ybox    20000 non-null  int64 \n",
      " 3   width   20000 non-null  int64 \n",
      " 4   height  20000 non-null  int64 \n",
      " 5   onpix   20000 non-null  int64 \n",
      " 6   xbar    20000 non-null  int64 \n",
      " 7   ybar    20000 non-null  int64 \n",
      " 8   x2bar   20000 non-null  int64 \n",
      " 9   y2bar   20000 non-null  int64 \n",
      " 10  xybar   20000 non-null  int64 \n",
      " 11  x2ybar  20000 non-null  int64 \n",
      " 12  xy2bar  20000 non-null  int64 \n",
      " 13  xedge   20000 non-null  int64 \n",
      " 14  xedgey  20000 non-null  int64 \n",
      " 15  yedge   20000 non-null  int64 \n",
      " 16  yedgex  20000 non-null  int64 \n",
      "dtypes: int64(16), object(1)\n",
      "memory usage: 2.6+ MB\n"
     ]
    }
   ],
   "source": [
    "letters.info()"
   ]
  },
  {
   "cell_type": "code",
   "execution_count": 5,
   "id": "7cb9b121",
   "metadata": {},
   "outputs": [
    {
     "data": {
      "text/plain": [
       "Index(['letter', 'xbox ', 'ybox ', 'width ', 'height', 'onpix ', 'xbar ',\n",
       "       'ybar ', 'x2bar', 'y2bar ', 'xybar ', 'x2ybar', 'xy2bar', 'xedge ',\n",
       "       'xedgey', 'yedge ', 'yedgex'],\n",
       "      dtype='object')"
      ]
     },
     "execution_count": 5,
     "metadata": {},
     "output_type": "execute_result"
    }
   ],
   "source": [
    "letters.columns"
   ]
  },
  {
   "cell_type": "code",
   "execution_count": 6,
   "id": "bbf44627",
   "metadata": {},
   "outputs": [
    {
     "data": {
      "text/plain": [
       "Index(['letter', 'xbox', 'ybox', 'width', 'height', 'onpix', 'xbar', 'ybar',\n",
       "       'x2bar', 'y2bar', 'xybar', 'x2ybar', 'xy2bar', 'xedge', 'xedgey',\n",
       "       'yedge', 'yedgex'],\n",
       "      dtype='object')"
      ]
     },
     "execution_count": 6,
     "metadata": {},
     "output_type": "execute_result"
    }
   ],
   "source": [
    "letters.columns = ['letter', 'xbox', 'ybox', 'width', 'height', 'onpix', 'xbar',\n",
    "       'ybar', 'x2bar', 'y2bar', 'xybar', 'x2ybar', 'xy2bar', 'xedge',\n",
    "       'xedgey', 'yedge', 'yedgex']\n",
    "\n",
    "letters.columns"
   ]
  },
  {
   "cell_type": "code",
   "execution_count": 7,
   "id": "57c4a02c",
   "metadata": {},
   "outputs": [
    {
     "name": "stdout",
     "output_type": "stream",
     "text": [
      "['A', 'B', 'C', 'D', 'E', 'F', 'G', 'H', 'I', 'J', 'K', 'L', 'M', 'N', 'O', 'P', 'Q', 'R', 'S', 'T', 'U', 'V', 'W', 'X', 'Y', 'Z']\n"
     ]
    }
   ],
   "source": [
    "order = list(np.sort(letters['letter'].unique()))\n",
    "\n",
    "print(order)"
   ]
  },
  {
   "cell_type": "code",
   "execution_count": 8,
   "id": "4c8b4ac9",
   "metadata": {},
   "outputs": [],
   "source": [
    "import matplotlib.pyplot as plt\n",
    "import seaborn as sns"
   ]
  },
  {
   "cell_type": "code",
   "execution_count": 9,
   "id": "8a9c9c60",
   "metadata": {},
   "outputs": [
    {
     "data": {
      "text/plain": [
       "<AxesSubplot:xlabel='letter', ylabel='xbox'>"
      ]
     },
     "execution_count": 9,
     "metadata": {},
     "output_type": "execute_result"
    },
    {
     "data": {
      "image/png": "[encoded data removed]",
      "text/plain": [
       "<Figure size 1152x576 with 1 Axes>"
      ]
     },
     "metadata": {
      "needs_background": "light"
     },
     "output_type": "display_data"
    }
   ],
   "source": [
    "plt.figure(figsize=(16,8))\n",
    "sns.barplot(x='letter', y='xbox',\n",
    "           data=letters,\n",
    "           order=order)"
   ]
  },
  {
   "cell_type": "code",
   "execution_count": 10,
   "id": "bc51078c",
   "metadata": {},
   "outputs": [
    {
     "data": {
      "text/html": [
       "<div>\n",
       "<style scoped>\n",
       "    .dataframe tbody tr th:only-of-type {\n",
       "        vertical-align: middle;\n",
       "    }\n",
       "\n",
       "    .dataframe tbody tr th {\n",
       "        vertical-align: top;\n",
       "    }\n",
       "\n",
       "    .dataframe thead th {\n",
       "        text-align: right;\n",
       "    }\n",
       "</style>\n",
       "<table border=\"1\" class=\"dataframe\">\n",
       "  <thead>\n",
       "    <tr style=\"text-align: right;\">\n",
       "      <th></th>\n",
       "      <th>xbox</th>\n",
       "      <th>ybox</th>\n",
       "      <th>width</th>\n",
       "      <th>height</th>\n",
       "      <th>onpix</th>\n",
       "      <th>xbar</th>\n",
       "      <th>ybar</th>\n",
       "      <th>x2bar</th>\n",
       "      <th>y2bar</th>\n",
       "      <th>xybar</th>\n",
       "      <th>x2ybar</th>\n",
       "      <th>xy2bar</th>\n",
       "      <th>xedge</th>\n",
       "      <th>xedgey</th>\n",
       "      <th>yedge</th>\n",
       "      <th>yedgex</th>\n",
       "    </tr>\n",
       "    <tr>\n",
       "      <th>letter</th>\n",
       "      <th></th>\n",
       "      <th></th>\n",
       "      <th></th>\n",
       "      <th></th>\n",
       "      <th></th>\n",
       "      <th></th>\n",
       "      <th></th>\n",
       "      <th></th>\n",
       "      <th></th>\n",
       "      <th></th>\n",
       "      <th></th>\n",
       "      <th></th>\n",
       "      <th></th>\n",
       "      <th></th>\n",
       "      <th></th>\n",
       "      <th></th>\n",
       "    </tr>\n",
       "  </thead>\n",
       "  <tbody>\n",
       "    <tr>\n",
       "      <th>A</th>\n",
       "      <td>3.337136</td>\n",
       "      <td>6.975919</td>\n",
       "      <td>5.128010</td>\n",
       "      <td>5.178707</td>\n",
       "      <td>2.991128</td>\n",
       "      <td>8.851711</td>\n",
       "      <td>3.631179</td>\n",
       "      <td>2.755387</td>\n",
       "      <td>2.043093</td>\n",
       "      <td>7.802281</td>\n",
       "      <td>2.338403</td>\n",
       "      <td>8.465146</td>\n",
       "      <td>2.771863</td>\n",
       "      <td>6.321926</td>\n",
       "      <td>2.875792</td>\n",
       "      <td>7.468948</td>\n",
       "    </tr>\n",
       "    <tr>\n",
       "      <th>B</th>\n",
       "      <td>3.985640</td>\n",
       "      <td>6.962141</td>\n",
       "      <td>5.088773</td>\n",
       "      <td>5.169713</td>\n",
       "      <td>4.596606</td>\n",
       "      <td>7.671018</td>\n",
       "      <td>7.062663</td>\n",
       "      <td>5.366841</td>\n",
       "      <td>5.571802</td>\n",
       "      <td>7.954308</td>\n",
       "      <td>5.506527</td>\n",
       "      <td>6.652742</td>\n",
       "      <td>3.117493</td>\n",
       "      <td>7.919060</td>\n",
       "      <td>6.612272</td>\n",
       "      <td>9.100522</td>\n",
       "    </tr>\n",
       "    <tr>\n",
       "      <th>C</th>\n",
       "      <td>4.031250</td>\n",
       "      <td>7.063859</td>\n",
       "      <td>4.701087</td>\n",
       "      <td>5.296196</td>\n",
       "      <td>2.775815</td>\n",
       "      <td>5.437500</td>\n",
       "      <td>7.627717</td>\n",
       "      <td>5.927989</td>\n",
       "      <td>7.177989</td>\n",
       "      <td>8.773098</td>\n",
       "      <td>7.494565</td>\n",
       "      <td>11.947011</td>\n",
       "      <td>1.991848</td>\n",
       "      <td>8.876359</td>\n",
       "      <td>4.080163</td>\n",
       "      <td>8.555707</td>\n",
       "    </tr>\n",
       "    <tr>\n",
       "      <th>D</th>\n",
       "      <td>4.023602</td>\n",
       "      <td>7.244720</td>\n",
       "      <td>5.170186</td>\n",
       "      <td>5.288199</td>\n",
       "      <td>4.026087</td>\n",
       "      <td>7.539130</td>\n",
       "      <td>6.806211</td>\n",
       "      <td>5.921739</td>\n",
       "      <td>6.508075</td>\n",
       "      <td>8.166460</td>\n",
       "      <td>5.111801</td>\n",
       "      <td>5.750311</td>\n",
       "      <td>3.365217</td>\n",
       "      <td>7.813665</td>\n",
       "      <td>3.971429</td>\n",
       "      <td>7.628571</td>\n",
       "    </tr>\n",
       "    <tr>\n",
       "      <th>E</th>\n",
       "      <td>3.727865</td>\n",
       "      <td>6.944010</td>\n",
       "      <td>4.756510</td>\n",
       "      <td>5.201823</td>\n",
       "      <td>3.679688</td>\n",
       "      <td>5.966146</td>\n",
       "      <td>7.352865</td>\n",
       "      <td>4.223958</td>\n",
       "      <td>7.585938</td>\n",
       "      <td>8.507812</td>\n",
       "      <td>6.242188</td>\n",
       "      <td>10.341146</td>\n",
       "      <td>2.127604</td>\n",
       "      <td>8.298177</td>\n",
       "      <td>6.022135</td>\n",
       "      <td>8.506510</td>\n",
       "    </tr>\n",
       "  </tbody>\n",
       "</table>\n",
       "</div>"
      ],
      "text/plain": [
       "            xbox      ybox     width    height     onpix      xbar      ybar  \\\n",
       "letter                                                                         \n",
       "A       3.337136  6.975919  5.128010  5.178707  2.991128  8.851711  3.631179   \n",
       "B       3.985640  6.962141  5.088773  5.169713  4.596606  7.671018  7.062663   \n",
       "C       4.031250  7.063859  4.701087  5.296196  2.775815  5.437500  7.627717   \n",
       "D       4.023602  7.244720  5.170186  5.288199  4.026087  7.539130  6.806211   \n",
       "E       3.727865  6.944010  4.756510  5.201823  3.679688  5.966146  7.352865   \n",
       "\n",
       "           x2bar     y2bar     xybar    x2ybar     xy2bar     xedge    xedgey  \\\n",
       "letter                                                                          \n",
       "A       2.755387  2.043093  7.802281  2.338403   8.465146  2.771863  6.321926   \n",
       "B       5.366841  5.571802  7.954308  5.506527   6.652742  3.117493  7.919060   \n",
       "C       5.927989  7.177989  8.773098  7.494565  11.947011  1.991848  8.876359   \n",
       "D       5.921739  6.508075  8.166460  5.111801   5.750311  3.365217  7.813665   \n",
       "E       4.223958  7.585938  8.507812  6.242188  10.341146  2.127604  8.298177   \n",
       "\n",
       "           yedge    yedgex  \n",
       "letter                      \n",
       "A       2.875792  7.468948  \n",
       "B       6.612272  9.100522  \n",
       "C       4.080163  8.555707  \n",
       "D       3.971429  7.628571  \n",
       "E       6.022135  8.506510  "
      ]
     },
     "execution_count": 10,
     "metadata": {},
     "output_type": "execute_result"
    }
   ],
   "source": [
    "letter_means = letters.groupby('letter').mean()\n",
    "letter_means.head()"
   ]
  },
  {
   "cell_type": "code",
   "execution_count": 11,
   "id": "03377bc8",
   "metadata": {},
   "outputs": [
    {
     "data": {
      "text/plain": [
       "<AxesSubplot:ylabel='letter'>"
      ]
     },
     "execution_count": 11,
     "metadata": {},
     "output_type": "execute_result"
    },
    {
     "data": {
      "image/png": "[encoded data removed]",
      "text/plain": [
       "<Figure size 1296x720 with 2 Axes>"
      ]
     },
     "metadata": {
      "needs_background": "light"
     },
     "output_type": "display_data"
    }
   ],
   "source": [
    "plt.figure(figsize=(18,10))\n",
    "sns.heatmap(letter_means)"
   ]
  },
  {
   "cell_type": "code",
   "execution_count": 12,
   "id": "33075b4f",
   "metadata": {},
   "outputs": [
    {
     "data": {
      "text/plain": [
       "xbox      4.02\n",
       "ybox      7.04\n",
       "width     5.12\n",
       "height    5.37\n",
       "onpix     3.51\n",
       "xbar      6.90\n",
       "ybar      7.50\n",
       "x2bar     4.63\n",
       "y2bar     5.18\n",
       "xybar     8.28\n",
       "x2ybar    6.45\n",
       "xy2bar    7.93\n",
       "xedge     3.05\n",
       "xedgey    8.34\n",
       "yedge     3.69\n",
       "yedgex    7.80\n",
       "dtype: float64"
      ]
     },
     "execution_count": 12,
     "metadata": {},
     "output_type": "execute_result"
    }
   ],
   "source": [
    "round(letters.drop('letter', axis=1).mean(),2)"
   ]
  },
  {
   "cell_type": "code",
   "execution_count": 13,
   "id": "dd45bf74",
   "metadata": {},
   "outputs": [],
   "source": [
    "x = letters.drop('letter',axis=1)\n",
    "y = letters['letter']"
   ]
  },
  {
   "cell_type": "code",
   "execution_count": 16,
   "id": "9d3e9a82",
   "metadata": {},
   "outputs": [],
   "source": [
    "from sklearn.preprocessing import scale\n",
    "from sklearn.model_selection import train_test_split"
   ]
  },
  {
   "cell_type": "code",
   "execution_count": 15,
   "id": "6f681a9c",
   "metadata": {},
   "outputs": [],
   "source": [
    "scaled = scale(x)"
   ]
  },
  {
   "cell_type": "code",
   "execution_count": 17,
   "id": "a27020ae",
   "metadata": {},
   "outputs": [],
   "source": [
    "xtrain, xtest, ytrain, ytest = train_test_split(scaled, y, test_size=0.3,\n",
    "                                               random_state=101)"
   ]
  },
  {
   "cell_type": "code",
   "execution_count": 18,
   "id": "f6f8aad3",
   "metadata": {},
   "outputs": [],
   "source": [
    "from sklearn.svm import SVC\n",
    "\n",
    "model = SVC(kernel='linear')\n",
    "\n",
    "model.fit(xtrain, ytrain)\n",
    "\n",
    "ypred = model.predict(xtest)"
   ]
  },
  {
   "cell_type": "code",
   "execution_count": 20,
   "id": "84b1ae6b",
   "metadata": {},
   "outputs": [],
   "source": [
    "from sklearn.metrics import accuracy_score, classification_report, confusion_matrix"
   ]
  },
  {
   "cell_type": "code",
   "execution_count": 21,
   "id": "5b500426",
   "metadata": {},
   "outputs": [
    {
     "data": {
      "text/plain": [
       "0.8523333333333334"
      ]
     },
     "execution_count": 21,
     "metadata": {},
     "output_type": "execute_result"
    }
   ],
   "source": [
    "accuracy_score(ytest, ypred)"
   ]
  },
  {
   "cell_type": "code",
   "execution_count": 22,
   "id": "069e46ad",
   "metadata": {},
   "outputs": [
    {
     "data": {
      "text/plain": [
       "array([[198,   0,   0,   0,   0,   0,   1,   1,   0,   1,   1,   1,   0,\n",
       "          0,   0,   0,   0,   1,   0,   1,   1,   0,   0,   0,   3,   0],\n",
       "       [  0, 188,   0,   3,   0,   1,   3,   3,   1,   0,   1,   0,   0,\n",
       "          2,   0,   1,   1,   9,   3,   0,   0,   1,   0,   1,   0,   0],\n",
       "       [  1,   0, 200,   0,   7,   0,  12,   1,   0,   0,   5,   0,   0,\n",
       "          0,   3,   0,   0,   0,   0,   0,   1,   0,   0,   0,   0,   0],\n",
       "       [  1,  15,   0, 210,   0,   1,   2,   2,   1,   0,   1,   0,   1,\n",
       "          5,   3,   0,   0,   5,   0,   1,   0,   0,   0,   0,   0,   0],\n",
       "       [  0,   1,   3,   0, 204,   2,   6,   1,   0,   0,   1,   5,   0,\n",
       "          0,   0,   0,   2,   2,   1,   2,   0,   0,   0,   1,   0,   3],\n",
       "       [  0,   0,   0,   1,   1, 201,   1,   2,   1,   1,   0,   0,   0,\n",
       "          2,   0,   2,   0,   0,   3,   7,   1,   0,   1,   0,   1,   0],\n",
       "       [  0,   1,   9,   4,   2,   2, 167,   1,   0,   1,   4,   3,   1,\n",
       "          0,   1,   0,   9,   1,   8,   0,   0,   2,   3,   0,   0,   0],\n",
       "       [  0,   7,   3,  11,   0,   4,   3, 141,   0,   2,   4,   1,   2,\n",
       "          0,  12,   0,   4,  12,   0,   0,   4,   2,   0,   4,   1,   0],\n",
       "       [  0,   0,   2,   3,   0,   6,   0,   0, 184,   9,   0,   0,   0,\n",
       "          0,   1,   0,   0,   0,   3,   0,   0,   0,   0,   4,   0,   3],\n",
       "       [  2,   0,   0,   3,   0,   2,   0,   2,  10, 187,   0,   0,   0,\n",
       "          1,   2,   0,   0,   1,   5,   0,   1,   0,   0,   0,   0,   4],\n",
       "       [  0,   1,   5,   2,   0,   0,   1,   3,   0,   0, 198,   2,   2,\n",
       "          0,   0,   0,   0,  19,   0,   0,   0,   0,   0,  12,   0,   0],\n",
       "       [  2,   1,   3,   2,   5,   0,   8,   1,   0,   0,   1, 206,   0,\n",
       "          0,   0,   0,   5,   0,   2,   1,   0,   0,   0,   0,   0,   0],\n",
       "       [  0,   3,   0,   0,   0,   0,   0,   3,   0,   0,   0,   0, 222,\n",
       "          1,   0,   0,   0,   2,   0,   0,   0,   0,   3,   0,   0,   0],\n",
       "       [  1,   0,   0,   4,   0,   0,   0,   6,   0,   0,   0,   0,   1,\n",
       "        235,   1,   1,   0,   0,   0,   0,   0,   1,   1,   0,   0,   0],\n",
       "       [  3,   0,   4,   7,   0,   0,   0,  21,   0,   0,   0,   0,   2,\n",
       "          0, 163,   3,   2,   3,   0,   0,   3,   0,  10,   0,   0,   0],\n",
       "       [  0,   2,   0,   2,   0,  16,   5,   1,   0,   1,   3,   0,   0,\n",
       "          0,   1, 225,   0,   0,   0,   0,   0,   1,   0,   0,   8,   0],\n",
       "       [  3,   1,   0,   0,   4,   0,   9,   0,   0,   2,   0,   1,   0,\n",
       "          0,   6,   0, 198,   0,   8,   0,   0,   0,   1,   0,   0,   2],\n",
       "       [ 11,  11,   0,   2,   0,   1,   6,   3,   0,   0,  10,   0,   0,\n",
       "          3,   4,   0,   2, 188,   0,   1,   0,   0,   0,   1,   0,   0],\n",
       "       [  1,  13,   0,   0,   9,   5,   8,   0,   7,   1,   0,   2,   0,\n",
       "          0,   0,   1,   6,   1, 155,   6,   0,   0,   0,   3,   0,  10],\n",
       "       [  0,   0,   0,   1,   1,   4,   2,   4,   1,   0,   0,   0,   0,\n",
       "          0,   0,   0,   0,   1,   3, 214,   0,   0,   0,   1,   1,   6],\n",
       "       [  2,   0,   1,   2,   0,   0,   0,   2,   0,   0,   0,   0,   1,\n",
       "          1,   3,   0,   0,   0,   0,   0, 211,   0,   1,   0,   0,   0],\n",
       "       [  2,   2,   0,   0,   0,   0,   1,   3,   0,   0,   0,   0,   0,\n",
       "          1,   0,   1,   0,   3,   0,   0,   0, 190,   6,   0,   2,   0],\n",
       "       [  0,   0,   0,   0,   0,   0,   1,   0,   0,   0,   0,   0,   6,\n",
       "          1,   2,   0,   0,   0,   0,   0,   0,   0, 212,   0,   0,   0],\n",
       "       [  0,   2,   0,   4,   5,   0,   1,   0,   2,   3,   3,   3,   0,\n",
       "          0,   1,   0,   0,   1,   2,   2,   1,   0,   0, 212,   1,   1],\n",
       "       [  2,   0,   0,   0,   0,   2,   0,   1,   0,   0,   0,   0,   1,\n",
       "          0,   0,   0,   3,   0,   0,   4,   1,  10,   0,   2, 211,   0],\n",
       "       [  1,   0,   0,   0,   3,   0,   0,   0,   0,   6,   0,   0,   0,\n",
       "          0,   0,   0,   5,   0,  18,   1,   0,   0,   0,   1,   0, 194]],\n",
       "      dtype=int64)"
      ]
     },
     "execution_count": 22,
     "metadata": {},
     "output_type": "execute_result"
    }
   ],
   "source": [
    "confusion_matrix(ytest, ypred)"
   ]
  },
  {
   "cell_type": "code",
   "execution_count": 23,
   "id": "8a46e2de",
   "metadata": {},
   "outputs": [],
   "source": [
    "non_model = SVC(kernel='rbf')\n",
    "\n",
    "non_model.fit(xtrain, ytrain)\n",
    "\n",
    "ypred = non_model.predict(xtest)"
   ]
  },
  {
   "cell_type": "code",
   "execution_count": 24,
   "id": "efb2d44f",
   "metadata": {},
   "outputs": [
    {
     "data": {
      "text/plain": [
       "0.9383333333333334"
      ]
     },
     "execution_count": 24,
     "metadata": {},
     "output_type": "execute_result"
    }
   ],
   "source": [
    "accuracy_score(ytest, ypred)"
   ]
  },
  {
   "cell_type": "code",
   "execution_count": 25,
   "id": "b7b011ca",
   "metadata": {},
   "outputs": [
    {
     "data": {
      "text/plain": [
       "array([[205,   0,   0,   1,   0,   0,   0,   0,   0,   1,   0,   0,   0,\n",
       "          0,   0,   0,   0,   0,   0,   0,   0,   0,   0,   0,   2,   0],\n",
       "       [  0, 205,   0,   3,   1,   0,   1,   0,   0,   0,   0,   0,   0,\n",
       "          0,   0,   0,   0,   6,   1,   0,   0,   0,   0,   1,   0,   0],\n",
       "       [  0,   0, 213,   0,   5,   0,   7,   1,   0,   0,   0,   0,   0,\n",
       "          0,   4,   0,   0,   0,   0,   0,   0,   0,   0,   0,   0,   0],\n",
       "       [  0,   4,   0, 234,   0,   0,   1,   3,   0,   0,   0,   0,   0,\n",
       "          3,   1,   0,   0,   2,   0,   0,   0,   0,   0,   0,   0,   0],\n",
       "       [  0,   0,   0,   0, 221,   1,   9,   0,   0,   0,   0,   0,   0,\n",
       "          0,   0,   0,   0,   1,   0,   0,   0,   0,   0,   0,   0,   2],\n",
       "       [  0,   0,   0,   1,   0, 215,   1,   1,   1,   0,   0,   0,   0,\n",
       "          1,   0,   1,   0,   0,   1,   3,   0,   0,   0,   0,   0,   0],\n",
       "       [  0,   0,   3,   4,   1,   1, 202,   0,   0,   0,   0,   1,   1,\n",
       "          0,   2,   0,   0,   1,   0,   0,   0,   1,   2,   0,   0,   0],\n",
       "       [  0,   7,   0,   5,   0,   0,   4, 177,   0,   0,   2,   0,   1,\n",
       "          0,   3,   0,   4,  13,   0,   0,   1,   0,   0,   0,   0,   0],\n",
       "       [  0,   0,   1,   1,   0,   3,   0,   0, 194,  11,   0,   0,   0,\n",
       "          0,   0,   1,   0,   0,   2,   0,   0,   0,   0,   2,   0,   0],\n",
       "       [  1,   0,   0,   1,   0,   0,   0,   0,   6, 206,   0,   0,   0,\n",
       "          1,   2,   0,   0,   0,   2,   0,   0,   0,   0,   1,   0,   0],\n",
       "       [  0,   4,   0,   2,   0,   0,   0,   4,   0,   0, 217,   0,   1,\n",
       "          0,   0,   0,   0,  14,   0,   0,   0,   0,   0,   3,   0,   0],\n",
       "       [  0,   0,   1,   0,   2,   0,   6,   0,   0,   0,   1, 222,   0,\n",
       "          0,   0,   0,   0,   3,   0,   0,   0,   0,   0,   2,   0,   0],\n",
       "       [  0,   5,   0,   0,   0,   0,   0,   2,   0,   0,   0,   0, 225,\n",
       "          0,   0,   0,   0,   0,   0,   0,   0,   0,   2,   0,   0,   0],\n",
       "       [  0,   2,   0,   1,   0,   0,   0,   2,   0,   0,   0,   0,   1,\n",
       "        239,   3,   0,   0,   2,   0,   0,   0,   0,   0,   0,   1,   0],\n",
       "       [  0,   0,   0,   1,   0,   0,   0,   0,   0,   0,   0,   0,   0,\n",
       "          0, 209,   0,   1,   1,   0,   0,   1,   0,   8,   0,   0,   0],\n",
       "       [  0,   2,   0,   3,   3,  11,   1,   1,   0,   0,   0,   0,   0,\n",
       "          0,   1, 237,   1,   0,   0,   0,   0,   0,   0,   0,   5,   0],\n",
       "       [  0,   0,   0,   0,   2,   0,   2,   0,   0,   0,   0,   0,   0,\n",
       "          0,   6,   0, 222,   0,   1,   0,   0,   0,   2,   0,   0,   0],\n",
       "       [  0,  10,   0,   2,   0,   0,   0,   0,   0,   0,   1,   0,   0,\n",
       "          4,   0,   0,   2, 224,   0,   0,   0,   0,   0,   0,   0,   0],\n",
       "       [  0,   3,   0,   0,   2,   3,   0,   0,   0,   0,   0,   0,   0,\n",
       "          0,   0,   0,   0,   0, 220,   0,   0,   0,   0,   0,   0,   0],\n",
       "       [  0,   0,   0,   1,   0,   2,   0,   2,   0,   0,   0,   0,   0,\n",
       "          0,   0,   1,   0,   1,   0, 228,   0,   0,   0,   3,   1,   0],\n",
       "       [  0,   0,   0,   0,   0,   0,   0,   0,   0,   0,   0,   0,   0,\n",
       "          1,   1,   0,   0,   0,   0,   0, 222,   0,   0,   0,   0,   0],\n",
       "       [  0,   7,   0,   0,   0,   0,   0,   1,   0,   0,   0,   0,   1,\n",
       "          4,   0,   1,   0,   0,   0,   0,   0, 193,   1,   0,   3,   0],\n",
       "       [  0,   1,   0,   0,   0,   0,   1,   1,   0,   0,   0,   0,   0,\n",
       "          1,   0,   0,   0,   0,   0,   0,   1,   0, 217,   0,   0,   0],\n",
       "       [  0,   2,   0,   3,   2,   0,   0,   0,   1,   0,   2,   0,   0,\n",
       "          0,   0,   0,   0,   1,   0,   0,   0,   0,   0, 233,   0,   0],\n",
       "       [  2,   0,   0,   0,   0,   0,   0,   0,   0,   0,   0,   0,   1,\n",
       "          0,   0,   0,   1,   0,   0,   1,   2,   2,   0,   0, 228,   0],\n",
       "       [  0,   0,   0,   0,   2,   0,   0,   0,   0,   0,   0,   0,   0,\n",
       "          0,   0,   0,   4,   0,   1,   0,   0,   0,   0,   0,   0, 222]],\n",
       "      dtype=int64)"
      ]
     },
     "execution_count": 25,
     "metadata": {},
     "output_type": "execute_result"
    }
   ],
   "source": [
    "confusion_matrix(ytest, ypred)"
   ]
  },
  {
   "cell_type": "code",
   "execution_count": null,
   "id": "60f31896",
   "metadata": {},
   "outputs": [],
   "source": [
    "[2\t8\t3\t5\t1\t8\t13\t0\t6\t6\t10\t8\t0\t8\t0\t8]"
   ]
  }
 ],
 "metadata": {
  "kernelspec": {
   "display_name": "Python 3 (ipykernel)",
   "language": "python",
   "name": "python3"
  },
  "language_info": {
   "codemirror_mode": {
    "name": "ipython",
    "version": 3
   },
   "file_extension": ".py",
   "mimetype": "text/x-python",
   "name": "python",
   "nbconvert_exporter": "python",
   "pygments_lexer": "ipython3",
   "version": "3.9.12"
  }
 },
 "nbformat": 4,
 "nbformat_minor": 5
}
