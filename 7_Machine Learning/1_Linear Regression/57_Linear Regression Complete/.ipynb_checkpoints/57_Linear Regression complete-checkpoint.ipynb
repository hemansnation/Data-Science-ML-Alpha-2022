{
 "cells": [
  {
   "cell_type": "markdown",
   "id": "d4b21b25",
   "metadata": {},
   "source": [
    "# Steps to build a regression model\n",
    "\n",
    "1. Collect/Extract Data\n",
    "2. Pre-process the data\n",
    "3. EDA/ data exploration\n",
    "4. Dividing data into training and validation datasets\n",
    "5. Build a model\n",
    "6. perform model diagnostics\n",
    "7. Validate the model\n",
    "\n",
    "\n",
    "# Regression Model\n",
    "\n",
    "<img src='q.png' />\n",
    "\n",
    "\n",
    "n observation\n",
    "\n",
    "\n",
    "<img src='w.png' />\n",
    "\n",
    "\n",
    "calculate error\n",
    "\n",
    "<img src='e.png' />"
   ]
  },
  {
   "cell_type": "code",
   "execution_count": null,
   "id": "5cbd0b6d",
   "metadata": {},
   "outputs": [],
   "source": [
    "y = mx + c + e\n",
    "y = b1x + b0 + e"
   ]
  },
  {
   "cell_type": "markdown",
   "id": "44e636d7",
   "metadata": {},
   "source": [
    "sum of squared errors (SSE)\n",
    "\n",
    "<img src='r.png' />\n",
    "\n",
    "calculate b1 and b0\n",
    "\n",
    "<img src='t.png' />"
   ]
  },
  {
   "cell_type": "code",
   "execution_count": null,
   "id": "5db07079",
   "metadata": {},
   "outputs": [],
   "source": [
    "area    price   b1           y = b1x + b0          y = 700(x) + 100\n",
    "1000    500000      =>  500000 = b1(1000) + b0\n",
    "2000    600000      =>  600000 = b1(2000) + b0\n",
    "              \n",
    "          sumation(b1)"
   ]
  },
  {
   "cell_type": "code",
   "execution_count": null,
   "id": "10b7f83f",
   "metadata": {},
   "outputs": [],
   "source": [
    "# model.predict(5000)"
   ]
  },
  {
   "cell_type": "markdown",
   "id": "c7871172",
   "metadata": {},
   "source": [
    "# Example"
   ]
  },
  {
   "cell_type": "code",
   "execution_count": 1,
   "id": "6394d6e7",
   "metadata": {},
   "outputs": [],
   "source": [
    "import numpy as np\n",
    "import pandas as pd"
   ]
  },
  {
   "cell_type": "code",
   "execution_count": 2,
   "id": "1ac373fb",
   "metadata": {},
   "outputs": [
    {
     "data": {
      "text/html": [
       "<div>\n",
       "<style scoped>\n",
       "    .dataframe tbody tr th:only-of-type {\n",
       "        vertical-align: middle;\n",
       "    }\n",
       "\n",
       "    .dataframe tbody tr th {\n",
       "        vertical-align: top;\n",
       "    }\n",
       "\n",
       "    .dataframe thead th {\n",
       "        text-align: right;\n",
       "    }\n",
       "</style>\n",
       "<table border=\"1\" class=\"dataframe\">\n",
       "  <thead>\n",
       "    <tr style=\"text-align: right;\">\n",
       "      <th></th>\n",
       "      <th>age</th>\n",
       "      <th>sex</th>\n",
       "      <th>gmat_tot</th>\n",
       "      <th>gmat_qpc</th>\n",
       "      <th>gmat_vpc</th>\n",
       "      <th>gmat_tpc</th>\n",
       "      <th>s_avg</th>\n",
       "      <th>f_avg</th>\n",
       "      <th>quarter</th>\n",
       "      <th>work_yrs</th>\n",
       "      <th>frstlang</th>\n",
       "      <th>salary</th>\n",
       "      <th>satis</th>\n",
       "    </tr>\n",
       "  </thead>\n",
       "  <tbody>\n",
       "    <tr>\n",
       "      <th>0</th>\n",
       "      <td>23</td>\n",
       "      <td>2</td>\n",
       "      <td>620</td>\n",
       "      <td>77</td>\n",
       "      <td>87</td>\n",
       "      <td>87</td>\n",
       "      <td>3.4</td>\n",
       "      <td>3.00</td>\n",
       "      <td>1</td>\n",
       "      <td>2</td>\n",
       "      <td>1</td>\n",
       "      <td>0</td>\n",
       "      <td>7</td>\n",
       "    </tr>\n",
       "    <tr>\n",
       "      <th>1</th>\n",
       "      <td>24</td>\n",
       "      <td>1</td>\n",
       "      <td>610</td>\n",
       "      <td>90</td>\n",
       "      <td>71</td>\n",
       "      <td>87</td>\n",
       "      <td>3.5</td>\n",
       "      <td>4.00</td>\n",
       "      <td>1</td>\n",
       "      <td>2</td>\n",
       "      <td>1</td>\n",
       "      <td>0</td>\n",
       "      <td>6</td>\n",
       "    </tr>\n",
       "    <tr>\n",
       "      <th>2</th>\n",
       "      <td>24</td>\n",
       "      <td>1</td>\n",
       "      <td>670</td>\n",
       "      <td>99</td>\n",
       "      <td>78</td>\n",
       "      <td>95</td>\n",
       "      <td>3.3</td>\n",
       "      <td>3.25</td>\n",
       "      <td>1</td>\n",
       "      <td>2</td>\n",
       "      <td>1</td>\n",
       "      <td>0</td>\n",
       "      <td>6</td>\n",
       "    </tr>\n",
       "    <tr>\n",
       "      <th>3</th>\n",
       "      <td>24</td>\n",
       "      <td>1</td>\n",
       "      <td>570</td>\n",
       "      <td>56</td>\n",
       "      <td>81</td>\n",
       "      <td>75</td>\n",
       "      <td>3.3</td>\n",
       "      <td>2.67</td>\n",
       "      <td>1</td>\n",
       "      <td>1</td>\n",
       "      <td>1</td>\n",
       "      <td>0</td>\n",
       "      <td>7</td>\n",
       "    </tr>\n",
       "    <tr>\n",
       "      <th>4</th>\n",
       "      <td>24</td>\n",
       "      <td>2</td>\n",
       "      <td>710</td>\n",
       "      <td>93</td>\n",
       "      <td>98</td>\n",
       "      <td>98</td>\n",
       "      <td>3.6</td>\n",
       "      <td>3.75</td>\n",
       "      <td>1</td>\n",
       "      <td>2</td>\n",
       "      <td>1</td>\n",
       "      <td>999</td>\n",
       "      <td>5</td>\n",
       "    </tr>\n",
       "  </tbody>\n",
       "</table>\n",
       "</div>"
      ],
      "text/plain": [
       "   age  sex  gmat_tot  gmat_qpc  gmat_vpc  gmat_tpc  s_avg  f_avg  quarter  \\\n",
       "0   23    2       620        77        87        87    3.4   3.00        1   \n",
       "1   24    1       610        90        71        87    3.5   4.00        1   \n",
       "2   24    1       670        99        78        95    3.3   3.25        1   \n",
       "3   24    1       570        56        81        75    3.3   2.67        1   \n",
       "4   24    2       710        93        98        98    3.6   3.75        1   \n",
       "\n",
       "   work_yrs  frstlang  salary  satis  \n",
       "0         2         1       0      7  \n",
       "1         2         1       0      6  \n",
       "2         2         1       0      6  \n",
       "3         1         1       0      7  \n",
       "4         2         1     999      5  "
      ]
     },
     "execution_count": 2,
     "metadata": {},
     "output_type": "execute_result"
    }
   ],
   "source": [
    "df = pd.read_csv('MBASSData.csv')\n",
    "\n",
    "df.head()"
   ]
  },
  {
   "cell_type": "code",
   "execution_count": 3,
   "id": "407cc8ef",
   "metadata": {},
   "outputs": [
    {
     "name": "stdout",
     "output_type": "stream",
     "text": [
      "<class 'pandas.core.frame.DataFrame'>\n",
      "RangeIndex: 274 entries, 0 to 273\n",
      "Data columns (total 13 columns):\n",
      " #   Column    Non-Null Count  Dtype  \n",
      "---  ------    --------------  -----  \n",
      " 0   age       274 non-null    int64  \n",
      " 1   sex       274 non-null    int64  \n",
      " 2   gmat_tot  274 non-null    int64  \n",
      " 3   gmat_qpc  274 non-null    int64  \n",
      " 4   gmat_vpc  274 non-null    int64  \n",
      " 5   gmat_tpc  274 non-null    int64  \n",
      " 6   s_avg     274 non-null    float64\n",
      " 7   f_avg     274 non-null    float64\n",
      " 8   quarter   274 non-null    int64  \n",
      " 9   work_yrs  274 non-null    int64  \n",
      " 10  frstlang  274 non-null    int64  \n",
      " 11  salary    274 non-null    int64  \n",
      " 12  satis     274 non-null    int64  \n",
      "dtypes: float64(2), int64(11)\n",
      "memory usage: 28.0 KB\n"
     ]
    }
   ],
   "source": [
    "df.info()"
   ]
  },
  {
   "cell_type": "code",
   "execution_count": 4,
   "id": "c1ccdf80",
   "metadata": {},
   "outputs": [],
   "source": [
    "import statsmodels.api as sm"
   ]
  },
  {
   "cell_type": "code",
   "execution_count": 5,
   "id": "98d06e76",
   "metadata": {},
   "outputs": [
    {
     "data": {
      "text/html": [
       "<div>\n",
       "<style scoped>\n",
       "    .dataframe tbody tr th:only-of-type {\n",
       "        vertical-align: middle;\n",
       "    }\n",
       "\n",
       "    .dataframe tbody tr th {\n",
       "        vertical-align: top;\n",
       "    }\n",
       "\n",
       "    .dataframe thead th {\n",
       "        text-align: right;\n",
       "    }\n",
       "</style>\n",
       "<table border=\"1\" class=\"dataframe\">\n",
       "  <thead>\n",
       "    <tr style=\"text-align: right;\">\n",
       "      <th></th>\n",
       "      <th>const</th>\n",
       "      <th>gmat_tot</th>\n",
       "    </tr>\n",
       "  </thead>\n",
       "  <tbody>\n",
       "    <tr>\n",
       "      <th>0</th>\n",
       "      <td>1.0</td>\n",
       "      <td>620</td>\n",
       "    </tr>\n",
       "    <tr>\n",
       "      <th>1</th>\n",
       "      <td>1.0</td>\n",
       "      <td>610</td>\n",
       "    </tr>\n",
       "    <tr>\n",
       "      <th>2</th>\n",
       "      <td>1.0</td>\n",
       "      <td>670</td>\n",
       "    </tr>\n",
       "    <tr>\n",
       "      <th>3</th>\n",
       "      <td>1.0</td>\n",
       "      <td>570</td>\n",
       "    </tr>\n",
       "    <tr>\n",
       "      <th>4</th>\n",
       "      <td>1.0</td>\n",
       "      <td>710</td>\n",
       "    </tr>\n",
       "  </tbody>\n",
       "</table>\n",
       "</div>"
      ],
      "text/plain": [
       "   const  gmat_tot\n",
       "0    1.0       620\n",
       "1    1.0       610\n",
       "2    1.0       670\n",
       "3    1.0       570\n",
       "4    1.0       710"
      ]
     },
     "execution_count": 5,
     "metadata": {},
     "output_type": "execute_result"
    }
   ],
   "source": [
    "X = sm.add_constant(df['gmat_tot'])\n",
    "X.head()"
   ]
  },
  {
   "cell_type": "code",
   "execution_count": 6,
   "id": "1803fcd8",
   "metadata": {},
   "outputs": [
    {
     "data": {
      "text/plain": [
       "0           0\n",
       "1           0\n",
       "2           0\n",
       "3           0\n",
       "4         999\n",
       "        ...  \n",
       "269    104000\n",
       "270    105000\n",
       "271    115000\n",
       "272    126710\n",
       "273    220000\n",
       "Name: salary, Length: 274, dtype: int64"
      ]
     },
     "execution_count": 6,
     "metadata": {},
     "output_type": "execute_result"
    }
   ],
   "source": [
    "Y = df['salary']\n",
    "Y"
   ]
  },
  {
   "cell_type": "code",
   "execution_count": 10,
   "id": "348581ba",
   "metadata": {
    "scrolled": true
   },
   "outputs": [
    {
     "name": "stdout",
     "output_type": "stream",
     "text": [
      "xtrain:  (219, 2)\n",
      "xtest:  (55, 2)\n",
      "ytrain:  (219,)\n",
      "ytest:  (55,)\n"
     ]
    }
   ],
   "source": [
    "from sklearn.model_selection import train_test_split\n",
    "\n",
    "xtrain, xtest, ytrain, ytest = train_test_split(X,Y, train_size=0.8,\n",
    "                                                random_state=45)\n",
    "\n",
    "print(\"xtrain: \", xtrain.shape)\n",
    "print(\"xtest: \", xtest.shape)\n",
    "print(\"ytrain: \", ytrain.shape)\n",
    "print(\"ytest: \", ytest.shape)\n"
   ]
  },
  {
   "cell_type": "code",
   "execution_count": 12,
   "id": "a00bf15e",
   "metadata": {},
   "outputs": [
    {
     "name": "stdout",
     "output_type": "stream",
     "text": [
      "const       64322.732190\n",
      "gmat_tot      -35.317369\n",
      "dtype: float64\n"
     ]
    }
   ],
   "source": [
    "model1 = sm.OLS(ytrain, xtrain).fit()  # y = b1x + b0 + e\n",
    "\n",
    "print(model1.params)"
   ]
  },
  {
   "cell_type": "code",
   "execution_count": null,
   "id": "138c5ac8",
   "metadata": {},
   "outputs": [],
   "source": [
    "b0 = 64322.73\n",
    "b1 = -35.31\n",
    "\n",
    "salary = -35.31 * (gmat_tot) + 64322.73"
   ]
  },
  {
   "cell_type": "code",
   "execution_count": 13,
   "id": "447de77a",
   "metadata": {},
   "outputs": [
    {
     "data": {
      "text/plain": [
       "39605.73"
      ]
     },
     "execution_count": 13,
     "metadata": {},
     "output_type": "execute_result"
    }
   ],
   "source": [
    "salary = -35.31 * (700) + 64322.73\n",
    "\n",
    "salary"
   ]
  },
  {
   "cell_type": "code",
   "execution_count": 14,
   "id": "076a876e",
   "metadata": {},
   "outputs": [
    {
     "data": {
      "text/html": [
       "<table class=\"simpletable\">\n",
       "<tr>\n",
       "        <td>Model:</td>               <td>OLS</td>         <td>Adj. R-squared:</td>     <td>-0.003</td>  \n",
       "</tr>\n",
       "<tr>\n",
       "  <td>Dependent Variable:</td>      <td>salary</td>             <td>AIC:</td>          <td>5383.6195</td>\n",
       "</tr>\n",
       "<tr>\n",
       "         <td>Date:</td>        <td>2023-01-17 20:37</td>        <td>BIC:</td>          <td>5390.3977</td>\n",
       "</tr>\n",
       "<tr>\n",
       "   <td>No. Observations:</td>         <td>219</td>         <td>Log-Likelihood:</td>     <td>-2689.8</td> \n",
       "</tr>\n",
       "<tr>\n",
       "       <td>Df Model:</td>              <td>1</td>           <td>F-statistic:</td>       <td>0.3252</td>  \n",
       "</tr>\n",
       "<tr>\n",
       "     <td>Df Residuals:</td>           <td>217</td>       <td>Prob (F-statistic):</td>    <td>0.569</td>  \n",
       "</tr>\n",
       "<tr>\n",
       "      <td>R-squared:</td>            <td>0.001</td>            <td>Scale:</td>        <td>2.7525e+09</td>\n",
       "</tr>\n",
       "</table>\n",
       "<table class=\"simpletable\">\n",
       "<tr>\n",
       "      <td></td>        <th>Coef.</th>    <th>Std.Err.</th>     <th>t</th>     <th>P>|t|</th>   <th>[0.025</th>      <th>0.975]</th>   \n",
       "</tr>\n",
       "<tr>\n",
       "  <th>const</th>    <td>64322.7322</td> <td>38352.3164</td> <td>1.6772</td>  <td>0.0950</td> <td>-11268.0076</td> <td>139913.4719</td>\n",
       "</tr>\n",
       "<tr>\n",
       "  <th>gmat_tot</th>  <td>-35.3174</td>    <td>61.9358</td>  <td>-0.5702</td> <td>0.5691</td>  <td>-157.3902</td>    <td>86.7555</td>  \n",
       "</tr>\n",
       "</table>\n",
       "<table class=\"simpletable\">\n",
       "<tr>\n",
       "     <td>Omnibus:</td>    <td>101.383</td>  <td>Durbin-Watson:</td>    <td>2.163</td>\n",
       "</tr>\n",
       "<tr>\n",
       "  <td>Prob(Omnibus):</td>  <td>0.000</td>  <td>Jarque-Bera (JB):</td> <td>25.078</td>\n",
       "</tr>\n",
       "<tr>\n",
       "       <td>Skew:</td>      <td>0.586</td>      <td>Prob(JB):</td>      <td>0.000</td>\n",
       "</tr>\n",
       "<tr>\n",
       "     <td>Kurtosis:</td>    <td>1.828</td>   <td>Condition No.:</td>    <td>6699</td> \n",
       "</tr>\n",
       "</table>"
      ],
      "text/plain": [
       "<class 'statsmodels.iolib.summary2.Summary'>\n",
       "\"\"\"\n",
       "                   Results: Ordinary least squares\n",
       "=====================================================================\n",
       "Model:                OLS              Adj. R-squared:     -0.003    \n",
       "Dependent Variable:   salary           AIC:                5383.6195 \n",
       "Date:                 2023-01-17 20:37 BIC:                5390.3977 \n",
       "No. Observations:     219              Log-Likelihood:     -2689.8   \n",
       "Df Model:             1                F-statistic:        0.3252    \n",
       "Df Residuals:         217              Prob (F-statistic): 0.569     \n",
       "R-squared:            0.001            Scale:              2.7525e+09\n",
       "---------------------------------------------------------------------\n",
       "           Coef.     Std.Err.     t    P>|t|     [0.025      0.975]  \n",
       "---------------------------------------------------------------------\n",
       "const    64322.7322 38352.3164  1.6772 0.0950 -11268.0076 139913.4719\n",
       "gmat_tot   -35.3174    61.9358 -0.5702 0.5691   -157.3902     86.7555\n",
       "---------------------------------------------------------------------\n",
       "Omnibus:               101.383        Durbin-Watson:           2.163 \n",
       "Prob(Omnibus):         0.000          Jarque-Bera (JB):        25.078\n",
       "Skew:                  0.586          Prob(JB):                0.000 \n",
       "Kurtosis:              1.828          Condition No.:           6699  \n",
       "=====================================================================\n",
       "* The condition number is large (7e+03). This might indicate\n",
       "strong multicollinearity or other numerical problems.\n",
       "\"\"\""
      ]
     },
     "execution_count": 14,
     "metadata": {},
     "output_type": "execute_result"
    }
   ],
   "source": [
    "model1.summary2()"
   ]
  },
  {
   "cell_type": "markdown",
   "id": "4f973e1f",
   "metadata": {},
   "source": [
    "<img src='one.png' />\n",
    "\n",
    "<img src='two.png' />\n",
    "\n",
    "<img src='three.png' />"
   ]
  },
  {
   "cell_type": "code",
   "execution_count": null,
   "id": "f9ad69c4",
   "metadata": {},
   "outputs": [],
   "source": []
  }
 ],
 "metadata": {
  "kernelspec": {
   "display_name": "Python 3 (ipykernel)",
   "language": "python",
   "name": "python3"
  },
  "language_info": {
   "codemirror_mode": {
    "name": "ipython",
    "version": 3
   },
   "file_extension": ".py",
   "mimetype": "text/x-python",
   "name": "python",
   "nbconvert_exporter": "python",
   "pygments_lexer": "ipython3",
   "version": "3.9.12"
  }
 },
 "nbformat": 4,
 "nbformat_minor": 5
}
