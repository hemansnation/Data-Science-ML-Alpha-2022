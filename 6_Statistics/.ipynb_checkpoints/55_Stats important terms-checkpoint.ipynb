{
 "cells": [
  {
   "cell_type": "markdown",
   "id": "7ff9a404",
   "metadata": {},
   "source": [
    "# Statistics terms\n",
    "\n",
    "\n",
    "### hypothesis"
   ]
  },
  {
   "cell_type": "code",
   "execution_count": null,
   "id": "53254493",
   "metadata": {},
   "outputs": [],
   "source": [
    "1. Null Hypothesis H0: it is considered true till it is proven false.\n",
    "\n",
    "2. Alternative Hypothesis: It is the negation of the Null Hypothesis."
   ]
  },
  {
   "cell_type": "markdown",
   "id": "063b6882",
   "metadata": {},
   "source": [
    "### Select a Test\n"
   ]
  },
  {
   "cell_type": "code",
   "execution_count": null,
   "id": "aca22cd5",
   "metadata": {},
   "outputs": [],
   "source": [
    "\n",
    "It is used to accept or reject the alternative hypothesis.\n",
    "\n",
    "Test Statistics"
   ]
  },
  {
   "cell_type": "markdown",
   "id": "2da533ea",
   "metadata": {},
   "source": [
    "### p-value"
   ]
  },
  {
   "cell_type": "code",
   "execution_count": null,
   "id": "2fb16a23",
   "metadata": {},
   "outputs": [],
   "source": [
    "you have to convert this test statistics in to p-value (0-1) "
   ]
  },
  {
   "cell_type": "markdown",
   "id": "b4744957",
   "metadata": {},
   "source": [
    "### Significance level"
   ]
  },
  {
   "cell_type": "code",
   "execution_count": null,
   "id": "f879c1b6",
   "metadata": {},
   "outputs": [],
   "source": [
    "Significance level 5% or 0.05\n",
    "\n",
    "0.05 > p-value"
   ]
  },
  {
   "cell_type": "code",
   "execution_count": null,
   "id": "52225082",
   "metadata": {},
   "outputs": [],
   "source": [
    "0.05 < p-value "
   ]
  },
  {
   "cell_type": "code",
   "execution_count": null,
   "id": "bcf51b53",
   "metadata": {},
   "outputs": [],
   "source": [
    "A large p-value indicates that the results are due to luck."
   ]
  },
  {
   "cell_type": "markdown",
   "id": "ef1cc30b",
   "metadata": {},
   "source": [
    "# Example for T-test"
   ]
  },
  {
   "cell_type": "code",
   "execution_count": 1,
   "id": "29022a39",
   "metadata": {},
   "outputs": [],
   "source": [
    "import numpy as np\n",
    "import pandas as pd\n",
    "\n",
    "from scipy import stats\n",
    "\n",
    "import seaborn as sns\n",
    "import matplotlib.pyplot as plt"
   ]
  },
  {
   "cell_type": "code",
   "execution_count": 2,
   "id": "5c8c0b05",
   "metadata": {},
   "outputs": [],
   "source": [
    "sns.set_theme(style='darkgrid')"
   ]
  },
  {
   "cell_type": "code",
   "execution_count": 4,
   "id": "eefef07e",
   "metadata": {},
   "outputs": [
    {
     "data": {
      "text/html": [
       "<div>\n",
       "<style scoped>\n",
       "    .dataframe tbody tr th:only-of-type {\n",
       "        vertical-align: middle;\n",
       "    }\n",
       "\n",
       "    .dataframe tbody tr th {\n",
       "        vertical-align: top;\n",
       "    }\n",
       "\n",
       "    .dataframe thead th {\n",
       "        text-align: right;\n",
       "    }\n",
       "</style>\n",
       "<table border=\"1\" class=\"dataframe\">\n",
       "  <thead>\n",
       "    <tr style=\"text-align: right;\">\n",
       "      <th></th>\n",
       "      <th>ID</th>\n",
       "      <th>Length</th>\n",
       "      <th>Birthweight</th>\n",
       "      <th>Headcirc</th>\n",
       "      <th>Gestation</th>\n",
       "      <th>smoker</th>\n",
       "      <th>mage</th>\n",
       "      <th>mnocig</th>\n",
       "      <th>mheight</th>\n",
       "      <th>mppwt</th>\n",
       "      <th>fage</th>\n",
       "      <th>fedyrs</th>\n",
       "      <th>fnocig</th>\n",
       "      <th>fheight</th>\n",
       "      <th>lowbwt</th>\n",
       "      <th>mage35</th>\n",
       "    </tr>\n",
       "  </thead>\n",
       "  <tbody>\n",
       "    <tr>\n",
       "      <th>0</th>\n",
       "      <td>1360</td>\n",
       "      <td>56</td>\n",
       "      <td>4.55</td>\n",
       "      <td>34</td>\n",
       "      <td>44</td>\n",
       "      <td>0</td>\n",
       "      <td>20</td>\n",
       "      <td>0</td>\n",
       "      <td>162</td>\n",
       "      <td>57</td>\n",
       "      <td>23</td>\n",
       "      <td>10</td>\n",
       "      <td>35</td>\n",
       "      <td>179</td>\n",
       "      <td>0</td>\n",
       "      <td>0</td>\n",
       "    </tr>\n",
       "    <tr>\n",
       "      <th>1</th>\n",
       "      <td>1016</td>\n",
       "      <td>53</td>\n",
       "      <td>4.32</td>\n",
       "      <td>36</td>\n",
       "      <td>40</td>\n",
       "      <td>0</td>\n",
       "      <td>19</td>\n",
       "      <td>0</td>\n",
       "      <td>171</td>\n",
       "      <td>62</td>\n",
       "      <td>19</td>\n",
       "      <td>12</td>\n",
       "      <td>0</td>\n",
       "      <td>183</td>\n",
       "      <td>0</td>\n",
       "      <td>0</td>\n",
       "    </tr>\n",
       "    <tr>\n",
       "      <th>2</th>\n",
       "      <td>462</td>\n",
       "      <td>58</td>\n",
       "      <td>4.10</td>\n",
       "      <td>39</td>\n",
       "      <td>41</td>\n",
       "      <td>0</td>\n",
       "      <td>35</td>\n",
       "      <td>0</td>\n",
       "      <td>172</td>\n",
       "      <td>58</td>\n",
       "      <td>31</td>\n",
       "      <td>16</td>\n",
       "      <td>25</td>\n",
       "      <td>185</td>\n",
       "      <td>0</td>\n",
       "      <td>1</td>\n",
       "    </tr>\n",
       "    <tr>\n",
       "      <th>3</th>\n",
       "      <td>1187</td>\n",
       "      <td>53</td>\n",
       "      <td>4.07</td>\n",
       "      <td>38</td>\n",
       "      <td>44</td>\n",
       "      <td>0</td>\n",
       "      <td>20</td>\n",
       "      <td>0</td>\n",
       "      <td>174</td>\n",
       "      <td>68</td>\n",
       "      <td>26</td>\n",
       "      <td>14</td>\n",
       "      <td>25</td>\n",
       "      <td>189</td>\n",
       "      <td>0</td>\n",
       "      <td>0</td>\n",
       "    </tr>\n",
       "    <tr>\n",
       "      <th>4</th>\n",
       "      <td>553</td>\n",
       "      <td>54</td>\n",
       "      <td>3.94</td>\n",
       "      <td>37</td>\n",
       "      <td>42</td>\n",
       "      <td>0</td>\n",
       "      <td>24</td>\n",
       "      <td>0</td>\n",
       "      <td>175</td>\n",
       "      <td>66</td>\n",
       "      <td>30</td>\n",
       "      <td>12</td>\n",
       "      <td>0</td>\n",
       "      <td>184</td>\n",
       "      <td>0</td>\n",
       "      <td>0</td>\n",
       "    </tr>\n",
       "  </tbody>\n",
       "</table>\n",
       "</div>"
      ],
      "text/plain": [
       "     ID  Length  Birthweight  Headcirc  Gestation  smoker  mage  mnocig  \\\n",
       "0  1360      56         4.55        34         44       0    20       0   \n",
       "1  1016      53         4.32        36         40       0    19       0   \n",
       "2   462      58         4.10        39         41       0    35       0   \n",
       "3  1187      53         4.07        38         44       0    20       0   \n",
       "4   553      54         3.94        37         42       0    24       0   \n",
       "\n",
       "   mheight  mppwt  fage  fedyrs  fnocig  fheight  lowbwt  mage35  \n",
       "0      162     57    23      10      35      179       0       0  \n",
       "1      171     62    19      12       0      183       0       0  \n",
       "2      172     58    31      16      25      185       0       1  \n",
       "3      174     68    26      14      25      189       0       0  \n",
       "4      175     66    30      12       0      184       0       0  "
      ]
     },
     "execution_count": 4,
     "metadata": {},
     "output_type": "execute_result"
    }
   ],
   "source": [
    "birth_weight_data = pd.read_csv('datasets/Birthweight_reduced_kg_R.csv')\n",
    "\n",
    "birth_weight_data.head()"
   ]
  },
  {
   "cell_type": "code",
   "execution_count": 5,
   "id": "f0a0da61",
   "metadata": {},
   "outputs": [
    {
     "data": {
      "text/plain": [
       "(42, 16)"
      ]
     },
     "execution_count": 5,
     "metadata": {},
     "output_type": "execute_result"
    }
   ],
   "source": [
    "birth_weight_data.shape"
   ]
  },
  {
   "cell_type": "code",
   "execution_count": 6,
   "id": "800d192c",
   "metadata": {},
   "outputs": [
    {
     "name": "stdout",
     "output_type": "stream",
     "text": [
      "<class 'pandas.core.frame.DataFrame'>\n",
      "RangeIndex: 42 entries, 0 to 41\n",
      "Data columns (total 16 columns):\n",
      " #   Column       Non-Null Count  Dtype  \n",
      "---  ------       --------------  -----  \n",
      " 0   ID           42 non-null     int64  \n",
      " 1   Length       42 non-null     int64  \n",
      " 2   Birthweight  42 non-null     float64\n",
      " 3   Headcirc     42 non-null     int64  \n",
      " 4   Gestation    42 non-null     int64  \n",
      " 5   smoker       42 non-null     int64  \n",
      " 6   mage         42 non-null     int64  \n",
      " 7   mnocig       42 non-null     int64  \n",
      " 8   mheight      42 non-null     int64  \n",
      " 9   mppwt        42 non-null     int64  \n",
      " 10  fage         42 non-null     int64  \n",
      " 11  fedyrs       42 non-null     int64  \n",
      " 12  fnocig       42 non-null     int64  \n",
      " 13  fheight      42 non-null     int64  \n",
      " 14  lowbwt       42 non-null     int64  \n",
      " 15  mage35       42 non-null     int64  \n",
      "dtypes: float64(1), int64(15)\n",
      "memory usage: 5.4 KB\n"
     ]
    }
   ],
   "source": [
    "birth_weight_data.info()"
   ]
  },
  {
   "cell_type": "code",
   "execution_count": 7,
   "id": "481577a8",
   "metadata": {},
   "outputs": [
    {
     "data": {
      "text/plain": [
       "ID             0\n",
       "Length         0\n",
       "Birthweight    0\n",
       "Headcirc       0\n",
       "Gestation      0\n",
       "smoker         0\n",
       "mage           0\n",
       "mnocig         0\n",
       "mheight        0\n",
       "mppwt          0\n",
       "fage           0\n",
       "fedyrs         0\n",
       "fnocig         0\n",
       "fheight        0\n",
       "lowbwt         0\n",
       "mage35         0\n",
       "dtype: int64"
      ]
     },
     "execution_count": 7,
     "metadata": {},
     "output_type": "execute_result"
    }
   ],
   "source": [
    "birth_weight_data.isnull().sum()"
   ]
  },
  {
   "cell_type": "code",
   "execution_count": 8,
   "id": "01daa443",
   "metadata": {},
   "outputs": [
    {
     "data": {
      "text/html": [
       "<div>\n",
       "<style scoped>\n",
       "    .dataframe tbody tr th:only-of-type {\n",
       "        vertical-align: middle;\n",
       "    }\n",
       "\n",
       "    .dataframe tbody tr th {\n",
       "        vertical-align: top;\n",
       "    }\n",
       "\n",
       "    .dataframe thead th {\n",
       "        text-align: right;\n",
       "    }\n",
       "</style>\n",
       "<table border=\"1\" class=\"dataframe\">\n",
       "  <thead>\n",
       "    <tr style=\"text-align: right;\">\n",
       "      <th></th>\n",
       "      <th>ID</th>\n",
       "      <th>Length</th>\n",
       "      <th>Birthweight</th>\n",
       "      <th>Headcirc</th>\n",
       "      <th>Gestation</th>\n",
       "      <th>smoker</th>\n",
       "      <th>mage</th>\n",
       "      <th>mnocig</th>\n",
       "      <th>mheight</th>\n",
       "      <th>mppwt</th>\n",
       "      <th>fage</th>\n",
       "      <th>fedyrs</th>\n",
       "      <th>fnocig</th>\n",
       "      <th>fheight</th>\n",
       "      <th>lowbwt</th>\n",
       "      <th>mage35</th>\n",
       "    </tr>\n",
       "  </thead>\n",
       "  <tbody>\n",
       "    <tr>\n",
       "      <th>count</th>\n",
       "      <td>42.000000</td>\n",
       "      <td>42.000000</td>\n",
       "      <td>42.000000</td>\n",
       "      <td>42.000000</td>\n",
       "      <td>42.000000</td>\n",
       "      <td>42.000000</td>\n",
       "      <td>42.000000</td>\n",
       "      <td>42.000000</td>\n",
       "      <td>42.000000</td>\n",
       "      <td>42.000000</td>\n",
       "      <td>42.000000</td>\n",
       "      <td>42.000000</td>\n",
       "      <td>42.000000</td>\n",
       "      <td>42.000000</td>\n",
       "      <td>42.000000</td>\n",
       "      <td>42.000000</td>\n",
       "    </tr>\n",
       "    <tr>\n",
       "      <th>mean</th>\n",
       "      <td>894.071429</td>\n",
       "      <td>51.333333</td>\n",
       "      <td>3.312857</td>\n",
       "      <td>34.595238</td>\n",
       "      <td>39.190476</td>\n",
       "      <td>0.523810</td>\n",
       "      <td>25.547619</td>\n",
       "      <td>9.428571</td>\n",
       "      <td>164.452381</td>\n",
       "      <td>57.500000</td>\n",
       "      <td>28.904762</td>\n",
       "      <td>13.666667</td>\n",
       "      <td>17.190476</td>\n",
       "      <td>180.500000</td>\n",
       "      <td>0.142857</td>\n",
       "      <td>0.095238</td>\n",
       "    </tr>\n",
       "    <tr>\n",
       "      <th>std</th>\n",
       "      <td>467.616186</td>\n",
       "      <td>2.935624</td>\n",
       "      <td>0.603895</td>\n",
       "      <td>2.399792</td>\n",
       "      <td>2.643336</td>\n",
       "      <td>0.505487</td>\n",
       "      <td>5.666342</td>\n",
       "      <td>12.511737</td>\n",
       "      <td>6.504041</td>\n",
       "      <td>7.198408</td>\n",
       "      <td>6.863866</td>\n",
       "      <td>2.160247</td>\n",
       "      <td>17.308165</td>\n",
       "      <td>6.978189</td>\n",
       "      <td>0.354169</td>\n",
       "      <td>0.297102</td>\n",
       "    </tr>\n",
       "    <tr>\n",
       "      <th>min</th>\n",
       "      <td>27.000000</td>\n",
       "      <td>43.000000</td>\n",
       "      <td>1.920000</td>\n",
       "      <td>30.000000</td>\n",
       "      <td>33.000000</td>\n",
       "      <td>0.000000</td>\n",
       "      <td>18.000000</td>\n",
       "      <td>0.000000</td>\n",
       "      <td>149.000000</td>\n",
       "      <td>45.000000</td>\n",
       "      <td>19.000000</td>\n",
       "      <td>10.000000</td>\n",
       "      <td>0.000000</td>\n",
       "      <td>169.000000</td>\n",
       "      <td>0.000000</td>\n",
       "      <td>0.000000</td>\n",
       "    </tr>\n",
       "    <tr>\n",
       "      <th>25%</th>\n",
       "      <td>537.250000</td>\n",
       "      <td>50.000000</td>\n",
       "      <td>2.940000</td>\n",
       "      <td>33.000000</td>\n",
       "      <td>38.000000</td>\n",
       "      <td>0.000000</td>\n",
       "      <td>20.250000</td>\n",
       "      <td>0.000000</td>\n",
       "      <td>161.000000</td>\n",
       "      <td>52.250000</td>\n",
       "      <td>23.000000</td>\n",
       "      <td>12.000000</td>\n",
       "      <td>0.000000</td>\n",
       "      <td>175.250000</td>\n",
       "      <td>0.000000</td>\n",
       "      <td>0.000000</td>\n",
       "    </tr>\n",
       "    <tr>\n",
       "      <th>50%</th>\n",
       "      <td>821.000000</td>\n",
       "      <td>52.000000</td>\n",
       "      <td>3.295000</td>\n",
       "      <td>34.000000</td>\n",
       "      <td>39.500000</td>\n",
       "      <td>1.000000</td>\n",
       "      <td>24.000000</td>\n",
       "      <td>4.500000</td>\n",
       "      <td>164.500000</td>\n",
       "      <td>57.000000</td>\n",
       "      <td>29.500000</td>\n",
       "      <td>14.000000</td>\n",
       "      <td>18.500000</td>\n",
       "      <td>180.500000</td>\n",
       "      <td>0.000000</td>\n",
       "      <td>0.000000</td>\n",
       "    </tr>\n",
       "    <tr>\n",
       "      <th>75%</th>\n",
       "      <td>1269.500000</td>\n",
       "      <td>53.000000</td>\n",
       "      <td>3.647500</td>\n",
       "      <td>36.000000</td>\n",
       "      <td>41.000000</td>\n",
       "      <td>1.000000</td>\n",
       "      <td>29.000000</td>\n",
       "      <td>15.750000</td>\n",
       "      <td>169.500000</td>\n",
       "      <td>62.000000</td>\n",
       "      <td>32.000000</td>\n",
       "      <td>16.000000</td>\n",
       "      <td>25.000000</td>\n",
       "      <td>184.750000</td>\n",
       "      <td>0.000000</td>\n",
       "      <td>0.000000</td>\n",
       "    </tr>\n",
       "    <tr>\n",
       "      <th>max</th>\n",
       "      <td>1764.000000</td>\n",
       "      <td>58.000000</td>\n",
       "      <td>4.570000</td>\n",
       "      <td>39.000000</td>\n",
       "      <td>45.000000</td>\n",
       "      <td>1.000000</td>\n",
       "      <td>41.000000</td>\n",
       "      <td>50.000000</td>\n",
       "      <td>181.000000</td>\n",
       "      <td>78.000000</td>\n",
       "      <td>46.000000</td>\n",
       "      <td>16.000000</td>\n",
       "      <td>50.000000</td>\n",
       "      <td>200.000000</td>\n",
       "      <td>1.000000</td>\n",
       "      <td>1.000000</td>\n",
       "    </tr>\n",
       "  </tbody>\n",
       "</table>\n",
       "</div>"
      ],
      "text/plain": [
       "                ID     Length  Birthweight   Headcirc  Gestation     smoker  \\\n",
       "count    42.000000  42.000000    42.000000  42.000000  42.000000  42.000000   \n",
       "mean    894.071429  51.333333     3.312857  34.595238  39.190476   0.523810   \n",
       "std     467.616186   2.935624     0.603895   2.399792   2.643336   0.505487   \n",
       "min      27.000000  43.000000     1.920000  30.000000  33.000000   0.000000   \n",
       "25%     537.250000  50.000000     2.940000  33.000000  38.000000   0.000000   \n",
       "50%     821.000000  52.000000     3.295000  34.000000  39.500000   1.000000   \n",
       "75%    1269.500000  53.000000     3.647500  36.000000  41.000000   1.000000   \n",
       "max    1764.000000  58.000000     4.570000  39.000000  45.000000   1.000000   \n",
       "\n",
       "            mage     mnocig     mheight      mppwt       fage     fedyrs  \\\n",
       "count  42.000000  42.000000   42.000000  42.000000  42.000000  42.000000   \n",
       "mean   25.547619   9.428571  164.452381  57.500000  28.904762  13.666667   \n",
       "std     5.666342  12.511737    6.504041   7.198408   6.863866   2.160247   \n",
       "min    18.000000   0.000000  149.000000  45.000000  19.000000  10.000000   \n",
       "25%    20.250000   0.000000  161.000000  52.250000  23.000000  12.000000   \n",
       "50%    24.000000   4.500000  164.500000  57.000000  29.500000  14.000000   \n",
       "75%    29.000000  15.750000  169.500000  62.000000  32.000000  16.000000   \n",
       "max    41.000000  50.000000  181.000000  78.000000  46.000000  16.000000   \n",
       "\n",
       "          fnocig     fheight     lowbwt     mage35  \n",
       "count  42.000000   42.000000  42.000000  42.000000  \n",
       "mean   17.190476  180.500000   0.142857   0.095238  \n",
       "std    17.308165    6.978189   0.354169   0.297102  \n",
       "min     0.000000  169.000000   0.000000   0.000000  \n",
       "25%     0.000000  175.250000   0.000000   0.000000  \n",
       "50%    18.500000  180.500000   0.000000   0.000000  \n",
       "75%    25.000000  184.750000   0.000000   0.000000  \n",
       "max    50.000000  200.000000   1.000000   1.000000  "
      ]
     },
     "execution_count": 8,
     "metadata": {},
     "output_type": "execute_result"
    }
   ],
   "source": [
    "birth_weight_data.describe()"
   ]
  },
  {
   "cell_type": "code",
   "execution_count": 9,
   "id": "698ef798",
   "metadata": {},
   "outputs": [
    {
     "data": {
      "text/plain": [
       "1    22\n",
       "0    20\n",
       "Name: smoker, dtype: int64"
      ]
     },
     "execution_count": 9,
     "metadata": {},
     "output_type": "execute_result"
    }
   ],
   "source": [
    "birth_weight_data['smoker'].value_counts()"
   ]
  },
  {
   "cell_type": "code",
   "execution_count": 10,
   "id": "460030e5",
   "metadata": {},
   "outputs": [
    {
     "data": {
      "text/plain": [
       "<AxesSubplot:xlabel='Birthweight', ylabel='Count'>"
      ]
     },
     "execution_count": 10,
     "metadata": {},
     "output_type": "execute_result"
    },
    {
     "data": {
      "image/png": "[encoded data removed]",
      "text/plain": [
       "<Figure size 864x576 with 1 Axes>"
      ]
     },
     "metadata": {},
     "output_type": "display_data"
    }
   ],
   "source": [
    "plt.figure(figsize=(12,8))\n",
    "\n",
    "sns.histplot(birth_weight_data['Birthweight'], kde=True)"
   ]
  },
  {
   "cell_type": "code",
   "execution_count": 11,
   "id": "a06f78a6",
   "metadata": {},
   "outputs": [
    {
     "data": {
      "text/plain": [
       "((array([-2.13530463, -1.75401012, -1.52749667, -1.35994814, -1.2237273 ,\n",
       "         -1.10706946, -1.00380487, -0.91026749, -0.8240868 , -0.74363219,\n",
       "         -0.66772711, -0.5954891 , -0.52623439, -0.45941783, -0.39459348,\n",
       "         -0.33138763, -0.2694798 , -0.20858878, -0.14846216, -0.08886798,\n",
       "         -0.02958803,  0.02958803,  0.08886798,  0.14846216,  0.20858878,\n",
       "          0.2694798 ,  0.33138763,  0.39459348,  0.45941783,  0.52623439,\n",
       "          0.5954891 ,  0.66772711,  0.74363219,  0.8240868 ,  0.91026749,\n",
       "          1.00380487,  1.10706946,  1.2237273 ,  1.35994814,  1.52749667,\n",
       "          1.75401012,  2.13530463]),\n",
       "  array([1.92, 2.05, 2.37, 2.51, 2.65, 2.66, 2.74, 2.75, 2.78, 2.9 , 2.92,\n",
       "         3.  , 3.03, 3.11, 3.14, 3.15, 3.18, 3.19, 3.2 , 3.23, 3.27, 3.32,\n",
       "         3.32, 3.35, 3.41, 3.42, 3.53, 3.55, 3.59, 3.63, 3.64, 3.65, 3.77,\n",
       "         3.86, 3.87, 3.93, 3.94, 4.07, 4.1 , 4.32, 4.55, 4.57])),\n",
       " (0.6194639325106983, 3.3128571428571427, 0.9955922379790386))"
      ]
     },
     "execution_count": 11,
     "metadata": {},
     "output_type": "execute_result"
    },
    {
     "data": {
      "image/png": "[encoded data removed]",
      "text/plain": [
       "<Figure size 864x576 with 1 Axes>"
      ]
     },
     "metadata": {},
     "output_type": "display_data"
    }
   ],
   "source": [
    "plt.figure(figsize=(12,8))\n",
    "\n",
    "stats.probplot(birth_weight_data['Birthweight'], dist='norm', plot=plt)"
   ]
  },
  {
   "cell_type": "code",
   "execution_count": 12,
   "id": "72b873b3",
   "metadata": {},
   "outputs": [
    {
     "data": {
      "text/plain": [
       "ShapiroResult(statistic=0.9899008274078369, pvalue=0.9684654474258423)"
      ]
     },
     "execution_count": 12,
     "metadata": {},
     "output_type": "execute_result"
    }
   ],
   "source": [
    "stats.shapiro(birth_weight_data['Birthweight'])"
   ]
  },
  {
   "cell_type": "code",
   "execution_count": 13,
   "id": "e9b9889f",
   "metadata": {},
   "outputs": [
    {
     "data": {
      "image/png": "[encoded data removed]",
      "text/plain": [
       "<Figure size 864x576 with 1 Axes>"
      ]
     },
     "metadata": {},
     "output_type": "display_data"
    }
   ],
   "source": [
    "plt.figure(figsize=(12,8))\n",
    "\n",
    "sns.boxplot(data = birth_weight_data, x='smoker', y='Birthweight')\n",
    "\n",
    "plt.show()"
   ]
  },
  {
   "cell_type": "code",
   "execution_count": 14,
   "id": "fbdde662",
   "metadata": {},
   "outputs": [
    {
     "name": "stdout",
     "output_type": "stream",
     "text": [
      "(20, 16)\n",
      "(22, 16)\n"
     ]
    }
   ],
   "source": [
    "sample_01 = birth_weight_data[(birth_weight_data['smoker'] == 0)]\n",
    "\n",
    "sample_02 = birth_weight_data[(birth_weight_data['smoker'] == 1)]\n",
    "\n",
    "print(sample_01.shape)\n",
    "print(sample_02.shape)"
   ]
  },
  {
   "cell_type": "code",
   "execution_count": 16,
   "id": "9ea53942",
   "metadata": {},
   "outputs": [
    {
     "name": "stdout",
     "output_type": "stream",
     "text": [
      "(20, 16)\n",
      "(20, 16)\n"
     ]
    }
   ],
   "source": [
    "sample_02 = sample_02.sample(20)\n",
    "\n",
    "print(sample_01.shape)\n",
    "print(sample_02.shape)"
   ]
  },
  {
   "cell_type": "code",
   "execution_count": null,
   "id": "a1fee796",
   "metadata": {},
   "outputs": [],
   "source": [
    "Hypothesis\n",
    "\n",
    "1. Null H0: mean of s1 == mean of s2\n",
    "\n",
    "\n",
    "2. Alternative H1: mean of s1 != mean of s2"
   ]
  },
  {
   "cell_type": "markdown",
   "id": "3f95c521",
   "metadata": {},
   "source": [
    "## Levene's test for homogeneity of variance\n",
    "\n",
    "F-test\n",
    "- it test the null hypothesis, that the variance is equal across groups.\n",
    "\n",
    "0.05 > p-value --> indicates a violation of the assumption"
   ]
  },
  {
   "cell_type": "code",
   "execution_count": 17,
   "id": "59508a46",
   "metadata": {},
   "outputs": [
    {
     "data": {
      "text/plain": [
       "LeveneResult(statistic=0.1848288981603573, pvalue=0.6696840364642794)"
      ]
     },
     "execution_count": 17,
     "metadata": {},
     "output_type": "execute_result"
    }
   ],
   "source": [
    "stats.levene(sample_01['Birthweight'],sample_02['Birthweight'])"
   ]
  },
  {
   "cell_type": "markdown",
   "id": "89bb807f",
   "metadata": {},
   "source": [
    "## Independent T-test"
   ]
  },
  {
   "cell_type": "code",
   "execution_count": 19,
   "id": "84d2e49e",
   "metadata": {},
   "outputs": [
    {
     "data": {
      "text/plain": [
       "Ttest_indResult(statistic=1.788974226207882, pvalue=0.08159278569215189)"
      ]
     },
     "execution_count": 19,
     "metadata": {},
     "output_type": "execute_result"
    }
   ],
   "source": [
    "stats.ttest_ind(sample_01['Birthweight'], sample_02['Birthweight'])"
   ]
  },
  {
   "cell_type": "markdown",
   "id": "23389f93",
   "metadata": {},
   "source": [
    "### head circumference vs smoker"
   ]
  },
  {
   "cell_type": "code",
   "execution_count": null,
   "id": "cfbd9b57",
   "metadata": {},
   "outputs": [],
   "source": []
  }
 ],
 "metadata": {
  "kernelspec": {
   "display_name": "Python 3 (ipykernel)",
   "language": "python",
   "name": "python3"
  },
  "language_info": {
   "codemirror_mode": {
    "name": "ipython",
    "version": 3
   },
   "file_extension": ".py",
   "mimetype": "text/x-python",
   "name": "python",
   "nbconvert_exporter": "python",
   "pygments_lexer": "ipython3",
   "version": "3.9.12"
  }
 },
 "nbformat": 4,
 "nbformat_minor": 5
}
