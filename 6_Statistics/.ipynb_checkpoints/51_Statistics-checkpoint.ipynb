{
 "cells": [
  {
   "cell_type": "markdown",
   "id": "174fdd99",
   "metadata": {},
   "source": [
    "# Statistics"
   ]
  },
  {
   "cell_type": "code",
   "execution_count": null,
   "id": "c3d0ef69",
   "metadata": {},
   "outputs": [],
   "source": [
    "Data Science = Software Development + Statistics"
   ]
  },
  {
   "cell_type": "code",
   "execution_count": null,
   "id": "7b3c77e9",
   "metadata": {},
   "outputs": [],
   "source": [
    "                                Statistics\n",
    "            Descriptive                             Inferential\n",
    "        Univariate                                     Hypothesis Testing\n",
    "        Bivariate                                      Model Fitting\n",
    "        Multivariate"
   ]
  },
  {
   "cell_type": "code",
   "execution_count": null,
   "id": "418e05f5",
   "metadata": {},
   "outputs": [],
   "source": [
    "Descriptive\n",
    "\n",
    "- Univariate\n",
    "\n",
    "1. Measure of Frequency -  what is the count \n",
    "2. Central Tendency - mean, median, mode\n",
    "                    - Geometric Mean } ratio or rates\n",
    "                    - Harmonic Mean\n",
    "3. Despersion\n",
    "    - range (max - min) - sensitive to outliers\n",
    "    - inter Quartile Range - (75th percentile - 25th percentile)\n",
    "    - variance\n",
    "    - Standard Deviation"
   ]
  },
  {
   "cell_type": "code",
   "execution_count": null,
   "id": "154ec91e",
   "metadata": {},
   "outputs": [],
   "source": [
    "Mean\n",
    "\n",
    "- It best represents data\n",
    "- It consider each and every value in the data\n",
    "- Discrete data - obtained by counting - number of students\n",
    "                                       - number of chairs in classroom\n",
    "                                       - number of coins giving heads\n",
    "                                       - \n",
    "and continuous data - obtained by measuring\n",
    "                    - ex: height of students\n",
    "                    - weight\n",
    "                    - time it takes for a session\n",
    "                    - distance from class to home\n",
    "\n",
    "- random data - it can be discrete or continuous\n",
    "- extreamly sesitive to the presence of outlier "
   ]
  },
  {
   "cell_type": "code",
   "execution_count": null,
   "id": "1b8f6ff2",
   "metadata": {},
   "outputs": [],
   "source": [
    "                              Data\n",
    "        Qualitative                          Quantitative\n",
    "    \"i am from Indore\"                         - Discrete\n",
    "                                                     - number of boys\n",
    "                                                     - category\n",
    "                                                     - ratings\n",
    "                                               - Continuous\n",
    "                                                     - 6.5 height"
   ]
  },
  {
   "cell_type": "code",
   "execution_count": null,
   "id": "ba521354",
   "metadata": {},
   "outputs": [],
   "source": [
    "Median\n",
    "\n",
    "- it is less sensitive by outlier\n",
    "- 50% of the data is either side of it.\n"
   ]
  },
  {
   "cell_type": "code",
   "execution_count": null,
   "id": "87a2bc21",
   "metadata": {},
   "outputs": [],
   "source": [
    "Mode\n",
    "\n",
    "- the value that occured most in the data\n",
    "- vote in an election\n",
    "- mode is not good for continuous data."
   ]
  },
  {
   "cell_type": "code",
   "execution_count": null,
   "id": "c259945f",
   "metadata": {},
   "outputs": [],
   "source": []
  },
  {
   "cell_type": "code",
   "execution_count": null,
   "id": "16bbda90",
   "metadata": {},
   "outputs": [],
   "source": []
  },
  {
   "cell_type": "code",
   "execution_count": null,
   "id": "14d1ffc3",
   "metadata": {},
   "outputs": [],
   "source": []
  },
  {
   "cell_type": "code",
   "execution_count": null,
   "id": "f90e4032",
   "metadata": {},
   "outputs": [],
   "source": []
  },
  {
   "cell_type": "code",
   "execution_count": null,
   "id": "839f2120",
   "metadata": {},
   "outputs": [],
   "source": []
  }
 ],
 "metadata": {
  "kernelspec": {
   "display_name": "Python 3 (ipykernel)",
   "language": "python",
   "name": "python3"
  },
  "language_info": {
   "codemirror_mode": {
    "name": "ipython",
    "version": 3
   },
   "file_extension": ".py",
   "mimetype": "text/x-python",
   "name": "python",
   "nbconvert_exporter": "python",
   "pygments_lexer": "ipython3",
   "version": "3.9.12"
  }
 },
 "nbformat": 4,
 "nbformat_minor": 5
}
