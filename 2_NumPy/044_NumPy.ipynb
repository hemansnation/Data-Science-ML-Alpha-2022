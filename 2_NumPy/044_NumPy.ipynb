{
 "cells": [
  {
   "cell_type": "markdown",
   "id": "5cbc89c7",
   "metadata": {},
   "source": [
    "# Numpy\n",
    "\n",
    "Numeric Python"
   ]
  },
  {
   "cell_type": "code",
   "execution_count": null,
   "id": "6357fbbe",
   "metadata": {},
   "outputs": [],
   "source": [
    "list - collection of different type of elements\n",
    "\n",
    "array - collection of similar type of elements"
   ]
  },
  {
   "cell_type": "code",
   "execution_count": null,
   "id": "67c61bd4",
   "metadata": {},
   "outputs": [],
   "source": [
    "    10      20     30    \n",
    "   2011    2013   2015\n",
    "    0        1      2"
   ]
  },
  {
   "cell_type": "code",
   "execution_count": 1,
   "id": "4ed6097d",
   "metadata": {},
   "outputs": [
    {
     "name": "stdout",
     "output_type": "stream",
     "text": [
      "Requirement already satisfied: numpy in c:\\users\\himan\\anaconda3\\lib\\site-packages (1.21.5)\n"
     ]
    }
   ],
   "source": [
    "!pip install numpy"
   ]
  },
  {
   "cell_type": "markdown",
   "id": "62855c3c",
   "metadata": {},
   "source": [
    "# 1 | Creating a Vector"
   ]
  },
  {
   "cell_type": "code",
   "execution_count": 2,
   "id": "3c2923ab",
   "metadata": {},
   "outputs": [],
   "source": [
    "import numpy as np"
   ]
  },
  {
   "cell_type": "code",
   "execution_count": 3,
   "id": "020ee6a0",
   "metadata": {},
   "outputs": [],
   "source": [
    "np.array?"
   ]
  },
  {
   "cell_type": "code",
   "execution_count": 4,
   "id": "d48b1bbf",
   "metadata": {},
   "outputs": [
    {
     "data": {
      "text/plain": [
       "array([1, 2, 3, 4])"
      ]
     },
     "execution_count": 4,
     "metadata": {},
     "output_type": "execute_result"
    }
   ],
   "source": [
    "v = np.array([1,2,3,4])\n",
    "v"
   ]
  },
  {
   "cell_type": "code",
   "execution_count": 5,
   "id": "e7799c59",
   "metadata": {},
   "outputs": [
    {
     "name": "stdout",
     "output_type": "stream",
     "text": [
      "[1 2 3 4]\n"
     ]
    }
   ],
   "source": [
    "print(v)"
   ]
  },
  {
   "cell_type": "code",
   "execution_count": 6,
   "id": "bac46c31",
   "metadata": {},
   "outputs": [
    {
     "data": {
      "text/plain": [
       "numpy.ndarray"
      ]
     },
     "execution_count": 6,
     "metadata": {},
     "output_type": "execute_result"
    }
   ],
   "source": [
    "type(v)"
   ]
  },
  {
   "cell_type": "code",
   "execution_count": 7,
   "id": "e0ed3e12",
   "metadata": {},
   "outputs": [
    {
     "data": {
      "text/plain": [
       "array([[1],\n",
       "       [2],\n",
       "       [3]])"
      ]
     },
     "execution_count": 7,
     "metadata": {},
     "output_type": "execute_result"
    }
   ],
   "source": [
    "c = np.array([[1], [2], [3]])\n",
    "c"
   ]
  },
  {
   "cell_type": "markdown",
   "id": "2ed5f48c",
   "metadata": {},
   "source": [
    "# 2 | Matrix"
   ]
  },
  {
   "cell_type": "code",
   "execution_count": 8,
   "id": "ba00f244",
   "metadata": {},
   "outputs": [
    {
     "data": {
      "text/plain": [
       "array([[1, 2, 3],\n",
       "       [4, 5, 6],\n",
       "       [7, 8, 9]])"
      ]
     },
     "execution_count": 8,
     "metadata": {},
     "output_type": "execute_result"
    }
   ],
   "source": [
    "matrix = np.array([[1,2,3], [4,5,6], [7,8,9]])\n",
    "matrix"
   ]
  },
  {
   "cell_type": "code",
   "execution_count": 9,
   "id": "d68b0991",
   "metadata": {},
   "outputs": [
    {
     "name": "stdout",
     "output_type": "stream",
     "text": [
      "[[1 2 3]\n",
      " [4 5 6]\n",
      " [7 8 9]]\n"
     ]
    }
   ],
   "source": [
    "print(matrix)"
   ]
  },
  {
   "cell_type": "code",
   "execution_count": null,
   "id": "00c0159b",
   "metadata": {},
   "outputs": [],
   "source": [
    "0th dimension -->   .\n",
    "1st dimension -->   .______.\n",
    "\n",
    "2nd dimension -->   .___|___.\n",
    "\n",
    "3rd dimension -->   .___|___.\n",
    "                       /\n",
    "\n",
    "4th dimension"
   ]
  },
  {
   "cell_type": "markdown",
   "id": "063e4c26",
   "metadata": {},
   "source": [
    "### Linear Algebra\n",
    "\n",
    "# 3 | Selecting Elements"
   ]
  },
  {
   "cell_type": "code",
   "execution_count": 10,
   "id": "b0e20f2e",
   "metadata": {},
   "outputs": [
    {
     "name": "stdout",
     "output_type": "stream",
     "text": [
      "1\n"
     ]
    }
   ],
   "source": [
    "v = np.array([1,2,3,4,5,6,7])\n",
    "print(v[0])"
   ]
  },
  {
   "cell_type": "code",
   "execution_count": 11,
   "id": "3510092a",
   "metadata": {},
   "outputs": [
    {
     "data": {
      "text/plain": [
       "array([1, 2, 3, 4, 5, 6, 7])"
      ]
     },
     "execution_count": 11,
     "metadata": {},
     "output_type": "execute_result"
    }
   ],
   "source": [
    "v[:]"
   ]
  },
  {
   "cell_type": "code",
   "execution_count": 12,
   "id": "af1bfd15",
   "metadata": {},
   "outputs": [
    {
     "data": {
      "text/plain": [
       "array([4, 5, 6])"
      ]
     },
     "execution_count": 12,
     "metadata": {},
     "output_type": "execute_result"
    }
   ],
   "source": [
    "v[3:6]"
   ]
  },
  {
   "cell_type": "code",
   "execution_count": 13,
   "id": "d97a14e6",
   "metadata": {},
   "outputs": [
    {
     "data": {
      "text/plain": [
       "7"
      ]
     },
     "execution_count": 13,
     "metadata": {},
     "output_type": "execute_result"
    }
   ],
   "source": [
    "v[-1]"
   ]
  },
  {
   "cell_type": "code",
   "execution_count": 15,
   "id": "747e32d8",
   "metadata": {},
   "outputs": [
    {
     "name": "stdout",
     "output_type": "stream",
     "text": [
      "[[1 2 3]\n",
      " [4 5 6]\n",
      " [7 8 9]]\n"
     ]
    }
   ],
   "source": [
    "matrix = np.array([[1,2,3], [4,5,6], [7,8,9]])\n",
    "print(matrix)"
   ]
  },
  {
   "cell_type": "code",
   "execution_count": 16,
   "id": "7bb19bc8",
   "metadata": {},
   "outputs": [
    {
     "data": {
      "text/plain": [
       "1"
      ]
     },
     "execution_count": 16,
     "metadata": {},
     "output_type": "execute_result"
    }
   ],
   "source": [
    "matrix[0,0]  # [row, column]"
   ]
  },
  {
   "cell_type": "code",
   "execution_count": 17,
   "id": "64002c82",
   "metadata": {},
   "outputs": [
    {
     "data": {
      "text/plain": [
       "5"
      ]
     },
     "execution_count": 17,
     "metadata": {},
     "output_type": "execute_result"
    }
   ],
   "source": [
    "matrix[1,1]"
   ]
  },
  {
   "cell_type": "code",
   "execution_count": 18,
   "id": "e47592c6",
   "metadata": {},
   "outputs": [
    {
     "data": {
      "text/plain": [
       "8"
      ]
     },
     "execution_count": 18,
     "metadata": {},
     "output_type": "execute_result"
    }
   ],
   "source": [
    "matrix[2,1]"
   ]
  },
  {
   "cell_type": "code",
   "execution_count": 19,
   "id": "2fe5f4db",
   "metadata": {},
   "outputs": [
    {
     "name": "stdout",
     "output_type": "stream",
     "text": [
      "[[1 2 3]\n",
      " [4 5 6]\n",
      " [7 8 9]]\n"
     ]
    }
   ],
   "source": [
    "print(matrix)"
   ]
  },
  {
   "cell_type": "code",
   "execution_count": 20,
   "id": "8a26320b",
   "metadata": {},
   "outputs": [
    {
     "data": {
      "text/plain": [
       "array([[2],\n",
       "       [5],\n",
       "       [8]])"
      ]
     },
     "execution_count": 20,
     "metadata": {},
     "output_type": "execute_result"
    }
   ],
   "source": [
    "matrix[:, 1:2]"
   ]
  },
  {
   "cell_type": "code",
   "execution_count": 21,
   "id": "06c9a732",
   "metadata": {},
   "outputs": [
    {
     "data": {
      "text/plain": [
       "array([[1, 2, 3],\n",
       "       [4, 5, 6],\n",
       "       [7, 8, 9]])"
      ]
     },
     "execution_count": 21,
     "metadata": {},
     "output_type": "execute_result"
    }
   ],
   "source": [
    "matrix"
   ]
  },
  {
   "cell_type": "code",
   "execution_count": 22,
   "id": "f6acadb8",
   "metadata": {},
   "outputs": [
    {
     "data": {
      "text/plain": [
       "array([[3],\n",
       "       [6],\n",
       "       [9]])"
      ]
     },
     "execution_count": 22,
     "metadata": {},
     "output_type": "execute_result"
    }
   ],
   "source": [
    "matrix[:, 2:3]"
   ]
  },
  {
   "cell_type": "code",
   "execution_count": 23,
   "id": "d9ca4b71",
   "metadata": {},
   "outputs": [
    {
     "name": "stdout",
     "output_type": "stream",
     "text": [
      "[]\n"
     ]
    }
   ],
   "source": [
    "print(matrix[:,3:2])"
   ]
  },
  {
   "cell_type": "code",
   "execution_count": 24,
   "id": "f9f74b22",
   "metadata": {},
   "outputs": [
    {
     "data": {
      "text/plain": [
       "array([], shape=(3, 0), dtype=int32)"
      ]
     },
     "execution_count": 24,
     "metadata": {},
     "output_type": "execute_result"
    }
   ],
   "source": [
    "matrix[:,3:2]"
   ]
  },
  {
   "cell_type": "code",
   "execution_count": 25,
   "id": "1f6590b5",
   "metadata": {},
   "outputs": [
    {
     "name": "stdout",
     "output_type": "stream",
     "text": [
      "[[1 2 3]\n",
      " [4 5 6]\n",
      " [7 8 9]]\n"
     ]
    }
   ],
   "source": [
    "print(matrix)"
   ]
  },
  {
   "cell_type": "code",
   "execution_count": 26,
   "id": "6304a2b9",
   "metadata": {},
   "outputs": [
    {
     "data": {
      "text/plain": [
       "array([[1, 2, 3],\n",
       "       [7, 8, 9]])"
      ]
     },
     "execution_count": 26,
     "metadata": {},
     "output_type": "execute_result"
    }
   ],
   "source": [
    "matrix[0:3:2, 0:3:]"
   ]
  },
  {
   "cell_type": "code",
   "execution_count": 27,
   "id": "3e54d15a",
   "metadata": {},
   "outputs": [
    {
     "data": {
      "text/plain": [
       "array([[1, 3],\n",
       "       [7, 9]])"
      ]
     },
     "execution_count": 27,
     "metadata": {},
     "output_type": "execute_result"
    }
   ],
   "source": [
    "matrix[0:3:2, 0:3:2]"
   ]
  },
  {
   "cell_type": "code",
   "execution_count": 28,
   "id": "f381d905",
   "metadata": {},
   "outputs": [
    {
     "name": "stdout",
     "output_type": "stream",
     "text": [
      "[[1 2 3]\n",
      " [4 5 6]\n",
      " [7 8 9]]\n"
     ]
    }
   ],
   "source": [
    "print(matrix)"
   ]
  },
  {
   "cell_type": "code",
   "execution_count": 29,
   "id": "632547de",
   "metadata": {},
   "outputs": [
    {
     "data": {
      "text/plain": [
       "array([[1],\n",
       "       [4]])"
      ]
     },
     "execution_count": 29,
     "metadata": {},
     "output_type": "execute_result"
    }
   ],
   "source": [
    "matrix[-3:-1:, -3:-2:]"
   ]
  },
  {
   "cell_type": "markdown",
   "id": "165bc53c",
   "metadata": {},
   "source": [
    "# 4 | Describe a Matrix"
   ]
  },
  {
   "cell_type": "code",
   "execution_count": 32,
   "id": "30de250f",
   "metadata": {},
   "outputs": [
    {
     "name": "stdout",
     "output_type": "stream",
     "text": [
      "[[1 2 3]\n",
      " [4 5 6]\n",
      " [7 8 9]\n",
      " [1 2 3]]\n"
     ]
    }
   ],
   "source": [
    "matrix = np.array([[1,2,3], [4,5,6], [7,8,9],[1,2,3]])\n",
    "print(matrix)"
   ]
  },
  {
   "cell_type": "code",
   "execution_count": 33,
   "id": "8e5b5db0",
   "metadata": {},
   "outputs": [
    {
     "data": {
      "text/plain": [
       "(4, 3)"
      ]
     },
     "execution_count": 33,
     "metadata": {},
     "output_type": "execute_result"
    }
   ],
   "source": [
    "matrix.shape"
   ]
  },
  {
   "cell_type": "code",
   "execution_count": 34,
   "id": "0d5a8655",
   "metadata": {},
   "outputs": [
    {
     "data": {
      "text/plain": [
       "12"
      ]
     },
     "execution_count": 34,
     "metadata": {},
     "output_type": "execute_result"
    }
   ],
   "source": [
    "matrix.size"
   ]
  },
  {
   "cell_type": "code",
   "execution_count": 35,
   "id": "8b101fc0",
   "metadata": {},
   "outputs": [
    {
     "data": {
      "text/plain": [
       "2"
      ]
     },
     "execution_count": 35,
     "metadata": {},
     "output_type": "execute_result"
    }
   ],
   "source": [
    "matrix.ndim"
   ]
  },
  {
   "cell_type": "markdown",
   "id": "e910b0fc",
   "metadata": {},
   "source": [
    "# 5 | Max and min values"
   ]
  },
  {
   "cell_type": "code",
   "execution_count": 36,
   "id": "038b5e8a",
   "metadata": {},
   "outputs": [
    {
     "name": "stdout",
     "output_type": "stream",
     "text": [
      "[[1 2 3]\n",
      " [4 5 6]\n",
      " [7 8 9]]\n"
     ]
    }
   ],
   "source": [
    "matrix = np.array([[1,2,3], [4,5,6], [7,8,9]])\n",
    "print(matrix)"
   ]
  },
  {
   "cell_type": "code",
   "execution_count": 37,
   "id": "fdd342c6",
   "metadata": {},
   "outputs": [
    {
     "name": "stdout",
     "output_type": "stream",
     "text": [
      "9\n"
     ]
    }
   ],
   "source": [
    "print(np.max(matrix))"
   ]
  },
  {
   "cell_type": "code",
   "execution_count": 38,
   "id": "9eb607e6",
   "metadata": {},
   "outputs": [
    {
     "name": "stdout",
     "output_type": "stream",
     "text": [
      "1\n"
     ]
    }
   ],
   "source": [
    "print(np.min(matrix))"
   ]
  },
  {
   "cell_type": "code",
   "execution_count": 39,
   "id": "f391cc9f",
   "metadata": {},
   "outputs": [
    {
     "name": "stdout",
     "output_type": "stream",
     "text": [
      "[7 8 9]\n"
     ]
    }
   ],
   "source": [
    "print(np.max(matrix, axis = 0))  # column"
   ]
  },
  {
   "cell_type": "code",
   "execution_count": 40,
   "id": "cb16791b",
   "metadata": {},
   "outputs": [
    {
     "name": "stdout",
     "output_type": "stream",
     "text": [
      "[3 6 9]\n"
     ]
    }
   ],
   "source": [
    "print(np.max(matrix, axis = 1))  # rows"
   ]
  },
  {
   "cell_type": "code",
   "execution_count": 41,
   "id": "f0ad885a",
   "metadata": {},
   "outputs": [
    {
     "name": "stdout",
     "output_type": "stream",
     "text": [
      "8\n"
     ]
    }
   ],
   "source": [
    "print(np.max(matrix, axis = 0)[1])"
   ]
  },
  {
   "cell_type": "markdown",
   "id": "3fd7589e",
   "metadata": {},
   "source": [
    "# 6 | mean variance and standard deviation"
   ]
  },
  {
   "cell_type": "code",
   "execution_count": 42,
   "id": "7b7cd8c1",
   "metadata": {},
   "outputs": [
    {
     "name": "stdout",
     "output_type": "stream",
     "text": [
      "[[1 2 3]\n",
      " [4 5 6]\n",
      " [7 8 9]]\n"
     ]
    }
   ],
   "source": [
    "matrix = np.array([[1,2,3], [4,5,6], [7,8,9]])\n",
    "print(matrix)"
   ]
  },
  {
   "cell_type": "code",
   "execution_count": 43,
   "id": "93d2ff94",
   "metadata": {},
   "outputs": [
    {
     "name": "stdout",
     "output_type": "stream",
     "text": [
      "5.0\n"
     ]
    }
   ],
   "source": [
    "print(np.mean(matrix))"
   ]
  },
  {
   "cell_type": "code",
   "execution_count": 44,
   "id": "06545f78",
   "metadata": {},
   "outputs": [
    {
     "name": "stdout",
     "output_type": "stream",
     "text": [
      "2.581988897471611\n"
     ]
    }
   ],
   "source": [
    "print(np.std(matrix))"
   ]
  },
  {
   "cell_type": "code",
   "execution_count": 45,
   "id": "b62c1df3",
   "metadata": {},
   "outputs": [
    {
     "name": "stdout",
     "output_type": "stream",
     "text": [
      "6.666666666666667\n"
     ]
    }
   ],
   "source": [
    "print(np.var(matrix))"
   ]
  },
  {
   "cell_type": "markdown",
   "id": "9df2910c",
   "metadata": {},
   "source": [
    "# 7 | Reshaping arrays"
   ]
  },
  {
   "cell_type": "code",
   "execution_count": 1,
   "id": "0b61db07",
   "metadata": {},
   "outputs": [],
   "source": [
    "import numpy as np"
   ]
  },
  {
   "cell_type": "code",
   "execution_count": 2,
   "id": "b62bb3c1",
   "metadata": {},
   "outputs": [
    {
     "name": "stdout",
     "output_type": "stream",
     "text": [
      "[[1 2 3]\n",
      " [4 5 6]\n",
      " [7 8 9]]\n"
     ]
    }
   ],
   "source": [
    "matrix = np.array([[1,2,3], [4,5,6], [7,8,9]])\n",
    "print(matrix)"
   ]
  },
  {
   "cell_type": "code",
   "execution_count": 3,
   "id": "742dcb34",
   "metadata": {},
   "outputs": [
    {
     "name": "stdout",
     "output_type": "stream",
     "text": [
      "[1 2 3 4 5 6 7 8 9]\n"
     ]
    }
   ],
   "source": [
    "print(matrix.reshape(9))"
   ]
  },
  {
   "cell_type": "code",
   "execution_count": 4,
   "id": "d9a4433c",
   "metadata": {},
   "outputs": [
    {
     "name": "stdout",
     "output_type": "stream",
     "text": [
      "[[1]\n",
      " [2]\n",
      " [3]\n",
      " [4]\n",
      " [5]\n",
      " [6]\n",
      " [7]\n",
      " [8]\n",
      " [9]]\n"
     ]
    }
   ],
   "source": [
    "print(matrix.reshape(9,1))"
   ]
  },
  {
   "cell_type": "code",
   "execution_count": 5,
   "id": "e118d6b3",
   "metadata": {},
   "outputs": [
    {
     "ename": "ValueError",
     "evalue": "cannot reshape array of size 9 into shape (9,2)",
     "output_type": "error",
     "traceback": [
      "\u001b[1;31m---------------------------------------------------------------------------\u001b[0m",
      "\u001b[1;31mValueError\u001b[0m                                Traceback (most recent call last)",
      "Input \u001b[1;32mIn [5]\u001b[0m, in \u001b[0;36m<cell line: 1>\u001b[1;34m()\u001b[0m\n\u001b[1;32m----> 1\u001b[0m \u001b[38;5;28mprint\u001b[39m(\u001b[43mmatrix\u001b[49m\u001b[38;5;241;43m.\u001b[39;49m\u001b[43mreshape\u001b[49m\u001b[43m(\u001b[49m\u001b[38;5;241;43m9\u001b[39;49m\u001b[43m,\u001b[49m\u001b[38;5;241;43m2\u001b[39;49m\u001b[43m)\u001b[49m)\n",
      "\u001b[1;31mValueError\u001b[0m: cannot reshape array of size 9 into shape (9,2)"
     ]
    }
   ],
   "source": [
    "print(matrix.reshape(9,2))"
   ]
  },
  {
   "cell_type": "code",
   "execution_count": 6,
   "id": "b45eb296",
   "metadata": {},
   "outputs": [
    {
     "name": "stdout",
     "output_type": "stream",
     "text": [
      "[[1 2 3 4 5 6 7 8 9]]\n"
     ]
    }
   ],
   "source": [
    "print(matrix.reshape(1,-1)) # possible number of columns"
   ]
  },
  {
   "cell_type": "code",
   "execution_count": 7,
   "id": "d95ab095",
   "metadata": {},
   "outputs": [
    {
     "name": "stdout",
     "output_type": "stream",
     "text": [
      "[1 2 3 4 5 6 7 8 9]\n"
     ]
    }
   ],
   "source": [
    "print(matrix.flatten())  # conver it in single dimension"
   ]
  },
  {
   "cell_type": "markdown",
   "id": "1009b8cc",
   "metadata": {},
   "source": [
    "# 8 | transpose of matrix"
   ]
  },
  {
   "cell_type": "code",
   "execution_count": 8,
   "id": "b3a01d15",
   "metadata": {},
   "outputs": [
    {
     "name": "stdout",
     "output_type": "stream",
     "text": [
      "[[1 2 3]\n",
      " [4 5 6]\n",
      " [7 8 9]]\n"
     ]
    }
   ],
   "source": [
    "matrix = np.array([[1,2,3], [4,5,6], [7,8,9]])\n",
    "print(matrix)"
   ]
  },
  {
   "cell_type": "code",
   "execution_count": 9,
   "id": "841d6390",
   "metadata": {},
   "outputs": [
    {
     "name": "stdout",
     "output_type": "stream",
     "text": [
      "[[1 4 7]\n",
      " [2 5 8]\n",
      " [3 6 9]]\n"
     ]
    }
   ],
   "source": [
    "print(matrix.T)"
   ]
  },
  {
   "cell_type": "markdown",
   "id": "4f22bfa0",
   "metadata": {},
   "source": [
    "# 9 | Determinant and rank"
   ]
  },
  {
   "cell_type": "code",
   "execution_count": 10,
   "id": "2f208ef9",
   "metadata": {},
   "outputs": [
    {
     "name": "stdout",
     "output_type": "stream",
     "text": [
      "[[1 2 3]\n",
      " [4 5 6]\n",
      " [7 8 9]]\n"
     ]
    }
   ],
   "source": [
    "matrix = np.array([[1,2,3], [4,5,6], [7,8,9]])\n",
    "print(matrix)"
   ]
  },
  {
   "cell_type": "code",
   "execution_count": 11,
   "id": "5aad6bc5",
   "metadata": {},
   "outputs": [
    {
     "name": "stdout",
     "output_type": "stream",
     "text": [
      "-9.51619735392994e-16\n"
     ]
    }
   ],
   "source": [
    "print(np.linalg.det(matrix))"
   ]
  },
  {
   "cell_type": "code",
   "execution_count": 12,
   "id": "ae3bc829",
   "metadata": {},
   "outputs": [
    {
     "name": "stdout",
     "output_type": "stream",
     "text": [
      "2\n"
     ]
    }
   ],
   "source": [
    "print(np.linalg.matrix_rank(matrix))"
   ]
  },
  {
   "cell_type": "markdown",
   "id": "3ba58ec8",
   "metadata": {},
   "source": [
    "# 10 | Diagonal"
   ]
  },
  {
   "cell_type": "code",
   "execution_count": 13,
   "id": "bf78a116",
   "metadata": {},
   "outputs": [
    {
     "name": "stdout",
     "output_type": "stream",
     "text": [
      "[[1 2 3]\n",
      " [4 5 6]\n",
      " [7 8 9]]\n"
     ]
    }
   ],
   "source": [
    "matrix = np.array([[1,2,3], [4,5,6], [7,8,9]])\n",
    "print(matrix)"
   ]
  },
  {
   "cell_type": "code",
   "execution_count": 14,
   "id": "7d189d1d",
   "metadata": {},
   "outputs": [
    {
     "name": "stdout",
     "output_type": "stream",
     "text": [
      "[1 5 9]\n"
     ]
    }
   ],
   "source": [
    "print(matrix.diagonal())"
   ]
  },
  {
   "cell_type": "code",
   "execution_count": 15,
   "id": "6682cbd3",
   "metadata": {},
   "outputs": [
    {
     "name": "stdout",
     "output_type": "stream",
     "text": [
      "[2 6]\n"
     ]
    }
   ],
   "source": [
    "print(matrix.diagonal(offset = 1))"
   ]
  },
  {
   "cell_type": "code",
   "execution_count": 16,
   "id": "b22cc241",
   "metadata": {},
   "outputs": [
    {
     "name": "stdout",
     "output_type": "stream",
     "text": [
      "[4 8]\n"
     ]
    }
   ],
   "source": [
    "print(matrix.diagonal(offset = -1))"
   ]
  },
  {
   "cell_type": "code",
   "execution_count": 17,
   "id": "51fbee4e",
   "metadata": {},
   "outputs": [
    {
     "name": "stdout",
     "output_type": "stream",
     "text": [
      "[3]\n"
     ]
    }
   ],
   "source": [
    "print(matrix.diagonal(offset = 2))"
   ]
  },
  {
   "cell_type": "markdown",
   "id": "da1f2320",
   "metadata": {},
   "source": [
    "# 11 | Trace"
   ]
  },
  {
   "cell_type": "code",
   "execution_count": 18,
   "id": "7020f1c7",
   "metadata": {},
   "outputs": [
    {
     "name": "stdout",
     "output_type": "stream",
     "text": [
      "[[1 2 3]\n",
      " [4 5 6]\n",
      " [7 8 9]]\n"
     ]
    }
   ],
   "source": [
    "matrix = np.array([[1,2,3], [4,5,6], [7,8,9]])\n",
    "print(matrix)"
   ]
  },
  {
   "cell_type": "code",
   "execution_count": 19,
   "id": "2d6aea44",
   "metadata": {},
   "outputs": [
    {
     "data": {
      "text/plain": [
       "15"
      ]
     },
     "execution_count": 19,
     "metadata": {},
     "output_type": "execute_result"
    }
   ],
   "source": [
    "matrix.trace()"
   ]
  },
  {
   "cell_type": "code",
   "execution_count": 20,
   "id": "dbea7552",
   "metadata": {},
   "outputs": [],
   "source": [
    "matrix.trace?"
   ]
  },
  {
   "cell_type": "markdown",
   "id": "858dd1e3",
   "metadata": {},
   "source": [
    "# 12 | Dot product"
   ]
  },
  {
   "cell_type": "code",
   "execution_count": 23,
   "id": "81cd2500",
   "metadata": {},
   "outputs": [
    {
     "name": "stdout",
     "output_type": "stream",
     "text": [
      "[[1 2 3]\n",
      " [4 5 6]\n",
      " [7 8 9]]\n",
      "[[1 2 3]\n",
      " [4 5 6]\n",
      " [7 8 9]]\n"
     ]
    }
   ],
   "source": [
    "matrix1 = np.array([[1,2,3], [4,5,6], [7,8,9]])\n",
    "matrix2 = np.array([[1,2,3], [4,5,6], [7,8,9]])\n",
    "print(matrix1)\n",
    "print(matrix2)"
   ]
  },
  {
   "cell_type": "code",
   "execution_count": 24,
   "id": "a400bda2",
   "metadata": {},
   "outputs": [
    {
     "name": "stdout",
     "output_type": "stream",
     "text": [
      "[[ 30  36  42]\n",
      " [ 66  81  96]\n",
      " [102 126 150]]\n"
     ]
    }
   ],
   "source": [
    "print(np.dot(matrix1, matrix2))"
   ]
  },
  {
   "cell_type": "markdown",
   "id": "7541c4d1",
   "metadata": {},
   "source": [
    "# 13 | cross product"
   ]
  },
  {
   "cell_type": "code",
   "execution_count": 25,
   "id": "7e520776",
   "metadata": {},
   "outputs": [
    {
     "name": "stdout",
     "output_type": "stream",
     "text": [
      "[[ 1  4  9]\n",
      " [16 25 36]\n",
      " [49 64 81]]\n"
     ]
    }
   ],
   "source": [
    "print(matrix1 * matrix2)"
   ]
  },
  {
   "cell_type": "code",
   "execution_count": 26,
   "id": "76fe012e",
   "metadata": {},
   "outputs": [
    {
     "name": "stdout",
     "output_type": "stream",
     "text": [
      "[[ 2  4  6]\n",
      " [ 8 10 12]\n",
      " [14 16 18]]\n"
     ]
    }
   ],
   "source": [
    "print(np.add(matrix1, matrix2))"
   ]
  },
  {
   "cell_type": "code",
   "execution_count": 27,
   "id": "c43b3db1",
   "metadata": {},
   "outputs": [
    {
     "name": "stdout",
     "output_type": "stream",
     "text": [
      "[[0 0 0]\n",
      " [0 0 0]\n",
      " [0 0 0]]\n"
     ]
    }
   ],
   "source": [
    "print(np.subtract(matrix1, matrix2))"
   ]
  },
  {
   "cell_type": "code",
   "execution_count": 28,
   "id": "3b7ad5cd",
   "metadata": {},
   "outputs": [
    {
     "name": "stdout",
     "output_type": "stream",
     "text": [
      "[[ 2  4  6]\n",
      " [ 8 10 12]\n",
      " [14 16 18]]\n"
     ]
    }
   ],
   "source": [
    "print(matrix1 + matrix2)"
   ]
  },
  {
   "cell_type": "markdown",
   "id": "15c5b56a",
   "metadata": {},
   "source": [
    "# 14 | Random values"
   ]
  },
  {
   "cell_type": "code",
   "execution_count": 33,
   "id": "9916d8d7",
   "metadata": {},
   "outputs": [
    {
     "data": {
      "text/plain": [
       "array([10, 10,  0,  3,  0])"
      ]
     },
     "execution_count": 33,
     "metadata": {},
     "output_type": "execute_result"
    }
   ],
   "source": [
    "np.random.randint(0,11,5)"
   ]
  },
  {
   "cell_type": "code",
   "execution_count": 35,
   "id": "69e1454d",
   "metadata": {},
   "outputs": [
    {
     "data": {
      "text/plain": [
       "array([ 2, 10,  2,  8,  8,  3,  0,  6,  4])"
      ]
     },
     "execution_count": 35,
     "metadata": {},
     "output_type": "execute_result"
    }
   ],
   "source": [
    "np.random.randint(0,11,9)"
   ]
  },
  {
   "cell_type": "code",
   "execution_count": 37,
   "id": "8a0823fa",
   "metadata": {},
   "outputs": [
    {
     "data": {
      "text/plain": [
       "array([[2, 5, 6],\n",
       "       [1, 4, 6],\n",
       "       [4, 6, 6]])"
      ]
     },
     "execution_count": 37,
     "metadata": {},
     "output_type": "execute_result"
    }
   ],
   "source": [
    "np.random.randint(0,11,9).reshape(3,3)"
   ]
  },
  {
   "cell_type": "code",
   "execution_count": 46,
   "id": "297093a3",
   "metadata": {},
   "outputs": [
    {
     "data": {
      "text/plain": [
       "array([5, 8, 9])"
      ]
     },
     "execution_count": 46,
     "metadata": {},
     "output_type": "execute_result"
    }
   ],
   "source": [
    "np.random.seed(1)\n",
    "\n",
    "np.random.randint(0,11,3)"
   ]
  },
  {
   "cell_type": "code",
   "execution_count": 47,
   "id": "31c319d8",
   "metadata": {},
   "outputs": [
    {
     "data": {
      "text/plain": [
       "array([-0.60434568,  0.10224438, -1.21187015, -2.3090309 , -3.72693721,\n",
       "        3.2706907 , -1.03402827,  2.27472363, -0.71981321,  4.54521526])"
      ]
     },
     "execution_count": 47,
     "metadata": {},
     "output_type": "execute_result"
    }
   ],
   "source": [
    "np.random.normal(1.0, 2.0, 10)\n",
    "#               mean, std"
   ]
  },
  {
   "cell_type": "code",
   "execution_count": 48,
   "id": "0489c311",
   "metadata": {},
   "outputs": [
    {
     "data": {
      "text/plain": [
       "array([[-1.22072611],\n",
       "       [ 1.36242853],\n",
       "       [ 2.12868973],\n",
       "       [-0.13302046],\n",
       "       [ 2.45995119],\n",
       "       [ 1.74598758],\n",
       "       [ 2.06762182],\n",
       "       [ 0.8160534 ],\n",
       "       [ 4.82764078],\n",
       "       [ 1.66159426]])"
      ]
     },
     "execution_count": 48,
     "metadata": {},
     "output_type": "execute_result"
    }
   ],
   "source": [
    "np.random.normal(1.0, 2.0, 10).reshape(10,1)\n",
    "#               mean, std"
   ]
  },
  {
   "cell_type": "code",
   "execution_count": 49,
   "id": "5bef9eca",
   "metadata": {},
   "outputs": [
    {
     "data": {
      "text/plain": [
       "array([[ 3.28388504, -1.25919032, -0.70010475,  2.92164001,  0.56516365],\n",
       "       [ 1.31702977,  2.74683647,  0.77723326, -1.07607753, -1.01895965]])"
      ]
     },
     "execution_count": 49,
     "metadata": {},
     "output_type": "execute_result"
    }
   ],
   "source": [
    "np.random.normal(1.0, 2.0, 10).reshape(2,5)\n",
    "#               mean, std"
   ]
  },
  {
   "cell_type": "code",
   "execution_count": null,
   "id": "1f753fca",
   "metadata": {},
   "outputs": [],
   "source": []
  }
 ],
 "metadata": {
  "kernelspec": {
   "display_name": "Python 3 (ipykernel)",
   "language": "python",
   "name": "python3"
  },
  "language_info": {
   "codemirror_mode": {
    "name": "ipython",
    "version": 3
   },
   "file_extension": ".py",
   "mimetype": "text/x-python",
   "name": "python",
   "nbconvert_exporter": "python",
   "pygments_lexer": "ipython3",
   "version": "3.9.12"
  }
 },
 "nbformat": 4,
 "nbformat_minor": 5
}
