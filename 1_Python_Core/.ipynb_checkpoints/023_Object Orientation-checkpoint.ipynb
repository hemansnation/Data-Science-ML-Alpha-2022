{
 "cells": [
  {
   "cell_type": "markdown",
   "id": "b94579bf",
   "metadata": {},
   "source": [
    "# Object Orientation\n",
    "\n",
    "\n",
    "7 properties of OOPs\n",
    "\n",
    "1. Class\n",
    "            Updated version of structure(struct in C language )\n",
    "            collection of variables and methods\n",
    "            class is a blueprint\n",
    "2. Object\n",
    "            Run time or real time entity\n",
    "            hashcode - id()\n",
    "3. Abstraction and Encapsulation\n",
    "            Abstraction - Showing only essential features without showing any background details.\n",
    "            Encapsulation - Wrapping up of data in a single unit.\n",
    "4. Inheritance\n",
    "            Acquring properties of one class into another.\n",
    "            code reuse\n",
    "            - single level\n",
    "            - multi level\n",
    "            - hierarchical \n",
    "            - multiple\n",
    "            - hybrid\n",
    "5. Polymorphism\n",
    "            Same name multiple functionalities\n",
    "            - method overloading\n",
    "            - method overriding\n",
    "6. Dynamic memory allocation\n",
    "            Run time memory allocation\n",
    "7. Message passing\n",
    "            Communication between objects"
   ]
  },
  {
   "cell_type": "code",
   "execution_count": null,
   "id": "3a21c14a",
   "metadata": {},
   "outputs": [],
   "source": [
    "# c language\n",
    "\n",
    "int a = 10;\n",
    "\n",
    "struct car{\n",
    "    int carid;\n",
    "    float price;\n",
    "    char name[20];\n",
    "}\n",
    "\n",
    "struct car c1;\n",
    "       int a;"
   ]
  },
  {
   "cell_type": "code",
   "execution_count": null,
   "id": "1a47c475",
   "metadata": {},
   "outputs": [],
   "source": [
    "add()\n",
    "\n",
    "add(a,b)\n",
    "\n",
    "add(x,y,z)\n",
    "\n",
    "add()"
   ]
  },
  {
   "cell_type": "code",
   "execution_count": null,
   "id": "ba1b3c6f",
   "metadata": {},
   "outputs": [],
   "source": [
    "TV blueprint    -  class\n",
    "- wifi\n",
    "- bluetooth\n",
    "- hdmi\n",
    "- usb\n",
    "\n",
    "Actual TV       -  object\n",
    "- product ID\n",
    "\n",
    "remote          - reference/ naming"
   ]
  },
  {
   "cell_type": "code",
   "execution_count": 1,
   "id": "04a35348",
   "metadata": {},
   "outputs": [
    {
     "name": "stdout",
     "output_type": "stream",
     "text": [
      "<class 'int'>\n",
      "1667777653328\n"
     ]
    }
   ],
   "source": [
    "a = 10\n",
    "\n",
    "print(type(a))\n",
    "\n",
    "print(id(a))"
   ]
  },
  {
   "cell_type": "code",
   "execution_count": null,
   "id": "35d27b3c",
   "metadata": {},
   "outputs": [],
   "source": []
  }
 ],
 "metadata": {
  "kernelspec": {
   "display_name": "Python 3 (ipykernel)",
   "language": "python",
   "name": "python3"
  },
  "language_info": {
   "codemirror_mode": {
    "name": "ipython",
    "version": 3
   },
   "file_extension": ".py",
   "mimetype": "text/x-python",
   "name": "python",
   "nbconvert_exporter": "python",
   "pygments_lexer": "ipython3",
   "version": "3.9.12"
  }
 },
 "nbformat": 4,
 "nbformat_minor": 5
}
