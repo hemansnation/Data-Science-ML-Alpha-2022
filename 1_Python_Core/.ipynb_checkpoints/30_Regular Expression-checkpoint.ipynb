{
 "cells": [
  {
   "cell_type": "markdown",
   "id": "1fe2574d",
   "metadata": {},
   "source": [
    "# Regular Expression\n",
    "\n",
    "regex"
   ]
  },
  {
   "cell_type": "code",
   "execution_count": null,
   "id": "564246cc",
   "metadata": {},
   "outputs": [],
   "source": [
    "x + y + 2z = 0"
   ]
  },
  {
   "cell_type": "markdown",
   "id": "8bd19df8",
   "metadata": {},
   "source": [
    "# re"
   ]
  },
  {
   "cell_type": "code",
   "execution_count": 1,
   "id": "3cad1650",
   "metadata": {},
   "outputs": [
    {
     "name": "stdout",
     "output_type": "stream",
     "text": [
      "Match\n"
     ]
    }
   ],
   "source": [
    "import re\n",
    "\n",
    "p = \"Indore\"\n",
    "\n",
    "if re.match(p, 'Indore is the best'):\n",
    "    print(\"Match\")\n",
    "else:\n",
    "    print(\"Not Match\")"
   ]
  },
  {
   "cell_type": "code",
   "execution_count": 2,
   "id": "ba2f5c7a",
   "metadata": {},
   "outputs": [
    {
     "name": "stdout",
     "output_type": "stream",
     "text": [
      "Not Match\n"
     ]
    }
   ],
   "source": [
    "p = \"Indore\"\n",
    "\n",
    "if re.match(p, 'indore is the best'):\n",
    "    print(\"Match\")\n",
    "else:\n",
    "    print(\"Not Match\")"
   ]
  },
  {
   "cell_type": "code",
   "execution_count": 3,
   "id": "bd3d4a33",
   "metadata": {},
   "outputs": [
    {
     "name": "stdout",
     "output_type": "stream",
     "text": [
      "Not Match\n"
     ]
    }
   ],
   "source": [
    "p = \"Indore\"\n",
    "\n",
    "if re.match(p, 'The famous Indore is the best'):\n",
    "    print(\"Match\")\n",
    "else:\n",
    "    print(\"Not Match\")"
   ]
  },
  {
   "cell_type": "code",
   "execution_count": null,
   "id": "14a88c62",
   "metadata": {},
   "outputs": [],
   "source": [
    "p = \"Indore\"\n",
    "\n",
    "if re.match(p, 'Indore is the best'):\n",
    "    print(\"Match\")\n",
    "else:\n",
    "    print(\"Not Match\")"
   ]
  },
  {
   "cell_type": "code",
   "execution_count": 5,
   "id": "5765fbc6",
   "metadata": {},
   "outputs": [
    {
     "name": "stdout",
     "output_type": "stream",
     "text": [
      "Match\n"
     ]
    }
   ],
   "source": [
    "p = \"Indor\"\n",
    "\n",
    "if re.match(p, 'Indore is the best'):\n",
    "    print(\"Match\")\n",
    "else:\n",
    "    print(\"Not Match\")"
   ]
  },
  {
   "cell_type": "code",
   "execution_count": 6,
   "id": "abd62ef3",
   "metadata": {},
   "outputs": [
    {
     "name": "stdout",
     "output_type": "stream",
     "text": [
      "Not Match\n"
     ]
    }
   ],
   "source": [
    "p = \"Indore\"\n",
    "\n",
    "if re.match(p, 'Indor is the best'):\n",
    "    print(\"Match\")\n",
    "else:\n",
    "    print(\"Not Match\")"
   ]
  },
  {
   "cell_type": "code",
   "execution_count": 4,
   "id": "a557314b",
   "metadata": {
    "scrolled": false
   },
   "outputs": [
    {
     "name": "stdout",
     "output_type": "stream",
     "text": [
      "Help on function match in module re:\n",
      "\n",
      "match(pattern, string, flags=0)\n",
      "    Try to apply the pattern at the start of the string, returning\n",
      "    a Match object, or None if no match was found.\n",
      "\n"
     ]
    }
   ],
   "source": [
    "help(re.match)"
   ]
  },
  {
   "cell_type": "markdown",
   "id": "a7961820",
   "metadata": {},
   "source": [
    "# search"
   ]
  },
  {
   "cell_type": "code",
   "execution_count": 9,
   "id": "6701b31c",
   "metadata": {},
   "outputs": [
    {
     "name": "stdout",
     "output_type": "stream",
     "text": [
      "Match\n"
     ]
    }
   ],
   "source": [
    "pattern = \"india\"\n",
    "\n",
    "if re.search(pattern, \"The india is the best\"):\n",
    "    print(\"Match\")\n",
    "else:\n",
    "    print(\"Not match\")"
   ]
  },
  {
   "cell_type": "code",
   "execution_count": 11,
   "id": "78a3fe8d",
   "metadata": {},
   "outputs": [
    {
     "name": "stdout",
     "output_type": "stream",
     "text": [
      "Match\n"
     ]
    }
   ],
   "source": [
    "pattern = \"india \"\n",
    "\n",
    "if re.search(pattern, \"The india is the best\"):\n",
    "    print(\"Match\")\n",
    "else:\n",
    "    print(\"Not match\")"
   ]
  },
  {
   "cell_type": "code",
   "execution_count": 12,
   "id": "9152c0a4",
   "metadata": {},
   "outputs": [
    {
     "name": "stdout",
     "output_type": "stream",
     "text": [
      "Not match\n"
     ]
    }
   ],
   "source": [
    "pattern = \"ind ia\"\n",
    "\n",
    "if re.search(pattern, \"The india is the best\"):\n",
    "    print(\"Match\")\n",
    "else:\n",
    "    print(\"Not match\")"
   ]
  },
  {
   "cell_type": "code",
   "execution_count": 13,
   "id": "3fe957d1",
   "metadata": {},
   "outputs": [
    {
     "name": "stdout",
     "output_type": "stream",
     "text": [
      "Not match\n"
     ]
    }
   ],
   "source": [
    "pattern = \"IndiA\"\n",
    "\n",
    "if re.search(pattern, \"The india is the best\"):\n",
    "    print(\"Match\")\n",
    "else:\n",
    "    print(\"Not match\")"
   ]
  },
  {
   "cell_type": "markdown",
   "id": "72efa997",
   "metadata": {},
   "source": [
    "# findall"
   ]
  },
  {
   "cell_type": "code",
   "execution_count": 14,
   "id": "08789ee3",
   "metadata": {},
   "outputs": [
    {
     "name": "stdout",
     "output_type": "stream",
     "text": [
      "['india']\n"
     ]
    }
   ],
   "source": [
    "pattern = \"india\"\n",
    "print(re.findall(pattern, 'The india is the best'))"
   ]
  },
  {
   "cell_type": "code",
   "execution_count": 15,
   "id": "04037f3b",
   "metadata": {
    "scrolled": true
   },
   "outputs": [
    {
     "name": "stdout",
     "output_type": "stream",
     "text": [
      "['india', 'india']\n"
     ]
    }
   ],
   "source": [
    "pattern = \"india\"\n",
    "print(re.findall(pattern, 'The india is the best. india has a flag'))"
   ]
  },
  {
   "cell_type": "code",
   "execution_count": 16,
   "id": "fa8dd63d",
   "metadata": {},
   "outputs": [
    {
     "name": "stdout",
     "output_type": "stream",
     "text": [
      "['best']\n"
     ]
    }
   ],
   "source": [
    "pattern = \"best\"\n",
    "print(re.findall(pattern, 'The india is the best. india has a flag'))"
   ]
  },
  {
   "cell_type": "code",
   "execution_count": 18,
   "id": "afa8df22",
   "metadata": {},
   "outputs": [
    {
     "name": "stdout",
     "output_type": "stream",
     "text": [
      "['be', 'be']\n"
     ]
    }
   ],
   "source": [
    "pattern = \"be\"\n",
    "print(re.findall(pattern, 'The india is the best. india has a flag being'))"
   ]
  },
  {
   "cell_type": "markdown",
   "id": "b7bc0717",
   "metadata": {},
   "source": [
    "# group"
   ]
  },
  {
   "cell_type": "code",
   "execution_count": 20,
   "id": "b3abfba9",
   "metadata": {},
   "outputs": [
    {
     "name": "stdout",
     "output_type": "stream",
     "text": [
      "<re.Match object; span=(4, 7), match='goa'>\n"
     ]
    }
   ],
   "source": [
    "p = \"goa\"\n",
    "\n",
    "m = re.search(p, \"the goa is the smallest. goa\")\n",
    "print(m)"
   ]
  },
  {
   "cell_type": "code",
   "execution_count": 21,
   "id": "2e1ca309",
   "metadata": {},
   "outputs": [
    {
     "name": "stdout",
     "output_type": "stream",
     "text": [
      "goa\n"
     ]
    }
   ],
   "source": [
    "if m:\n",
    "    print(m.group())"
   ]
  },
  {
   "cell_type": "markdown",
   "id": "bd50b94a",
   "metadata": {},
   "source": [
    "# start"
   ]
  },
  {
   "cell_type": "code",
   "execution_count": 22,
   "id": "0d3bb475",
   "metadata": {},
   "outputs": [
    {
     "name": "stdout",
     "output_type": "stream",
     "text": [
      "4\n"
     ]
    }
   ],
   "source": [
    "if m:\n",
    "    print(m.start())"
   ]
  },
  {
   "cell_type": "markdown",
   "id": "9fe1333d",
   "metadata": {},
   "source": [
    "# end"
   ]
  },
  {
   "cell_type": "code",
   "execution_count": 23,
   "id": "22347ae9",
   "metadata": {},
   "outputs": [
    {
     "name": "stdout",
     "output_type": "stream",
     "text": [
      "7\n"
     ]
    }
   ],
   "source": [
    "if m:\n",
    "    print(m.end())"
   ]
  },
  {
   "cell_type": "markdown",
   "id": "f0421ab6",
   "metadata": {},
   "source": [
    "# span"
   ]
  },
  {
   "cell_type": "code",
   "execution_count": 24,
   "id": "3a7ab2ad",
   "metadata": {},
   "outputs": [
    {
     "name": "stdout",
     "output_type": "stream",
     "text": [
      "(4, 7)\n"
     ]
    }
   ],
   "source": [
    "if m:\n",
    "    print(m.span())"
   ]
  },
  {
   "cell_type": "markdown",
   "id": "dc77c008",
   "metadata": {},
   "source": [
    "# sub\n",
    "\n",
    "for substitution"
   ]
  },
  {
   "cell_type": "code",
   "execution_count": 28,
   "id": "9b80fb1b",
   "metadata": {},
   "outputs": [
    {
     "name": "stdout",
     "output_type": "stream",
     "text": [
      "His name is Rohit, Hi Rohit\n",
      "His name is Virat, Hi Virat\n"
     ]
    }
   ],
   "source": [
    "s = \"His name is Virat, Hi Virat\"\n",
    "\n",
    "p = \"Virat\"\n",
    "\n",
    "newstring = re.sub(p, \"Rohit\", s)\n",
    "\n",
    "print(newstring)\n",
    "\n",
    "print(s)"
   ]
  },
  {
   "cell_type": "code",
   "execution_count": 26,
   "id": "15276418",
   "metadata": {},
   "outputs": [
    {
     "name": "stdout",
     "output_type": "stream",
     "text": [
      "His name is Virat, Hi Virat\n"
     ]
    }
   ],
   "source": [
    "s = \"His name is Virat, Hi Virat\"\n",
    "\n",
    "p = \"virat\"\n",
    "\n",
    "newstring = re.sub(p, \"Rohit\", s)\n",
    "\n",
    "print(newstring)"
   ]
  },
  {
   "cell_type": "code",
   "execution_count": 27,
   "id": "59bd87ea",
   "metadata": {},
   "outputs": [
    {
     "name": "stdout",
     "output_type": "stream",
     "text": [
      "His name is Virat, Hi Virat\n"
     ]
    }
   ],
   "source": [
    "print(s)"
   ]
  },
  {
   "cell_type": "code",
   "execution_count": null,
   "id": "108f6a67",
   "metadata": {},
   "outputs": [],
   "source": []
  }
 ],
 "metadata": {
  "kernelspec": {
   "display_name": "Python 3 (ipykernel)",
   "language": "python",
   "name": "python3"
  },
  "language_info": {
   "codemirror_mode": {
    "name": "ipython",
    "version": 3
   },
   "file_extension": ".py",
   "mimetype": "text/x-python",
   "name": "python",
   "nbconvert_exporter": "python",
   "pygments_lexer": "ipython3",
   "version": "3.9.12"
  }
 },
 "nbformat": 4,
 "nbformat_minor": 5
}
