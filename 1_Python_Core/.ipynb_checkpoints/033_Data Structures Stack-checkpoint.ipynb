{
 "cells": [
  {
   "cell_type": "markdown",
   "id": "e12ef272",
   "metadata": {},
   "source": [
    "# Data Structures"
   ]
  },
  {
   "cell_type": "code",
   "execution_count": null,
   "id": "17a33498",
   "metadata": {},
   "outputs": [],
   "source": [
    "c\n",
    "\n",
    "int a = 10;  # 2 bytes\n",
    "\n",
    "struct student{\n",
    "    int rollno;\n",
    "    char name[10];\n",
    "    float per;\n",
    "}\n",
    "\n",
    "struct student s1;\n",
    "           int a;"
   ]
  },
  {
   "cell_type": "markdown",
   "id": "ccd9bea9",
   "metadata": {},
   "source": [
    "# Time Complexity"
   ]
  },
  {
   "cell_type": "code",
   "execution_count": null,
   "id": "7ed13591",
   "metadata": {},
   "outputs": [],
   "source": [
    "Big O\n",
    "Omega\n",
    "Theta"
   ]
  },
  {
   "cell_type": "code",
   "execution_count": null,
   "id": "e4907d23",
   "metadata": {},
   "outputs": [],
   "source": [
    "O(n) # n can be - size of array, input strin, length of string"
   ]
  },
  {
   "cell_type": "markdown",
   "id": "a4e7f7f7",
   "metadata": {},
   "source": [
    "## loops"
   ]
  },
  {
   "cell_type": "code",
   "execution_count": null,
   "id": "4e397a8a",
   "metadata": {},
   "outputs": [],
   "source": [
    "O(n^k)  # k is number of loops"
   ]
  },
  {
   "cell_type": "code",
   "execution_count": null,
   "id": "ec2b0703",
   "metadata": {},
   "outputs": [],
   "source": [
    "# O(n^1)\n",
    "\n",
    "for i in range(3):\n",
    "    #code"
   ]
  },
  {
   "cell_type": "code",
   "execution_count": null,
   "id": "78c600cb",
   "metadata": {},
   "outputs": [],
   "source": [
    "# O(n^2)\n",
    "\n",
    "for i in range(3):\n",
    "    for j in range(3):\n",
    "        #code"
   ]
  },
  {
   "cell_type": "markdown",
   "id": "4a1e50a8",
   "metadata": {},
   "source": [
    "## order of magnitude"
   ]
  },
  {
   "cell_type": "code",
   "execution_count": null,
   "id": "50537a13",
   "metadata": {},
   "outputs": [],
   "source": [
    "# O(n)\n",
    "\n",
    "for i in range(3*n):\n",
    "    #code\n",
    "for i in range(n + 5):\n",
    "    #code\n",
    "for i in range(n/2):\n",
    "    #code"
   ]
  },
  {
   "cell_type": "code",
   "execution_count": null,
   "id": "a6fa71f3",
   "metadata": {},
   "outputs": [],
   "source": [
    "# O(n^2)\n",
    "\n",
    "for i in range(3*n):\n",
    "    #code\n",
    "\n",
    "for i in range(n + 5):\n",
    "    for j in range(3):\n",
    "        #code\n",
    "\n",
    "for i in range(n/2):\n",
    "    #code"
   ]
  },
  {
   "cell_type": "code",
   "execution_count": null,
   "id": "7ba98104",
   "metadata": {},
   "outputs": [],
   "source": [
    "# O(n^3)\n",
    "\n",
    "for i in range(n):\n",
    "    for j in range(n):\n",
    "        for i in range(n):\n",
    "            #code"
   ]
  },
  {
   "cell_type": "markdown",
   "id": "151cf946",
   "metadata": {},
   "source": [
    "## several variables"
   ]
  },
  {
   "cell_type": "code",
   "execution_count": null,
   "id": "93b6a095",
   "metadata": {},
   "outputs": [],
   "source": [
    "# O(n^m)\n",
    "\n",
    "for i in range(n):\n",
    "    for j in range(m):\n",
    "        #code"
   ]
  },
  {
   "cell_type": "markdown",
   "id": "fa2d5e40",
   "metadata": {},
   "source": [
    "# Complexity Classes"
   ]
  },
  {
   "cell_type": "code",
   "execution_count": null,
   "id": "69eea79f",
   "metadata": {},
   "outputs": [],
   "source": [
    "O(1) > O(log n) > O(root(n)) > O(n) > O(n log n) > O(n^2) > O(n^3) > O(2^n) > O(n!) > O(n^k) > NP-Hard"
   ]
  },
  {
   "cell_type": "markdown",
   "id": "c329526d",
   "metadata": {},
   "source": [
    "# Stack\n",
    "\n",
    "LIFO (Last In First Out)\n",
    "\n",
    "\n",
    "Operations:\n",
    "1. Push - add a value\n",
    "2. Pop - delete a value\n",
    "3. Display"
   ]
  },
  {
   "cell_type": "code",
   "execution_count": null,
   "id": "45c51c2c",
   "metadata": {},
   "outputs": [],
   "source": [
    "\n",
    "30 top\n",
    "20\n",
    "10"
   ]
  },
  {
   "cell_type": "markdown",
   "id": "e8259a4e",
   "metadata": {},
   "source": [
    "# Stack using python list"
   ]
  },
  {
   "cell_type": "code",
   "execution_count": 1,
   "id": "dcc7dd56",
   "metadata": {},
   "outputs": [
    {
     "name": "stdout",
     "output_type": "stream",
     "text": [
      "[10, 20, 30]\n"
     ]
    }
   ],
   "source": [
    "stack = []\n",
    "\n",
    "stack.append(10)\n",
    "stack.append(20)\n",
    "stack.append(30)\n",
    "\n",
    "print(stack)"
   ]
  },
  {
   "cell_type": "code",
   "execution_count": 2,
   "id": "df56025d",
   "metadata": {},
   "outputs": [],
   "source": [
    "stack.append(50)"
   ]
  },
  {
   "cell_type": "code",
   "execution_count": 3,
   "id": "73143c80",
   "metadata": {},
   "outputs": [
    {
     "name": "stdout",
     "output_type": "stream",
     "text": [
      "[10, 20, 30, 50]\n"
     ]
    }
   ],
   "source": [
    "print(stack)"
   ]
  },
  {
   "cell_type": "code",
   "execution_count": 4,
   "id": "32eb5bec",
   "metadata": {},
   "outputs": [
    {
     "name": "stdout",
     "output_type": "stream",
     "text": [
      "50\n"
     ]
    }
   ],
   "source": [
    "print(stack.pop())"
   ]
  },
  {
   "cell_type": "code",
   "execution_count": 5,
   "id": "2b02b1ef",
   "metadata": {},
   "outputs": [
    {
     "name": "stdout",
     "output_type": "stream",
     "text": [
      "[10, 20, 30]\n"
     ]
    }
   ],
   "source": [
    "print(stack)"
   ]
  },
  {
   "cell_type": "code",
   "execution_count": 6,
   "id": "48c014b0",
   "metadata": {},
   "outputs": [
    {
     "name": "stdout",
     "output_type": "stream",
     "text": [
      "30\n"
     ]
    }
   ],
   "source": [
    "top = stack[-1]\n",
    "\n",
    "print(top)"
   ]
  },
  {
   "cell_type": "markdown",
   "id": "03981cbc",
   "metadata": {},
   "source": [
    "# stack using python classes from scratch"
   ]
  },
  {
   "cell_type": "code",
   "execution_count": 7,
   "id": "3cd12194",
   "metadata": {},
   "outputs": [],
   "source": [
    "class Stack:\n",
    "    \n",
    "    def __init__(self):\n",
    "        self.data = []\n",
    "        self.size = 0\n",
    "    \n",
    "    def __len__(self):\n",
    "        return self.size\n",
    "    \n",
    "    def is_empty(self):\n",
    "        return self.size == 0\n",
    "    \n",
    "    def push(self, value):\n",
    "        self.data.append(value)      #     [].append(10)\n",
    "        self.size += 1\n",
    "    \n",
    "    def top(self):\n",
    "        if self.is_empty():\n",
    "            return \"Stack is Underflow\"\n",
    "        return self.data[-1]\n",
    "    \n",
    "    def pop(self):\n",
    "        if self.is_empty():\n",
    "            return \"Stack is Empty\"\n",
    "        #d = self.data.pop()\n",
    "        r = self.data[-1]\n",
    "        del self.data[-1]\n",
    "        self.size -= 1\n",
    "        return r\n",
    "    \n",
    "    def display(self):\n",
    "        return self.data"
   ]
  },
  {
   "cell_type": "code",
   "execution_count": null,
   "id": "bb9822fb",
   "metadata": {},
   "outputs": [],
   "source": [
    "100  self.data[-1] --> r\n",
    "30\n",
    "20\n",
    "10"
   ]
  },
  {
   "cell_type": "code",
   "execution_count": 8,
   "id": "f136f500",
   "metadata": {},
   "outputs": [],
   "source": [
    "s = Stack()"
   ]
  },
  {
   "cell_type": "code",
   "execution_count": 9,
   "id": "8fdc6e53",
   "metadata": {},
   "outputs": [
    {
     "name": "stdout",
     "output_type": "stream",
     "text": [
      "<class '__main__.Stack'>\n"
     ]
    }
   ],
   "source": [
    "print(type(s))"
   ]
  },
  {
   "cell_type": "code",
   "execution_count": 10,
   "id": "5a1d11df",
   "metadata": {},
   "outputs": [
    {
     "name": "stdout",
     "output_type": "stream",
     "text": [
      "Stack is Underflow\n"
     ]
    }
   ],
   "source": [
    "print(s.top())"
   ]
  },
  {
   "cell_type": "code",
   "execution_count": 11,
   "id": "51611314",
   "metadata": {},
   "outputs": [
    {
     "data": {
      "text/plain": [
       "True"
      ]
     },
     "execution_count": 11,
     "metadata": {},
     "output_type": "execute_result"
    }
   ],
   "source": [
    "s.is_empty()"
   ]
  },
  {
   "cell_type": "code",
   "execution_count": 12,
   "id": "19de5cb9",
   "metadata": {},
   "outputs": [],
   "source": [
    "s.push(10)\n",
    "s.push(20)\n",
    "s.push(100)\n",
    "s.push(33)"
   ]
  },
  {
   "cell_type": "code",
   "execution_count": 13,
   "id": "65e8a8c6",
   "metadata": {},
   "outputs": [
    {
     "name": "stdout",
     "output_type": "stream",
     "text": [
      "[10, 20, 100, 33]\n"
     ]
    }
   ],
   "source": [
    "print(s.display())"
   ]
  },
  {
   "cell_type": "code",
   "execution_count": 14,
   "id": "73dbb5f6",
   "metadata": {},
   "outputs": [
    {
     "name": "stdout",
     "output_type": "stream",
     "text": [
      "33\n"
     ]
    }
   ],
   "source": [
    "print(s.top())"
   ]
  },
  {
   "cell_type": "code",
   "execution_count": 15,
   "id": "a956cc16",
   "metadata": {},
   "outputs": [
    {
     "data": {
      "text/plain": [
       "4"
      ]
     },
     "execution_count": 15,
     "metadata": {},
     "output_type": "execute_result"
    }
   ],
   "source": [
    "s.__len__()"
   ]
  },
  {
   "cell_type": "code",
   "execution_count": 16,
   "id": "19492dde",
   "metadata": {},
   "outputs": [
    {
     "name": "stdout",
     "output_type": "stream",
     "text": [
      "33\n"
     ]
    }
   ],
   "source": [
    "print(s.pop())"
   ]
  },
  {
   "cell_type": "code",
   "execution_count": 17,
   "id": "188099aa",
   "metadata": {},
   "outputs": [
    {
     "data": {
      "text/plain": [
       "[10, 20, 100]"
      ]
     },
     "execution_count": 17,
     "metadata": {},
     "output_type": "execute_result"
    }
   ],
   "source": [
    "s.display()"
   ]
  },
  {
   "cell_type": "code",
   "execution_count": 18,
   "id": "38ede0ca",
   "metadata": {},
   "outputs": [
    {
     "data": {
      "text/plain": [
       "3"
      ]
     },
     "execution_count": 18,
     "metadata": {},
     "output_type": "execute_result"
    }
   ],
   "source": [
    "s.__len__()"
   ]
  },
  {
   "cell_type": "code",
   "execution_count": null,
   "id": "d86d7e5a",
   "metadata": {},
   "outputs": [],
   "source": []
  }
 ],
 "metadata": {
  "kernelspec": {
   "display_name": "Python 3 (ipykernel)",
   "language": "python",
   "name": "python3"
  },
  "language_info": {
   "codemirror_mode": {
    "name": "ipython",
    "version": 3
   },
   "file_extension": ".py",
   "mimetype": "text/x-python",
   "name": "python",
   "nbconvert_exporter": "python",
   "pygments_lexer": "ipython3",
   "version": "3.9.12"
  }
 },
 "nbformat": 4,
 "nbformat_minor": 5
}
