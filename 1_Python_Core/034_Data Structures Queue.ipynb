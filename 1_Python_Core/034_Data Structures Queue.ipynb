{
 "cells": [
  {
   "cell_type": "markdown",
   "id": "406a4c97",
   "metadata": {},
   "source": [
    "# Queue\n",
    "\n",
    "\n",
    "First In First Out (FIFO)"
   ]
  },
  {
   "cell_type": "code",
   "execution_count": null,
   "id": "9caa3663",
   "metadata": {},
   "outputs": [],
   "source": [
    "         None    50    60    70       80\n",
    "                rare                 front       \n",
    "                                   first/top"
   ]
  },
  {
   "cell_type": "code",
   "execution_count": 2,
   "id": "5d328cd4",
   "metadata": {},
   "outputs": [
    {
     "ename": "IndexError",
     "evalue": "list assignment index out of range",
     "output_type": "error",
     "traceback": [
      "\u001b[1;31m---------------------------------------------------------------------------\u001b[0m",
      "\u001b[1;31mIndexError\u001b[0m                                Traceback (most recent call last)",
      "Input \u001b[1;32mIn [2]\u001b[0m, in \u001b[0;36m<cell line: 2>\u001b[1;34m()\u001b[0m\n\u001b[0;32m      1\u001b[0m L \u001b[38;5;241m=\u001b[39m []\n\u001b[1;32m----> 2\u001b[0m L[\u001b[38;5;241m0\u001b[39m] \u001b[38;5;241m=\u001b[39m \u001b[38;5;241m10\u001b[39m\n",
      "\u001b[1;31mIndexError\u001b[0m: list assignment index out of range"
     ]
    }
   ],
   "source": [
    "L = []\n",
    "L[0] = 10"
   ]
  },
  {
   "cell_type": "code",
   "execution_count": null,
   "id": "32a675c8",
   "metadata": {},
   "outputs": [],
   "source": [
    "None ==> NULL"
   ]
  },
  {
   "cell_type": "code",
   "execution_count": 4,
   "id": "0722283f",
   "metadata": {},
   "outputs": [
    {
     "name": "stdout",
     "output_type": "stream",
     "text": [
      "[10, 20, None]\n"
     ]
    }
   ],
   "source": [
    "L = [None, 20, None, \" \", None]\n",
    "L[0] = 10\n",
    "\n",
    "print(L)"
   ]
  },
  {
   "cell_type": "code",
   "execution_count": 5,
   "id": "8f99505b",
   "metadata": {},
   "outputs": [
    {
     "name": "stdout",
     "output_type": "stream",
     "text": [
      "[None, None, None, None]\n"
     ]
    }
   ],
   "source": [
    "n = [None] * 4\n",
    "\n",
    "print(n)"
   ]
  },
  {
   "cell_type": "markdown",
   "id": "e6f2c1d6",
   "metadata": {},
   "source": [
    "# Queue from scratch"
   ]
  },
  {
   "cell_type": "code",
   "execution_count": 50,
   "id": "4219c2a5",
   "metadata": {},
   "outputs": [],
   "source": [
    "class Queue:\n",
    "    \n",
    "    DEFAULT_CAPACITY = 10\n",
    "    \n",
    "    def __init__(self):\n",
    "        self.data = [None] * Queue.DEFAULT_CAPACITY  # [None, None, ......None]\n",
    "        self.size = 0\n",
    "        self.front = -1\n",
    "        self.rare = 0\n",
    "    \n",
    "    def __len__(self):\n",
    "        return self.size\n",
    "    \n",
    "    def is_empty(self):\n",
    "        return self.size == 0\n",
    "    \n",
    "    \n",
    "    def first(self):\n",
    "        if self.is_empty():\n",
    "            return \"Queue is Empty\"\n",
    "        return self.data[self.front]\n",
    "    \n",
    "    # dequeue - delete an element\n",
    "    def dequeue(self):\n",
    "        if self.is_empty():\n",
    "            return \"Queue is Underflow\"\n",
    "        \n",
    "        answer = self.data[self.rare]\n",
    "        \n",
    "        self.data[self.rare] = None\n",
    "        self.rare += 1\n",
    "        self.size -= 1\n",
    "        return answer\n",
    "    \n",
    "    \n",
    "    # enqueue - add an element\n",
    "    def enqueue(self, element):\n",
    "        if self.size == Queue.DEFAULT_CAPACITY:\n",
    "            return \"Queue is Overflow\"\n",
    "        available = self.front + 1\n",
    "        self.data[available] = element\n",
    "        self.front += 1\n",
    "        self.size += 1\n",
    "    \n",
    "    def display(self):\n",
    "        if self.is_empty():\n",
    "            return \"Queue is Underflow\"\n",
    "        else:\n",
    "            i = self.rare\n",
    "            j = self.front\n",
    "            while i <= j:\n",
    "                print(self.data[i], end =\"  \")\n",
    "                i += 1\n"
   ]
  },
  {
   "cell_type": "code",
   "execution_count": 51,
   "id": "5bfcb965",
   "metadata": {
    "scrolled": true
   },
   "outputs": [],
   "source": [
    "q = Queue()"
   ]
  },
  {
   "cell_type": "code",
   "execution_count": 52,
   "id": "22806407",
   "metadata": {},
   "outputs": [
    {
     "data": {
      "text/plain": [
       "0"
      ]
     },
     "execution_count": 52,
     "metadata": {},
     "output_type": "execute_result"
    }
   ],
   "source": [
    "q.__len__()"
   ]
  },
  {
   "cell_type": "code",
   "execution_count": 53,
   "id": "1cb1aff2",
   "metadata": {},
   "outputs": [
    {
     "data": {
      "text/plain": [
       "True"
      ]
     },
     "execution_count": 53,
     "metadata": {},
     "output_type": "execute_result"
    }
   ],
   "source": [
    "q.is_empty()"
   ]
  },
  {
   "cell_type": "code",
   "execution_count": 54,
   "id": "fb1e87bb",
   "metadata": {},
   "outputs": [
    {
     "data": {
      "text/plain": [
       "'Queue is Empty'"
      ]
     },
     "execution_count": 54,
     "metadata": {},
     "output_type": "execute_result"
    }
   ],
   "source": [
    "q.first()\n"
   ]
  },
  {
   "cell_type": "code",
   "execution_count": 55,
   "id": "3b0a9f45",
   "metadata": {},
   "outputs": [],
   "source": [
    "q.enqueue(10)"
   ]
  },
  {
   "cell_type": "code",
   "execution_count": 56,
   "id": "b33a7575",
   "metadata": {},
   "outputs": [],
   "source": [
    "q.enqueue(20)\n",
    "q.enqueue(30)\n",
    "q.enqueue(40)\n",
    "q.enqueue(50)\n",
    "q.enqueue(60)\n"
   ]
  },
  {
   "cell_type": "code",
   "execution_count": 57,
   "id": "8a3e64ae",
   "metadata": {},
   "outputs": [
    {
     "data": {
      "text/plain": [
       "60"
      ]
     },
     "execution_count": 57,
     "metadata": {},
     "output_type": "execute_result"
    }
   ],
   "source": [
    "q.first()"
   ]
  },
  {
   "cell_type": "code",
   "execution_count": 58,
   "id": "7011feb4",
   "metadata": {},
   "outputs": [
    {
     "data": {
      "text/plain": [
       "6"
      ]
     },
     "execution_count": 58,
     "metadata": {},
     "output_type": "execute_result"
    }
   ],
   "source": [
    "q.__len__()"
   ]
  },
  {
   "cell_type": "code",
   "execution_count": 59,
   "id": "70678429",
   "metadata": {},
   "outputs": [
    {
     "name": "stdout",
     "output_type": "stream",
     "text": [
      "10\n"
     ]
    }
   ],
   "source": [
    "print(q.dequeue())"
   ]
  },
  {
   "cell_type": "code",
   "execution_count": 60,
   "id": "d2e3b746",
   "metadata": {},
   "outputs": [
    {
     "data": {
      "text/plain": [
       "[None, 20, 30, 40, 50, 60, None, None, None, None]"
      ]
     },
     "execution_count": 60,
     "metadata": {},
     "output_type": "execute_result"
    }
   ],
   "source": [
    "q.data"
   ]
  },
  {
   "cell_type": "code",
   "execution_count": null,
   "id": "f0cfeebd",
   "metadata": {},
   "outputs": [],
   "source": [
    "       10  \n",
    "-1      0\n",
    "     front"
   ]
  },
  {
   "cell_type": "code",
   "execution_count": 61,
   "id": "fe7c9f33",
   "metadata": {},
   "outputs": [
    {
     "name": "stdout",
     "output_type": "stream",
     "text": [
      "20  30  40  50  60  "
     ]
    }
   ],
   "source": [
    "q.display()"
   ]
  },
  {
   "cell_type": "code",
   "execution_count": null,
   "id": "5b733701",
   "metadata": {},
   "outputs": [],
   "source": []
  }
 ],
 "metadata": {
  "kernelspec": {
   "display_name": "Python 3 (ipykernel)",
   "language": "python",
   "name": "python3"
  },
  "language_info": {
   "codemirror_mode": {
    "name": "ipython",
    "version": 3
   },
   "file_extension": ".py",
   "mimetype": "text/x-python",
   "name": "python",
   "nbconvert_exporter": "python",
   "pygments_lexer": "ipython3",
   "version": "3.9.12"
  }
 },
 "nbformat": 4,
 "nbformat_minor": 5
}
