{
 "cells": [
  {
   "cell_type": "markdown",
   "id": "b94579bf",
   "metadata": {},
   "source": [
    "# Object Orientation\n",
    "\n",
    "\n",
    "7 properties of OOPs\n",
    "\n",
    "1. Class\n",
    "            Updated version of structure(struct in C language )\n",
    "            collection of variables and methods\n",
    "            class is a blueprint\n",
    "2. Object\n",
    "            Run time or real time entity\n",
    "            hashcode - id()\n",
    "3. Abstraction and Encapsulation\n",
    "            Abstraction - Showing only essential features without showing any background details.\n",
    "            Encapsulation - Wrapping up of data in a single unit.\n",
    "4. Inheritance\n",
    "            Acquring properties of one class into another.\n",
    "            code reuse\n",
    "            - single level\n",
    "            - multi level\n",
    "            - hierarchical \n",
    "            - multiple\n",
    "            - hybrid\n",
    "5. Polymorphism\n",
    "            Same name multiple functionalities\n",
    "            - method overloading\n",
    "            - method overriding\n",
    "6. Dynamic memory allocation\n",
    "            Run time memory allocation\n",
    "7. Message passing\n",
    "            Communication between objects"
   ]
  },
  {
   "cell_type": "code",
   "execution_count": null,
   "id": "3a21c14a",
   "metadata": {},
   "outputs": [],
   "source": [
    "# c language\n",
    "\n",
    "int a = 10;\n",
    "\n",
    "struct car{\n",
    "    int carid;\n",
    "    float price;\n",
    "    char name[20];\n",
    "}\n",
    "\n",
    "struct car c1;\n",
    "       int a;"
   ]
  },
  {
   "cell_type": "code",
   "execution_count": null,
   "id": "1a47c475",
   "metadata": {},
   "outputs": [],
   "source": [
    "add()\n",
    "\n",
    "add(a,b)\n",
    "\n",
    "add(x,y,z)\n",
    "\n",
    "add()"
   ]
  },
  {
   "cell_type": "code",
   "execution_count": null,
   "id": "ba1b3c6f",
   "metadata": {},
   "outputs": [],
   "source": [
    "TV blueprint    -  class\n",
    "- wifi\n",
    "- bluetooth\n",
    "- hdmi\n",
    "- usb\n",
    "\n",
    "Actual TV       -  object\n",
    "- product ID\n",
    "\n",
    "remote          - reference/ naming"
   ]
  },
  {
   "cell_type": "code",
   "execution_count": 1,
   "id": "04a35348",
   "metadata": {},
   "outputs": [
    {
     "name": "stdout",
     "output_type": "stream",
     "text": [
      "<class 'int'>\n",
      "1667777653328\n"
     ]
    }
   ],
   "source": [
    "a = 10\n",
    "\n",
    "print(type(a))\n",
    "\n",
    "print(id(a))"
   ]
  },
  {
   "cell_type": "code",
   "execution_count": 2,
   "id": "35d27b3c",
   "metadata": {},
   "outputs": [],
   "source": [
    "class Cricket:\n",
    "    def batting():\n",
    "        print(\"Hello from Batting\")\n"
   ]
  },
  {
   "cell_type": "code",
   "execution_count": 3,
   "id": "fffed1b4",
   "metadata": {},
   "outputs": [
    {
     "ename": "TypeError",
     "evalue": "batting() takes 0 positional arguments but 1 was given",
     "output_type": "error",
     "traceback": [
      "\u001b[1;31m---------------------------------------------------------------------------\u001b[0m",
      "\u001b[1;31mTypeError\u001b[0m                                 Traceback (most recent call last)",
      "Input \u001b[1;32mIn [3]\u001b[0m, in \u001b[0;36m<cell line: 2>\u001b[1;34m()\u001b[0m\n\u001b[0;32m      1\u001b[0m c \u001b[38;5;241m=\u001b[39m Cricket()\n\u001b[1;32m----> 2\u001b[0m \u001b[43mc\u001b[49m\u001b[38;5;241;43m.\u001b[39;49m\u001b[43mbatting\u001b[49m\u001b[43m(\u001b[49m\u001b[43m)\u001b[49m\n",
      "\u001b[1;31mTypeError\u001b[0m: batting() takes 0 positional arguments but 1 was given"
     ]
    }
   ],
   "source": [
    "c = Cricket()\n",
    "c.batting()"
   ]
  },
  {
   "cell_type": "code",
   "execution_count": 5,
   "id": "694e6eea",
   "metadata": {},
   "outputs": [
    {
     "name": "stdout",
     "output_type": "stream",
     "text": [
      "Hello from Batting\n"
     ]
    }
   ],
   "source": [
    "class Cricket:\n",
    "    \n",
    "    def batting(self):      #  self = c\n",
    "        print(\"Hello from Batting\")\n",
    "\n",
    "c = Cricket()\n",
    "c.batting()"
   ]
  },
  {
   "cell_type": "code",
   "execution_count": 6,
   "id": "dae30f21",
   "metadata": {},
   "outputs": [
    {
     "name": "stdout",
     "output_type": "stream",
     "text": [
      "<class '__main__.Cricket'>\n"
     ]
    }
   ],
   "source": [
    "print(type(c))"
   ]
  },
  {
   "cell_type": "code",
   "execution_count": 7,
   "id": "9c137961",
   "metadata": {},
   "outputs": [
    {
     "name": "stdout",
     "output_type": "stream",
     "text": [
      "<__main__.Cricket object at 0x0000017381673970>\n"
     ]
    }
   ],
   "source": [
    "print(c)"
   ]
  },
  {
   "cell_type": "code",
   "execution_count": 8,
   "id": "0c96b46e",
   "metadata": {},
   "outputs": [
    {
     "name": "stdout",
     "output_type": "stream",
     "text": [
      "1595603892592\n"
     ]
    }
   ],
   "source": [
    "print(id(c))"
   ]
  },
  {
   "cell_type": "code",
   "execution_count": 9,
   "id": "e5e24317",
   "metadata": {},
   "outputs": [
    {
     "name": "stdout",
     "output_type": "stream",
     "text": [
      "Hello from Batting\n",
      "<__main__.Cricket object at 0x0000017381673070>\n",
      "<__main__.Cricket object at 0x0000017381673070>\n"
     ]
    }
   ],
   "source": [
    "class Cricket:\n",
    "    \n",
    "    def batting(self):      #  self = c\n",
    "        print(\"Hello from Batting\")\n",
    "        print(self)\n",
    "\n",
    "c = Cricket()\n",
    "c.batting()\n",
    "print(c)"
   ]
  },
  {
   "cell_type": "code",
   "execution_count": 10,
   "id": "df18b4b1",
   "metadata": {},
   "outputs": [
    {
     "name": "stdout",
     "output_type": "stream",
     "text": [
      "<__main__.Cricket object at 0x000001738276BAF0>\n"
     ]
    }
   ],
   "source": [
    "print(Cricket())\n",
    "#       21876983621"
   ]
  },
  {
   "cell_type": "code",
   "execution_count": null,
   "id": "296f8052",
   "metadata": {},
   "outputs": [],
   "source": [
    "# 10 - A\n",
    "# 11 - B\n",
    "# .....\n",
    "# 15 - F"
   ]
  },
  {
   "cell_type": "markdown",
   "id": "2436c60f",
   "metadata": {},
   "source": [
    "## class variables and local variables"
   ]
  },
  {
   "cell_type": "code",
   "execution_count": 11,
   "id": "78209fd6",
   "metadata": {},
   "outputs": [],
   "source": [
    "class Test:\n",
    "    def add(self, a, b):   # a and b are local variables, x and y are class variables\n",
    "        self.x = a         # t.x = 10        t1.x = 7\n",
    "        self.y = b         # t.y = 20        t1.y = 8\n",
    "    \n",
    "    def show(self):\n",
    "        print(self.x)\n",
    "        print(self.y)\n",
    "    \n",
    "t = Test()\n",
    "t.add(10,20)"
   ]
  },
  {
   "cell_type": "code",
   "execution_count": 12,
   "id": "3b56e2e4",
   "metadata": {},
   "outputs": [],
   "source": [
    "t1 = Test()\n",
    "t1.add(7,8)"
   ]
  },
  {
   "cell_type": "code",
   "execution_count": 13,
   "id": "2d5318f4",
   "metadata": {},
   "outputs": [
    {
     "name": "stdout",
     "output_type": "stream",
     "text": [
      "10\n",
      "20\n"
     ]
    }
   ],
   "source": [
    "t.show()"
   ]
  },
  {
   "cell_type": "code",
   "execution_count": 14,
   "id": "bbca9c73",
   "metadata": {},
   "outputs": [
    {
     "name": "stdout",
     "output_type": "stream",
     "text": [
      "7\n",
      "8\n"
     ]
    }
   ],
   "source": [
    "t1.show()"
   ]
  },
  {
   "cell_type": "markdown",
   "id": "3a501a16",
   "metadata": {},
   "source": [
    "# Inheritance\n",
    "\n",
    "Acquring properties of one class into another.\n",
    "\n",
    "\n",
    "code reuse\n",
    "- single level\n",
    "- multi level\n",
    "- hierarchical \n",
    "- multiple\n",
    "- hybrid\n",
    "\n",
    "\n",
    "## Single level Inheritance"
   ]
  },
  {
   "cell_type": "code",
   "execution_count": null,
   "id": "cc81e5fc",
   "metadata": {},
   "outputs": [],
   "source": [
    "A    windows 7\n",
    "|\n",
    "B    windows 11"
   ]
  },
  {
   "cell_type": "code",
   "execution_count": 15,
   "id": "70766d3b",
   "metadata": {},
   "outputs": [
    {
     "name": "stdout",
     "output_type": "stream",
     "text": [
      "start from windows 7\n",
      "add from Class B windows 11\n"
     ]
    }
   ],
   "source": [
    "class A:\n",
    "    \n",
    "    def start(self):\n",
    "        print(\"start from windows 7\")\n",
    "    \n",
    "\n",
    "class B(A):\n",
    "    \n",
    "    def add(self):\n",
    "        print(\"add from Class B windows 11\")\n",
    "    \n",
    "\n",
    "x = A()\n",
    "y = B()\n",
    "\n",
    "x.start()\n",
    "y.add()"
   ]
  },
  {
   "cell_type": "code",
   "execution_count": 16,
   "id": "7a9995d1",
   "metadata": {},
   "outputs": [
    {
     "name": "stdout",
     "output_type": "stream",
     "text": [
      "start from windows 7\n"
     ]
    }
   ],
   "source": [
    "y.start()"
   ]
  },
  {
   "cell_type": "code",
   "execution_count": 17,
   "id": "fa9e1ca6",
   "metadata": {},
   "outputs": [
    {
     "ename": "AttributeError",
     "evalue": "'A' object has no attribute 'add'",
     "output_type": "error",
     "traceback": [
      "\u001b[1;31m---------------------------------------------------------------------------\u001b[0m",
      "\u001b[1;31mAttributeError\u001b[0m                            Traceback (most recent call last)",
      "Input \u001b[1;32mIn [17]\u001b[0m, in \u001b[0;36m<cell line: 1>\u001b[1;34m()\u001b[0m\n\u001b[1;32m----> 1\u001b[0m \u001b[43mx\u001b[49m\u001b[38;5;241;43m.\u001b[39;49m\u001b[43madd\u001b[49m()\n",
      "\u001b[1;31mAttributeError\u001b[0m: 'A' object has no attribute 'add'"
     ]
    }
   ],
   "source": [
    "x.add()"
   ]
  },
  {
   "cell_type": "markdown",
   "id": "be3734da",
   "metadata": {},
   "source": [
    "# constructor\n",
    "\n",
    "it is a special member method of a class"
   ]
  },
  {
   "cell_type": "code",
   "execution_count": null,
   "id": "43cb7e47",
   "metadata": {},
   "outputs": [],
   "source": [
    "__init__()   # magic methods/ dunders"
   ]
  },
  {
   "cell_type": "code",
   "execution_count": 18,
   "id": "5640e73f",
   "metadata": {},
   "outputs": [
    {
     "name": "stdout",
     "output_type": "stream",
     "text": [
      "Constructor from Test\n"
     ]
    }
   ],
   "source": [
    "class Test:\n",
    "    \n",
    "    def __init__(self):\n",
    "        print(\"Constructor from Test\")\n",
    "    \n",
    "t = Test()"
   ]
  },
  {
   "cell_type": "code",
   "execution_count": 20,
   "id": "5ac0ca8b",
   "metadata": {},
   "outputs": [
    {
     "name": "stdout",
     "output_type": "stream",
     "text": [
      "Help on built-in function dir in module builtins:\n",
      "\n",
      "dir(...)\n",
      "    dir([object]) -> list of strings\n",
      "    \n",
      "    If called without an argument, return the names in the current scope.\n",
      "    Else, return an alphabetized list of names comprising (some of) the attributes\n",
      "    of the given object, and of attributes reachable from it.\n",
      "    If the object supplies a method named __dir__, it will be used; otherwise\n",
      "    the default dir() logic is used and returns:\n",
      "      for a module object: the module's attributes.\n",
      "      for a class object:  its attributes, and recursively the attributes\n",
      "        of its bases.\n",
      "      for any other object: its attributes, its class's attributes, and\n",
      "        recursively the attributes of its class's base classes.\n",
      "\n"
     ]
    }
   ],
   "source": [
    "help(dir)"
   ]
  },
  {
   "cell_type": "code",
   "execution_count": 19,
   "id": "97b46fd7",
   "metadata": {},
   "outputs": [
    {
     "data": {
      "text/plain": [
       "['__class__',\n",
       " '__delattr__',\n",
       " '__dict__',\n",
       " '__dir__',\n",
       " '__doc__',\n",
       " '__eq__',\n",
       " '__format__',\n",
       " '__ge__',\n",
       " '__getattribute__',\n",
       " '__gt__',\n",
       " '__hash__',\n",
       " '__init__',\n",
       " '__init_subclass__',\n",
       " '__le__',\n",
       " '__lt__',\n",
       " '__module__',\n",
       " '__ne__',\n",
       " '__new__',\n",
       " '__reduce__',\n",
       " '__reduce_ex__',\n",
       " '__repr__',\n",
       " '__setattr__',\n",
       " '__sizeof__',\n",
       " '__str__',\n",
       " '__subclasshook__',\n",
       " '__weakref__',\n",
       " 'start']"
      ]
     },
     "execution_count": 19,
     "metadata": {},
     "output_type": "execute_result"
    }
   ],
   "source": [
    "dir(A)"
   ]
  },
  {
   "cell_type": "code",
   "execution_count": 21,
   "id": "dd83804b",
   "metadata": {},
   "outputs": [
    {
     "data": {
      "text/plain": [
       "['__class__',\n",
       " '__delattr__',\n",
       " '__dict__',\n",
       " '__dir__',\n",
       " '__doc__',\n",
       " '__eq__',\n",
       " '__format__',\n",
       " '__ge__',\n",
       " '__getattribute__',\n",
       " '__gt__',\n",
       " '__hash__',\n",
       " '__init__',\n",
       " '__init_subclass__',\n",
       " '__le__',\n",
       " '__lt__',\n",
       " '__module__',\n",
       " '__ne__',\n",
       " '__new__',\n",
       " '__reduce__',\n",
       " '__reduce_ex__',\n",
       " '__repr__',\n",
       " '__setattr__',\n",
       " '__sizeof__',\n",
       " '__str__',\n",
       " '__subclasshook__',\n",
       " '__weakref__']"
      ]
     },
     "execution_count": 21,
     "metadata": {},
     "output_type": "execute_result"
    }
   ],
   "source": [
    "dir(t)"
   ]
  },
  {
   "cell_type": "markdown",
   "id": "17b0ddea",
   "metadata": {},
   "source": [
    "## Paramatrized constructor"
   ]
  },
  {
   "cell_type": "code",
   "execution_count": 22,
   "id": "8c9ee1e4",
   "metadata": {},
   "outputs": [
    {
     "ename": "TypeError",
     "evalue": "__init__() missing 2 required positional arguments: 'x' and 'y'",
     "output_type": "error",
     "traceback": [
      "\u001b[1;31m---------------------------------------------------------------------------\u001b[0m",
      "\u001b[1;31mTypeError\u001b[0m                                 Traceback (most recent call last)",
      "Input \u001b[1;32mIn [22]\u001b[0m, in \u001b[0;36m<cell line: 7>\u001b[1;34m()\u001b[0m\n\u001b[0;32m      4\u001b[0m         \u001b[38;5;28mself\u001b[39m\u001b[38;5;241m.\u001b[39mcoin \u001b[38;5;241m=\u001b[39m x\n\u001b[0;32m      5\u001b[0m         \u001b[38;5;28mself\u001b[39m\u001b[38;5;241m.\u001b[39mlife \u001b[38;5;241m=\u001b[39m y\n\u001b[1;32m----> 7\u001b[0m t \u001b[38;5;241m=\u001b[39m \u001b[43mTest\u001b[49m\u001b[43m(\u001b[49m\u001b[43m)\u001b[49m\n",
      "\u001b[1;31mTypeError\u001b[0m: __init__() missing 2 required positional arguments: 'x' and 'y'"
     ]
    }
   ],
   "source": [
    "class Test:\n",
    "    \n",
    "    def __init__(self, x, y):\n",
    "        self.coin = x\n",
    "        self.life = y\n",
    "    \n",
    "t = Test()"
   ]
  },
  {
   "cell_type": "code",
   "execution_count": 23,
   "id": "9a692676",
   "metadata": {},
   "outputs": [],
   "source": [
    "class Test:\n",
    "    \n",
    "    def __init__(self, x, y):\n",
    "        self.coin = x\n",
    "        self.life = y\n",
    "    \n",
    "t = Test(1000, 3)"
   ]
  },
  {
   "cell_type": "code",
   "execution_count": 24,
   "id": "f4dff7c0",
   "metadata": {},
   "outputs": [
    {
     "name": "stdout",
     "output_type": "stream",
     "text": [
      "1000\n"
     ]
    }
   ],
   "source": [
    "print(t.coin)"
   ]
  },
  {
   "cell_type": "code",
   "execution_count": 25,
   "id": "ad985807",
   "metadata": {},
   "outputs": [
    {
     "name": "stdout",
     "output_type": "stream",
     "text": [
      "3\n"
     ]
    }
   ],
   "source": [
    "print(t.life)"
   ]
  },
  {
   "cell_type": "code",
   "execution_count": 1,
   "id": "a80760ab",
   "metadata": {},
   "outputs": [],
   "source": [
    "# help(filter)"
   ]
  },
  {
   "cell_type": "code",
   "execution_count": null,
   "id": "81a73b82",
   "metadata": {},
   "outputs": [],
   "source": [
    "filter(add, l)"
   ]
  },
  {
   "cell_type": "code",
   "execution_count": 2,
   "id": "dedabe0f",
   "metadata": {
    "scrolled": false
   },
   "outputs": [],
   "source": [
    "# help(str)"
   ]
  },
  {
   "cell_type": "markdown",
   "id": "bdff1ad5",
   "metadata": {},
   "source": [
    "# Constructor in Inheritance"
   ]
  },
  {
   "cell_type": "code",
   "execution_count": 4,
   "id": "73998bb1",
   "metadata": {},
   "outputs": [],
   "source": [
    "class A:\n",
    "    def __init__(self):\n",
    "        print(\"Init A\")\n",
    "    \n",
    "    def add(self):\n",
    "        print(\"Add A\")\n",
    "    \n",
    "\n",
    "class B(A):\n",
    "    def __init__(self):\n",
    "        print(\"Init B\")\n",
    "    \n",
    "    def sub(self):\n",
    "        print(\"Sub B\")"
   ]
  },
  {
   "cell_type": "code",
   "execution_count": 5,
   "id": "1ef0eb52",
   "metadata": {},
   "outputs": [
    {
     "name": "stdout",
     "output_type": "stream",
     "text": [
      "Init A\n",
      "Init B\n"
     ]
    }
   ],
   "source": [
    "x = A()\n",
    "y = B()"
   ]
  },
  {
   "cell_type": "code",
   "execution_count": 6,
   "id": "041d61ad",
   "metadata": {},
   "outputs": [],
   "source": [
    "class A:\n",
    "    def __init__(self):\n",
    "        print(\"Init A\")\n",
    "    \n",
    "    def add(self):\n",
    "        print(\"Add A\")\n",
    "    \n",
    "\n",
    "class B(A):\n",
    "    def __init__(self):\n",
    "        A.__init__(self)\n",
    "        print(\"Init B\")\n",
    "    \n",
    "    def sub(self):\n",
    "        print(\"Sub B\")"
   ]
  },
  {
   "cell_type": "code",
   "execution_count": 7,
   "id": "56b9a1e8",
   "metadata": {},
   "outputs": [
    {
     "name": "stdout",
     "output_type": "stream",
     "text": [
      "Init A\n",
      "Init A\n",
      "Init B\n"
     ]
    }
   ],
   "source": [
    "x = A()\n",
    "y = B()"
   ]
  },
  {
   "cell_type": "markdown",
   "id": "d320bdb7",
   "metadata": {},
   "source": [
    "## Multi Level Inheritance"
   ]
  },
  {
   "cell_type": "code",
   "execution_count": null,
   "id": "fb1c3f62",
   "metadata": {},
   "outputs": [],
   "source": [
    "A\n",
    "|\n",
    "B\n",
    "|\n",
    "C"
   ]
  },
  {
   "cell_type": "code",
   "execution_count": 8,
   "id": "6e864e97",
   "metadata": {},
   "outputs": [
    {
     "name": "stdout",
     "output_type": "stream",
     "text": [
      "Show C\n",
      "Sub B\n",
      "Add A\n"
     ]
    }
   ],
   "source": [
    "class A:\n",
    "    def add(self):\n",
    "        print(\"Add A\")\n",
    "    \n",
    "class B(A):\n",
    "    def sub(self):\n",
    "        print(\"Sub B\")\n",
    "    \n",
    "class C(B):\n",
    "    def show(self):\n",
    "        print(\"Show C\")\n",
    "    \n",
    "z = C()\n",
    "z.show()\n",
    "z.sub()\n",
    "z.add()"
   ]
  },
  {
   "cell_type": "markdown",
   "id": "c655f71a",
   "metadata": {},
   "source": [
    "## Hierarchical Inheritance"
   ]
  },
  {
   "cell_type": "code",
   "execution_count": null,
   "id": "2b4d2bc5",
   "metadata": {},
   "outputs": [],
   "source": [
    "        A\n",
    "    B       C"
   ]
  },
  {
   "cell_type": "code",
   "execution_count": 9,
   "id": "e17724cd",
   "metadata": {},
   "outputs": [
    {
     "name": "stdout",
     "output_type": "stream",
     "text": [
      "Show C\n",
      "Add A\n"
     ]
    },
    {
     "ename": "AttributeError",
     "evalue": "'C' object has no attribute 'sub'",
     "output_type": "error",
     "traceback": [
      "\u001b[1;31m---------------------------------------------------------------------------\u001b[0m",
      "\u001b[1;31mAttributeError\u001b[0m                            Traceback (most recent call last)",
      "Input \u001b[1;32mIn [9]\u001b[0m, in \u001b[0;36m<cell line: 17>\u001b[1;34m()\u001b[0m\n\u001b[0;32m     14\u001b[0m z\u001b[38;5;241m.\u001b[39mshow()\n\u001b[0;32m     16\u001b[0m z\u001b[38;5;241m.\u001b[39madd()\n\u001b[1;32m---> 17\u001b[0m \u001b[43mz\u001b[49m\u001b[38;5;241;43m.\u001b[39;49m\u001b[43msub\u001b[49m()\n",
      "\u001b[1;31mAttributeError\u001b[0m: 'C' object has no attribute 'sub'"
     ]
    }
   ],
   "source": [
    "class A:\n",
    "    def add(self):\n",
    "        print(\"Add A\")\n",
    "    \n",
    "class B(A):\n",
    "    def sub(self):\n",
    "        print(\"Sub B\")\n",
    "    \n",
    "class C(A):\n",
    "    def show(self):\n",
    "        print(\"Show C\")\n",
    "    \n",
    "z = C()\n",
    "z.show()\n",
    "\n",
    "z.add()\n",
    "z.sub()"
   ]
  },
  {
   "cell_type": "markdown",
   "id": "017cc6b9",
   "metadata": {},
   "source": [
    "## Multiple Inheritance\n",
    "\n",
    "C3 - algorithm to solve ambiguty error\n",
    "\n",
    "MRO - Method Resolution Order"
   ]
  },
  {
   "cell_type": "code",
   "execution_count": null,
   "id": "e90b4da6",
   "metadata": {},
   "outputs": [],
   "source": [
    "A     B\n",
    "   C"
   ]
  },
  {
   "cell_type": "code",
   "execution_count": 10,
   "id": "18ab32c8",
   "metadata": {},
   "outputs": [
    {
     "name": "stdout",
     "output_type": "stream",
     "text": [
      "Show C\n",
      "Add A\n",
      "Sub B\n"
     ]
    }
   ],
   "source": [
    "class A:\n",
    "    def add(self):\n",
    "        print(\"Add A\")\n",
    "    \n",
    "class B:\n",
    "    def sub(self):\n",
    "        print(\"Sub B\")\n",
    "    \n",
    "class C(A,B):\n",
    "    def show(self):\n",
    "        print(\"Show C\")\n",
    "    \n",
    "z = C()\n",
    "z.show()\n",
    "z.add()\n",
    "z.sub()"
   ]
  },
  {
   "cell_type": "code",
   "execution_count": 11,
   "id": "f28845b1",
   "metadata": {},
   "outputs": [
    {
     "name": "stdout",
     "output_type": "stream",
     "text": [
      "Start A\n"
     ]
    }
   ],
   "source": [
    "class A:\n",
    "    def start(self):        # ambiguty error\n",
    "        print(\"Start A\")\n",
    "    \n",
    "class B:\n",
    "    def start(self):\n",
    "        print(\"Start B\")\n",
    "    \n",
    "class C(A,B):\n",
    "    def show(self):\n",
    "        print(\"Show C\")\n",
    "    \n",
    "z = C()\n",
    "z.start()"
   ]
  },
  {
   "cell_type": "code",
   "execution_count": 12,
   "id": "4cd9c118",
   "metadata": {},
   "outputs": [
    {
     "name": "stdout",
     "output_type": "stream",
     "text": [
      "Start B\n"
     ]
    }
   ],
   "source": [
    "class A:\n",
    "    def start(self):        # ambiguty error\n",
    "        print(\"Start A\")\n",
    "    \n",
    "class B:\n",
    "    def start(self):\n",
    "        print(\"Start B\")\n",
    "    \n",
    "class C(B,A):\n",
    "    def show(self):\n",
    "        print(\"Show C\")\n",
    "    \n",
    "z = C()\n",
    "z.start()"
   ]
  },
  {
   "cell_type": "code",
   "execution_count": 13,
   "id": "5782abcc",
   "metadata": {},
   "outputs": [
    {
     "name": "stdout",
     "output_type": "stream",
     "text": [
      "(<class '__main__.C'>, <class '__main__.B'>, <class '__main__.A'>, <class 'object'>)\n"
     ]
    }
   ],
   "source": [
    "print(C.__mro__)"
   ]
  },
  {
   "cell_type": "code",
   "execution_count": 15,
   "id": "5468efde",
   "metadata": {},
   "outputs": [
    {
     "name": "stdout",
     "output_type": "stream",
     "text": [
      "Start A\n",
      "(<class '__main__.C'>, <class '__main__.A'>, <class '__main__.B'>, <class 'object'>)\n"
     ]
    }
   ],
   "source": [
    "class A:\n",
    "    def start(self):        # ambiguty error\n",
    "        print(\"Start A\")\n",
    "    \n",
    "class B:\n",
    "    def start(self):\n",
    "        print(\"Start B\")\n",
    "    \n",
    "class C(A,B):\n",
    "    def show(self):\n",
    "        print(\"Show C\")\n",
    "    \n",
    "z = C()\n",
    "z.start()\n",
    "print(C.__mro__)"
   ]
  },
  {
   "cell_type": "code",
   "execution_count": 17,
   "id": "19185489",
   "metadata": {
    "scrolled": false
   },
   "outputs": [],
   "source": [
    "# help(int)"
   ]
  },
  {
   "cell_type": "markdown",
   "id": "ecec863b",
   "metadata": {},
   "source": [
    "## Hybrid Inheritance"
   ]
  },
  {
   "cell_type": "code",
   "execution_count": null,
   "id": "08c32528",
   "metadata": {},
   "outputs": [],
   "source": [
    "        A\n",
    "    B       C\n",
    "        D"
   ]
  },
  {
   "cell_type": "code",
   "execution_count": 19,
   "id": "00bfc12a",
   "metadata": {},
   "outputs": [
    {
     "name": "stdout",
     "output_type": "stream",
     "text": [
      "Start B\n",
      "(<class '__main__.D'>, <class '__main__.B'>, <class '__main__.C'>, <class '__main__.A'>, <class 'object'>)\n"
     ]
    }
   ],
   "source": [
    "class A:\n",
    "    def start(self):        # ambiguty error\n",
    "        print(\"Start A\")\n",
    "    \n",
    "class B(A):\n",
    "    def start(self):\n",
    "        print(\"Start B\")\n",
    "    \n",
    "class C(A):\n",
    "    def show(self):\n",
    "        print(\"Show C\")\n",
    "    \n",
    "class D(B,C):\n",
    "    def display(self):\n",
    "        print(\"Display D\")\n",
    "z = D()\n",
    "z.start()\n",
    "print(D.__mro__)"
   ]
  },
  {
   "cell_type": "markdown",
   "id": "135164db",
   "metadata": {},
   "source": [
    "## Method Overloading"
   ]
  },
  {
   "cell_type": "code",
   "execution_count": 23,
   "id": "ab5b311e",
   "metadata": {},
   "outputs": [
    {
     "name": "stdout",
     "output_type": "stream",
     "text": [
      "20\n"
     ]
    }
   ],
   "source": [
    "a = 10\n",
    "a = 20\n",
    "print(a)"
   ]
  },
  {
   "cell_type": "code",
   "execution_count": 25,
   "id": "f40712fc",
   "metadata": {},
   "outputs": [
    {
     "name": "stdout",
     "output_type": "stream",
     "text": [
      "<class 'function'>\n"
     ]
    }
   ],
   "source": [
    "print(type(play))"
   ]
  },
  {
   "cell_type": "code",
   "execution_count": 21,
   "id": "78e87e3e",
   "metadata": {},
   "outputs": [],
   "source": [
    "def play(a,b):\n",
    "    print(a)\n",
    "    print(b)\n",
    "\n",
    "def play(x,y,z):\n",
    "    print(x)\n",
    "    print(y)\n",
    "    print(z)\n"
   ]
  },
  {
   "cell_type": "code",
   "execution_count": 22,
   "id": "2300d671",
   "metadata": {},
   "outputs": [
    {
     "ename": "TypeError",
     "evalue": "play() missing 1 required positional argument: 'z'",
     "output_type": "error",
     "traceback": [
      "\u001b[1;31m---------------------------------------------------------------------------\u001b[0m",
      "\u001b[1;31mTypeError\u001b[0m                                 Traceback (most recent call last)",
      "Input \u001b[1;32mIn [22]\u001b[0m, in \u001b[0;36m<cell line: 1>\u001b[1;34m()\u001b[0m\n\u001b[1;32m----> 1\u001b[0m \u001b[43mplay\u001b[49m\u001b[43m(\u001b[49m\u001b[38;5;241;43m10\u001b[39;49m\u001b[43m,\u001b[49m\u001b[38;5;241;43m20\u001b[39;49m\u001b[43m)\u001b[49m\n",
      "\u001b[1;31mTypeError\u001b[0m: play() missing 1 required positional argument: 'z'"
     ]
    }
   ],
   "source": [
    "play(10,20)"
   ]
  },
  {
   "cell_type": "code",
   "execution_count": 26,
   "id": "3b3c78f5",
   "metadata": {},
   "outputs": [
    {
     "name": "stdout",
     "output_type": "stream",
     "text": [
      "1\n",
      "2\n",
      "3\n"
     ]
    }
   ],
   "source": [
    "play(1,2,3)"
   ]
  },
  {
   "cell_type": "markdown",
   "id": "beed4560",
   "metadata": {},
   "source": [
    "## method overriding"
   ]
  },
  {
   "cell_type": "code",
   "execution_count": 28,
   "id": "d8167482",
   "metadata": {},
   "outputs": [
    {
     "name": "stdout",
     "output_type": "stream",
     "text": [
      "Constructor A\n",
      "Constructor B\n"
     ]
    }
   ],
   "source": [
    "class A:\n",
    "    \n",
    "    def __init__(self):\n",
    "        self.x = \"Constructor A\"\n",
    "    \n",
    "    def show(self):\n",
    "        print(self.x)\n",
    "    \n",
    "class B(A):\n",
    "    def __init__(self):\n",
    "        self.x = \"Constructor B\"\n",
    "    \n",
    "    def show(self):\n",
    "        print(self.x)\n",
    "    \n",
    "z1 = A()\n",
    "z2 = B()\n",
    "\n",
    "z1.show()\n",
    "z2.show()"
   ]
  },
  {
   "cell_type": "code",
   "execution_count": 29,
   "id": "30a7560c",
   "metadata": {},
   "outputs": [
    {
     "name": "stdout",
     "output_type": "stream",
     "text": [
      "2\n"
     ]
    }
   ],
   "source": [
    "def add():\n",
    "    print(1)\n",
    "\n",
    "def add():\n",
    "    print(2)\n",
    "\n",
    "add()"
   ]
  },
  {
   "cell_type": "markdown",
   "id": "c6dfe4fb",
   "metadata": {},
   "source": [
    "## operator overloading\n"
   ]
  },
  {
   "cell_type": "code",
   "execution_count": 1,
   "id": "76566c6a",
   "metadata": {},
   "outputs": [
    {
     "name": "stdout",
     "output_type": "stream",
     "text": [
      "16\n",
      "Hello India\n",
      "12\n"
     ]
    }
   ],
   "source": [
    "print( 1 + 15)\n",
    "\n",
    "print(\"Hello\" + \" India\")\n",
    "\n",
    "print(6 * 2)"
   ]
  },
  {
   "cell_type": "code",
   "execution_count": 2,
   "id": "d962497a",
   "metadata": {},
   "outputs": [
    {
     "name": "stdout",
     "output_type": "stream",
     "text": [
      "8\n",
      "16\n"
     ]
    }
   ],
   "source": [
    "class Indore:\n",
    "    \n",
    "    def __init__(self,x,y):\n",
    "        self.x = x\n",
    "        self.y = y\n",
    "    \n",
    "    #            f      s\n",
    "    def __add__(self, other):\n",
    "        return Indore(self.x + other.x, self.y + other.y)\n",
    "    #          Indore(f.x    +   s.x  ,   f.y  +   s.y)\n",
    "    #          Indore(  5     +    3   ,    7   +    9)\n",
    "    #          Indore(8,16)\n",
    "\n",
    "f = Indore(5,7)\n",
    "s = Indore(3,9)\n",
    "\n",
    "r = f + s    # f.__add__(s)\n",
    "#r= Indore(8,16)\n",
    "\n",
    "print(r.x)\n",
    "print(r.y)"
   ]
  },
  {
   "cell_type": "code",
   "execution_count": null,
   "id": "06531e91",
   "metadata": {},
   "outputs": [],
   "source": [
    "object.__add__(self,other)\n",
    "object.__sub__(self,other)\n",
    "\n",
    "object.__mul__(self,other)\n",
    "\n",
    "object.__floordiv__(self,other)\n",
    "\n",
    "object.__truediv__(self,other)\n",
    "\n",
    "object.__mod__(self,other)\n",
    "\n",
    "object.__pow__(self,other)\n",
    "\n",
    "object.__lshift__(self,other)\n",
    "\n",
    "object.__rshift__(self,other)\n",
    "\n",
    "object.__and__(self,other)\n",
    "\n",
    "object.__not__(self,other)\n",
    "\n",
    "object.__or__(self,other)\n",
    "\n",
    "object.__xor__(self,other)\n",
    "\n",
    "object.__lt__(self,other)\n",
    "\n",
    "object.__gt__(self,other)\n",
    "\n",
    "object.__eq__(self,other)\n"
   ]
  },
  {
   "cell_type": "markdown",
   "id": "4214ab97",
   "metadata": {},
   "source": [
    "## Object LIfecycle"
   ]
  },
  {
   "cell_type": "code",
   "execution_count": null,
   "id": "ce760e73",
   "metadata": {},
   "outputs": [],
   "source": [
    "definition  -->  instantiation  -->  destroyed\n",
    "\n",
    "#   new               init             del"
   ]
  },
  {
   "cell_type": "code",
   "execution_count": null,
   "id": "1eb0f221",
   "metadata": {},
   "outputs": [],
   "source": [
    "# garbage collection"
   ]
  },
  {
   "cell_type": "markdown",
   "id": "0d6c7e3e",
   "metadata": {},
   "source": [
    "### reference count"
   ]
  },
  {
   "cell_type": "code",
   "execution_count": 3,
   "id": "906aca87",
   "metadata": {},
   "outputs": [
    {
     "name": "stdout",
     "output_type": "stream",
     "text": [
      "987655431\n"
     ]
    },
    {
     "ename": "NameError",
     "evalue": "name 'a' is not defined",
     "output_type": "error",
     "traceback": [
      "\u001b[1;31m---------------------------------------------------------------------------\u001b[0m",
      "\u001b[1;31mNameError\u001b[0m                                 Traceback (most recent call last)",
      "Input \u001b[1;32mIn [3]\u001b[0m, in \u001b[0;36m<cell line: 7>\u001b[1;34m()\u001b[0m\n\u001b[0;32m      4\u001b[0m \u001b[38;5;28;01mdel\u001b[39;00m a\n\u001b[0;32m      6\u001b[0m \u001b[38;5;28mprint\u001b[39m(b)\n\u001b[1;32m----> 7\u001b[0m \u001b[38;5;28mprint\u001b[39m(\u001b[43ma\u001b[49m)\n",
      "\u001b[1;31mNameError\u001b[0m: name 'a' is not defined"
     ]
    }
   ],
   "source": [
    "a = 987655431\n",
    "b = a\n",
    "\n",
    "del a\n",
    "\n",
    "print(b)\n",
    "print(a)"
   ]
  },
  {
   "cell_type": "code",
   "execution_count": 5,
   "id": "75a7a57e",
   "metadata": {},
   "outputs": [
    {
     "name": "stdout",
     "output_type": "stream",
     "text": [
      "4\n"
     ]
    }
   ],
   "source": [
    "import sys\n",
    "\n",
    "a = 9876554312345\n",
    "\n",
    "b = a\n",
    "\n",
    "print(sys.getrefcount(a))"
   ]
  },
  {
   "cell_type": "code",
   "execution_count": 6,
   "id": "a8db660e",
   "metadata": {},
   "outputs": [],
   "source": [
    "del b"
   ]
  },
  {
   "cell_type": "code",
   "execution_count": 7,
   "id": "ad8cc5b5",
   "metadata": {},
   "outputs": [
    {
     "name": "stdout",
     "output_type": "stream",
     "text": [
      "2\n"
     ]
    }
   ],
   "source": [
    "print(sys.getrefcount(a))"
   ]
  },
  {
   "cell_type": "code",
   "execution_count": 9,
   "id": "757787ae",
   "metadata": {},
   "outputs": [
    {
     "ename": "NameError",
     "evalue": "name 'a' is not defined",
     "output_type": "error",
     "traceback": [
      "\u001b[1;31m---------------------------------------------------------------------------\u001b[0m",
      "\u001b[1;31mNameError\u001b[0m                                 Traceback (most recent call last)",
      "Input \u001b[1;32mIn [9]\u001b[0m, in \u001b[0;36m<cell line: 1>\u001b[1;34m()\u001b[0m\n\u001b[1;32m----> 1\u001b[0m \u001b[38;5;28;01mdel\u001b[39;00m a\n\u001b[0;32m      3\u001b[0m \u001b[38;5;28mprint\u001b[39m(sys\u001b[38;5;241m.\u001b[39mgetrefcount(a))\n",
      "\u001b[1;31mNameError\u001b[0m: name 'a' is not defined"
     ]
    }
   ],
   "source": [
    "del a\n",
    "\n",
    "print(sys.getrefcount(a))"
   ]
  },
  {
   "cell_type": "code",
   "execution_count": 10,
   "id": "c9ad562b",
   "metadata": {},
   "outputs": [
    {
     "name": "stdout",
     "output_type": "stream",
     "text": [
      "2291\n"
     ]
    }
   ],
   "source": [
    "a = 10\n",
    "print(sys.getrefcount(a))"
   ]
  },
  {
   "cell_type": "markdown",
   "id": "f186b376",
   "metadata": {},
   "source": [
    "# Set\n",
    "\n",
    "unordered and unindexed data structure\n",
    "\n",
    "sets are mutable"
   ]
  },
  {
   "cell_type": "code",
   "execution_count": 11,
   "id": "0826300c",
   "metadata": {},
   "outputs": [
    {
     "name": "stdout",
     "output_type": "stream",
     "text": [
      "{1, 2, 3, 4, 5, 6, 7}\n",
      "<class 'set'>\n"
     ]
    }
   ],
   "source": [
    "n = {1,2,3,4,5,6,7}\n",
    "\n",
    "print(n)\n",
    "\n",
    "print(type(n))"
   ]
  },
  {
   "cell_type": "code",
   "execution_count": 12,
   "id": "9deb50f4",
   "metadata": {},
   "outputs": [
    {
     "name": "stdout",
     "output_type": "stream",
     "text": [
      "{}\n",
      "<class 'dict'>\n"
     ]
    }
   ],
   "source": [
    "a = {}\n",
    "\n",
    "print(a)\n",
    "\n",
    "print(type(a))"
   ]
  },
  {
   "cell_type": "code",
   "execution_count": 13,
   "id": "8799ee8a",
   "metadata": {},
   "outputs": [
    {
     "name": "stdout",
     "output_type": "stream",
     "text": [
      "set()\n",
      "<class 'set'>\n"
     ]
    }
   ],
   "source": [
    "# empty set\n",
    "n = set()\n",
    "\n",
    "print(n)\n",
    "\n",
    "print(type(n))"
   ]
  },
  {
   "cell_type": "code",
   "execution_count": 14,
   "id": "ebd05476",
   "metadata": {},
   "outputs": [
    {
     "name": "stdout",
     "output_type": "stream",
     "text": [
      "{'z', 4, 'a'}\n"
     ]
    }
   ],
   "source": [
    "a = set(['a',4,'z'])\n",
    "\n",
    "print(a)"
   ]
  },
  {
   "cell_type": "code",
   "execution_count": 15,
   "id": "62bb5571",
   "metadata": {},
   "outputs": [
    {
     "ename": "TypeError",
     "evalue": "'set' object is not subscriptable",
     "output_type": "error",
     "traceback": [
      "\u001b[1;31m---------------------------------------------------------------------------\u001b[0m",
      "\u001b[1;31mTypeError\u001b[0m                                 Traceback (most recent call last)",
      "Input \u001b[1;32mIn [15]\u001b[0m, in \u001b[0;36m<cell line: 1>\u001b[1;34m()\u001b[0m\n\u001b[1;32m----> 1\u001b[0m \u001b[43ma\u001b[49m\u001b[43m[\u001b[49m\u001b[38;5;241;43m0\u001b[39;49m\u001b[43m]\u001b[49m\n",
      "\u001b[1;31mTypeError\u001b[0m: 'set' object is not subscriptable"
     ]
    }
   ],
   "source": [
    "a[0]"
   ]
  },
  {
   "cell_type": "code",
   "execution_count": 16,
   "id": "28053428",
   "metadata": {},
   "outputs": [
    {
     "name": "stdout",
     "output_type": "stream",
     "text": [
      "{1, 2, 4, 5, 6, 7}\n"
     ]
    }
   ],
   "source": [
    "s = {1,2,2,2,4,5,6,6,6,7,7}\n",
    "print(s)"
   ]
  },
  {
   "cell_type": "markdown",
   "id": "55547614",
   "metadata": {},
   "source": [
    "## set operations\n",
    "\n",
    "#### union"
   ]
  },
  {
   "cell_type": "code",
   "execution_count": 17,
   "id": "5e71fe07",
   "metadata": {},
   "outputs": [
    {
     "name": "stdout",
     "output_type": "stream",
     "text": [
      "{1, 2, 3, 4, 5, 6, 7, 8, 9}\n"
     ]
    }
   ],
   "source": [
    "f = {1,2,3,4,5,6}\n",
    "s = {4,5,6,7,8,9}\n",
    "\n",
    "print(f | s)   # union"
   ]
  },
  {
   "cell_type": "markdown",
   "id": "982f8cb1",
   "metadata": {},
   "source": [
    "#### intersection"
   ]
  },
  {
   "cell_type": "code",
   "execution_count": 18,
   "id": "a5c5d337",
   "metadata": {},
   "outputs": [
    {
     "name": "stdout",
     "output_type": "stream",
     "text": [
      "{4, 5, 6}\n"
     ]
    }
   ],
   "source": [
    "f = {1,2,3,4,5,6}\n",
    "s = {4,5,6,7,8,9}\n",
    "\n",
    "print(f & s)   # intersection"
   ]
  },
  {
   "cell_type": "markdown",
   "id": "dd7f75e8",
   "metadata": {},
   "source": [
    "#### difference"
   ]
  },
  {
   "cell_type": "code",
   "execution_count": 19,
   "id": "7de90f45",
   "metadata": {},
   "outputs": [
    {
     "name": "stdout",
     "output_type": "stream",
     "text": [
      "{1, 2, 3}\n"
     ]
    }
   ],
   "source": [
    "f = {1,2,3,4,5,6}\n",
    "s = {4,5,6,7,8,9}\n",
    "\n",
    "print(f - s)   # difference"
   ]
  },
  {
   "cell_type": "code",
   "execution_count": 20,
   "id": "f2753abf",
   "metadata": {},
   "outputs": [
    {
     "name": "stdout",
     "output_type": "stream",
     "text": [
      "{8, 9, 7}\n"
     ]
    }
   ],
   "source": [
    "f = {1,2,3,4,5,6}\n",
    "s = {4,5,6,7,8,9}\n",
    "\n",
    "print(s - f)   # difference"
   ]
  },
  {
   "cell_type": "markdown",
   "id": "514b8044",
   "metadata": {},
   "source": [
    "#### symmetry"
   ]
  },
  {
   "cell_type": "code",
   "execution_count": 21,
   "id": "39e4e601",
   "metadata": {},
   "outputs": [
    {
     "name": "stdout",
     "output_type": "stream",
     "text": [
      "{1, 2, 3, 4, 5, 6}\n",
      "{4, 5, 6, 7, 8, 9}\n",
      "{1, 2, 3, 7, 8, 9}\n"
     ]
    }
   ],
   "source": [
    "print(f)\n",
    "print(s)\n",
    "\n",
    "print(f ^ s)"
   ]
  },
  {
   "cell_type": "markdown",
   "id": "100c89ef",
   "metadata": {},
   "source": [
    "## set functions"
   ]
  },
  {
   "cell_type": "code",
   "execution_count": 22,
   "id": "e6a07cc0",
   "metadata": {},
   "outputs": [
    {
     "name": "stdout",
     "output_type": "stream",
     "text": [
      "6\n",
      "21\n",
      "6\n",
      "1\n"
     ]
    }
   ],
   "source": [
    "f = {1,2,3,4,5,6}\n",
    "\n",
    "print(len(f))\n",
    "print(sum(f))\n",
    "print(max(f))\n",
    "print(min(f))"
   ]
  },
  {
   "cell_type": "code",
   "execution_count": 23,
   "id": "be6cb257",
   "metadata": {
    "scrolled": false
   },
   "outputs": [
    {
     "name": "stdout",
     "output_type": "stream",
     "text": [
      "Help on class set in module builtins:\n",
      "\n",
      "class set(object)\n",
      " |  set() -> new empty set object\n",
      " |  set(iterable) -> new set object\n",
      " |  \n",
      " |  Build an unordered collection of unique elements.\n",
      " |  \n",
      " |  Methods defined here:\n",
      " |  \n",
      " |  __and__(self, value, /)\n",
      " |      Return self&value.\n",
      " |  \n",
      " |  __contains__(...)\n",
      " |      x.__contains__(y) <==> y in x.\n",
      " |  \n",
      " |  __eq__(self, value, /)\n",
      " |      Return self==value.\n",
      " |  \n",
      " |  __ge__(self, value, /)\n",
      " |      Return self>=value.\n",
      " |  \n",
      " |  __getattribute__(self, name, /)\n",
      " |      Return getattr(self, name).\n",
      " |  \n",
      " |  __gt__(self, value, /)\n",
      " |      Return self>value.\n",
      " |  \n",
      " |  __iand__(self, value, /)\n",
      " |      Return self&=value.\n",
      " |  \n",
      " |  __init__(self, /, *args, **kwargs)\n",
      " |      Initialize self.  See help(type(self)) for accurate signature.\n",
      " |  \n",
      " |  __ior__(self, value, /)\n",
      " |      Return self|=value.\n",
      " |  \n",
      " |  __isub__(self, value, /)\n",
      " |      Return self-=value.\n",
      " |  \n",
      " |  __iter__(self, /)\n",
      " |      Implement iter(self).\n",
      " |  \n",
      " |  __ixor__(self, value, /)\n",
      " |      Return self^=value.\n",
      " |  \n",
      " |  __le__(self, value, /)\n",
      " |      Return self<=value.\n",
      " |  \n",
      " |  __len__(self, /)\n",
      " |      Return len(self).\n",
      " |  \n",
      " |  __lt__(self, value, /)\n",
      " |      Return self<value.\n",
      " |  \n",
      " |  __ne__(self, value, /)\n",
      " |      Return self!=value.\n",
      " |  \n",
      " |  __or__(self, value, /)\n",
      " |      Return self|value.\n",
      " |  \n",
      " |  __rand__(self, value, /)\n",
      " |      Return value&self.\n",
      " |  \n",
      " |  __reduce__(...)\n",
      " |      Return state information for pickling.\n",
      " |  \n",
      " |  __repr__(self, /)\n",
      " |      Return repr(self).\n",
      " |  \n",
      " |  __ror__(self, value, /)\n",
      " |      Return value|self.\n",
      " |  \n",
      " |  __rsub__(self, value, /)\n",
      " |      Return value-self.\n",
      " |  \n",
      " |  __rxor__(self, value, /)\n",
      " |      Return value^self.\n",
      " |  \n",
      " |  __sizeof__(...)\n",
      " |      S.__sizeof__() -> size of S in memory, in bytes\n",
      " |  \n",
      " |  __sub__(self, value, /)\n",
      " |      Return self-value.\n",
      " |  \n",
      " |  __xor__(self, value, /)\n",
      " |      Return self^value.\n",
      " |  \n",
      " |  add(...)\n",
      " |      Add an element to a set.\n",
      " |      \n",
      " |      This has no effect if the element is already present.\n",
      " |  \n",
      " |  clear(...)\n",
      " |      Remove all elements from this set.\n",
      " |  \n",
      " |  copy(...)\n",
      " |      Return a shallow copy of a set.\n",
      " |  \n",
      " |  difference(...)\n",
      " |      Return the difference of two or more sets as a new set.\n",
      " |      \n",
      " |      (i.e. all elements that are in this set but not the others.)\n",
      " |  \n",
      " |  difference_update(...)\n",
      " |      Remove all elements of another set from this set.\n",
      " |  \n",
      " |  discard(...)\n",
      " |      Remove an element from a set if it is a member.\n",
      " |      \n",
      " |      If the element is not a member, do nothing.\n",
      " |  \n",
      " |  intersection(...)\n",
      " |      Return the intersection of two sets as a new set.\n",
      " |      \n",
      " |      (i.e. all elements that are in both sets.)\n",
      " |  \n",
      " |  intersection_update(...)\n",
      " |      Update a set with the intersection of itself and another.\n",
      " |  \n",
      " |  isdisjoint(...)\n",
      " |      Return True if two sets have a null intersection.\n",
      " |  \n",
      " |  issubset(...)\n",
      " |      Report whether another set contains this set.\n",
      " |  \n",
      " |  issuperset(...)\n",
      " |      Report whether this set contains another set.\n",
      " |  \n",
      " |  pop(...)\n",
      " |      Remove and return an arbitrary set element.\n",
      " |      Raises KeyError if the set is empty.\n",
      " |  \n",
      " |  remove(...)\n",
      " |      Remove an element from a set; it must be a member.\n",
      " |      \n",
      " |      If the element is not a member, raise a KeyError.\n",
      " |  \n",
      " |  symmetric_difference(...)\n",
      " |      Return the symmetric difference of two sets as a new set.\n",
      " |      \n",
      " |      (i.e. all elements that are in exactly one of the sets.)\n",
      " |  \n",
      " |  symmetric_difference_update(...)\n",
      " |      Update a set with the symmetric difference of itself and another.\n",
      " |  \n",
      " |  union(...)\n",
      " |      Return the union of sets as a new set.\n",
      " |      \n",
      " |      (i.e. all elements that are in either set.)\n",
      " |  \n",
      " |  update(...)\n",
      " |      Update a set with the union of itself and others.\n",
      " |  \n",
      " |  ----------------------------------------------------------------------\n",
      " |  Class methods defined here:\n",
      " |  \n",
      " |  __class_getitem__(...) from builtins.type\n",
      " |      See PEP 585\n",
      " |  \n",
      " |  ----------------------------------------------------------------------\n",
      " |  Static methods defined here:\n",
      " |  \n",
      " |  __new__(*args, **kwargs) from builtins.type\n",
      " |      Create and return a new object.  See help(type) for accurate signature.\n",
      " |  \n",
      " |  ----------------------------------------------------------------------\n",
      " |  Data and other attributes defined here:\n",
      " |  \n",
      " |  __hash__ = None\n",
      "\n"
     ]
    }
   ],
   "source": [
    "help(set)"
   ]
  },
  {
   "cell_type": "markdown",
   "id": "3f1af469",
   "metadata": {},
   "source": [
    "# Set Methods\n",
    "\n",
    "### add"
   ]
  },
  {
   "cell_type": "code",
   "execution_count": 24,
   "id": "d4fecea1",
   "metadata": {},
   "outputs": [
    {
     "name": "stdout",
     "output_type": "stream",
     "text": [
      "{1, 2, 3, 4, 5, 6, 100}\n"
     ]
    }
   ],
   "source": [
    "f = {1,2,3,4,5,6}\n",
    "\n",
    "f.add(100)\n",
    "\n",
    "print(f)"
   ]
  },
  {
   "cell_type": "code",
   "execution_count": 25,
   "id": "e0cc167d",
   "metadata": {},
   "outputs": [
    {
     "name": "stdout",
     "output_type": "stream",
     "text": [
      "set()\n"
     ]
    }
   ],
   "source": [
    "f.clear()\n",
    "print(f)"
   ]
  },
  {
   "cell_type": "markdown",
   "id": "b48d360c",
   "metadata": {},
   "source": [
    "### remove"
   ]
  },
  {
   "cell_type": "code",
   "execution_count": 26,
   "id": "85d58fb5",
   "metadata": {},
   "outputs": [
    {
     "name": "stdout",
     "output_type": "stream",
     "text": [
      "{1, 2, 3, 4, 6}\n"
     ]
    }
   ],
   "source": [
    "f = {1,2,3,4,5,6}\n",
    "\n",
    "f.remove(5)\n",
    "print(f)"
   ]
  },
  {
   "cell_type": "markdown",
   "id": "2e2aebf7",
   "metadata": {},
   "source": [
    "## frozenset"
   ]
  },
  {
   "cell_type": "code",
   "execution_count": 27,
   "id": "de45feda",
   "metadata": {},
   "outputs": [
    {
     "name": "stdout",
     "output_type": "stream",
     "text": [
      "frozenset({'e', 2, 3, 'g'})\n"
     ]
    }
   ],
   "source": [
    "f = frozenset(['e','g',2,3])   # this will make the set immutable\n",
    "\n",
    "print(f)"
   ]
  },
  {
   "cell_type": "code",
   "execution_count": 28,
   "id": "dae6268c",
   "metadata": {},
   "outputs": [
    {
     "ename": "AttributeError",
     "evalue": "'frozenset' object has no attribute 'add'",
     "output_type": "error",
     "traceback": [
      "\u001b[1;31m---------------------------------------------------------------------------\u001b[0m",
      "\u001b[1;31mAttributeError\u001b[0m                            Traceback (most recent call last)",
      "Input \u001b[1;32mIn [28]\u001b[0m, in \u001b[0;36m<cell line: 1>\u001b[1;34m()\u001b[0m\n\u001b[1;32m----> 1\u001b[0m \u001b[43mf\u001b[49m\u001b[38;5;241;43m.\u001b[39;49m\u001b[43madd\u001b[49m(\u001b[38;5;241m5\u001b[39m)\n",
      "\u001b[1;31mAttributeError\u001b[0m: 'frozenset' object has no attribute 'add'"
     ]
    }
   ],
   "source": [
    "f.add(5)"
   ]
  },
  {
   "cell_type": "code",
   "execution_count": 29,
   "id": "0074e155",
   "metadata": {
    "scrolled": true
   },
   "outputs": [
    {
     "name": "stdout",
     "output_type": "stream",
     "text": [
      "Help on class frozenset in module builtins:\n",
      "\n",
      "class frozenset(object)\n",
      " |  frozenset() -> empty frozenset object\n",
      " |  frozenset(iterable) -> frozenset object\n",
      " |  \n",
      " |  Build an immutable unordered collection of unique elements.\n",
      " |  \n",
      " |  Methods defined here:\n",
      " |  \n",
      " |  __and__(self, value, /)\n",
      " |      Return self&value.\n",
      " |  \n",
      " |  __contains__(...)\n",
      " |      x.__contains__(y) <==> y in x.\n",
      " |  \n",
      " |  __eq__(self, value, /)\n",
      " |      Return self==value.\n",
      " |  \n",
      " |  __ge__(self, value, /)\n",
      " |      Return self>=value.\n",
      " |  \n",
      " |  __getattribute__(self, name, /)\n",
      " |      Return getattr(self, name).\n",
      " |  \n",
      " |  __gt__(self, value, /)\n",
      " |      Return self>value.\n",
      " |  \n",
      " |  __hash__(self, /)\n",
      " |      Return hash(self).\n",
      " |  \n",
      " |  __iter__(self, /)\n",
      " |      Implement iter(self).\n",
      " |  \n",
      " |  __le__(self, value, /)\n",
      " |      Return self<=value.\n",
      " |  \n",
      " |  __len__(self, /)\n",
      " |      Return len(self).\n",
      " |  \n",
      " |  __lt__(self, value, /)\n",
      " |      Return self<value.\n",
      " |  \n",
      " |  __ne__(self, value, /)\n",
      " |      Return self!=value.\n",
      " |  \n",
      " |  __or__(self, value, /)\n",
      " |      Return self|value.\n",
      " |  \n",
      " |  __rand__(self, value, /)\n",
      " |      Return value&self.\n",
      " |  \n",
      " |  __reduce__(...)\n",
      " |      Return state information for pickling.\n",
      " |  \n",
      " |  __repr__(self, /)\n",
      " |      Return repr(self).\n",
      " |  \n",
      " |  __ror__(self, value, /)\n",
      " |      Return value|self.\n",
      " |  \n",
      " |  __rsub__(self, value, /)\n",
      " |      Return value-self.\n",
      " |  \n",
      " |  __rxor__(self, value, /)\n",
      " |      Return value^self.\n",
      " |  \n",
      " |  __sizeof__(...)\n",
      " |      S.__sizeof__() -> size of S in memory, in bytes\n",
      " |  \n",
      " |  __sub__(self, value, /)\n",
      " |      Return self-value.\n",
      " |  \n",
      " |  __xor__(self, value, /)\n",
      " |      Return self^value.\n",
      " |  \n",
      " |  copy(...)\n",
      " |      Return a shallow copy of a set.\n",
      " |  \n",
      " |  difference(...)\n",
      " |      Return the difference of two or more sets as a new set.\n",
      " |      \n",
      " |      (i.e. all elements that are in this set but not the others.)\n",
      " |  \n",
      " |  intersection(...)\n",
      " |      Return the intersection of two sets as a new set.\n",
      " |      \n",
      " |      (i.e. all elements that are in both sets.)\n",
      " |  \n",
      " |  isdisjoint(...)\n",
      " |      Return True if two sets have a null intersection.\n",
      " |  \n",
      " |  issubset(...)\n",
      " |      Report whether another set contains this set.\n",
      " |  \n",
      " |  issuperset(...)\n",
      " |      Report whether this set contains another set.\n",
      " |  \n",
      " |  symmetric_difference(...)\n",
      " |      Return the symmetric difference of two sets as a new set.\n",
      " |      \n",
      " |      (i.e. all elements that are in exactly one of the sets.)\n",
      " |  \n",
      " |  union(...)\n",
      " |      Return the union of sets as a new set.\n",
      " |      \n",
      " |      (i.e. all elements that are in either set.)\n",
      " |  \n",
      " |  ----------------------------------------------------------------------\n",
      " |  Class methods defined here:\n",
      " |  \n",
      " |  __class_getitem__(...) from builtins.type\n",
      " |      See PEP 585\n",
      " |  \n",
      " |  ----------------------------------------------------------------------\n",
      " |  Static methods defined here:\n",
      " |  \n",
      " |  __new__(*args, **kwargs) from builtins.type\n",
      " |      Create and return a new object.  See help(type) for accurate signature.\n",
      "\n"
     ]
    }
   ],
   "source": [
    "help(frozenset)"
   ]
  },
  {
   "cell_type": "code",
   "execution_count": null,
   "id": "30c40fd3",
   "metadata": {},
   "outputs": [],
   "source": []
  }
 ],
 "metadata": {
  "kernelspec": {
   "display_name": "Python 3 (ipykernel)",
   "language": "python",
   "name": "python3"
  },
  "language_info": {
   "codemirror_mode": {
    "name": "ipython",
    "version": 3
   },
   "file_extension": ".py",
   "mimetype": "text/x-python",
   "name": "python",
   "nbconvert_exporter": "python",
   "pygments_lexer": "ipython3",
   "version": "3.9.12"
  }
 },
 "nbformat": 4,
 "nbformat_minor": 5
}
