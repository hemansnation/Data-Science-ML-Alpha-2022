{
 "cells": [
  {
   "cell_type": "markdown",
   "id": "1fe2574d",
   "metadata": {},
   "source": [
    "# Regular Expression\n",
    "\n",
    "regex"
   ]
  },
  {
   "cell_type": "code",
   "execution_count": null,
   "id": "564246cc",
   "metadata": {},
   "outputs": [],
   "source": [
    "x + y + 2z = 0"
   ]
  },
  {
   "cell_type": "markdown",
   "id": "8bd19df8",
   "metadata": {},
   "source": [
    "# re"
   ]
  },
  {
   "cell_type": "code",
   "execution_count": 1,
   "id": "3cad1650",
   "metadata": {},
   "outputs": [
    {
     "name": "stdout",
     "output_type": "stream",
     "text": [
      "Match\n"
     ]
    }
   ],
   "source": [
    "import re\n",
    "\n",
    "p = \"Indore\"\n",
    "\n",
    "if re.match(p, 'Indore is the best'):\n",
    "    print(\"Match\")\n",
    "else:\n",
    "    print(\"Not Match\")"
   ]
  },
  {
   "cell_type": "code",
   "execution_count": 2,
   "id": "ba2f5c7a",
   "metadata": {},
   "outputs": [
    {
     "name": "stdout",
     "output_type": "stream",
     "text": [
      "Not Match\n"
     ]
    }
   ],
   "source": [
    "p = \"Indore\"\n",
    "\n",
    "if re.match(p, 'indore is the best'):\n",
    "    print(\"Match\")\n",
    "else:\n",
    "    print(\"Not Match\")"
   ]
  },
  {
   "cell_type": "code",
   "execution_count": 3,
   "id": "bd3d4a33",
   "metadata": {},
   "outputs": [
    {
     "name": "stdout",
     "output_type": "stream",
     "text": [
      "Not Match\n"
     ]
    }
   ],
   "source": [
    "p = \"Indore\"\n",
    "\n",
    "if re.match(p, 'The famous Indore is the best'):\n",
    "    print(\"Match\")\n",
    "else:\n",
    "    print(\"Not Match\")"
   ]
  },
  {
   "cell_type": "code",
   "execution_count": null,
   "id": "14a88c62",
   "metadata": {},
   "outputs": [],
   "source": [
    "p = \"Indore\"\n",
    "\n",
    "if re.match(p, 'Indore is the best'):\n",
    "    print(\"Match\")\n",
    "else:\n",
    "    print(\"Not Match\")"
   ]
  },
  {
   "cell_type": "code",
   "execution_count": 5,
   "id": "5765fbc6",
   "metadata": {},
   "outputs": [
    {
     "name": "stdout",
     "output_type": "stream",
     "text": [
      "Match\n"
     ]
    }
   ],
   "source": [
    "p = \"Indor\"\n",
    "\n",
    "if re.match(p, 'Indore is the best'):\n",
    "    print(\"Match\")\n",
    "else:\n",
    "    print(\"Not Match\")"
   ]
  },
  {
   "cell_type": "code",
   "execution_count": 6,
   "id": "abd62ef3",
   "metadata": {},
   "outputs": [
    {
     "name": "stdout",
     "output_type": "stream",
     "text": [
      "Not Match\n"
     ]
    }
   ],
   "source": [
    "p = \"Indore\"\n",
    "\n",
    "if re.match(p, 'Indor is the best'):\n",
    "    print(\"Match\")\n",
    "else:\n",
    "    print(\"Not Match\")"
   ]
  },
  {
   "cell_type": "code",
   "execution_count": 4,
   "id": "a557314b",
   "metadata": {
    "scrolled": false
   },
   "outputs": [
    {
     "name": "stdout",
     "output_type": "stream",
     "text": [
      "Help on function match in module re:\n",
      "\n",
      "match(pattern, string, flags=0)\n",
      "    Try to apply the pattern at the start of the string, returning\n",
      "    a Match object, or None if no match was found.\n",
      "\n"
     ]
    }
   ],
   "source": [
    "help(re.match)"
   ]
  },
  {
   "cell_type": "markdown",
   "id": "a7961820",
   "metadata": {},
   "source": [
    "# search"
   ]
  },
  {
   "cell_type": "code",
   "execution_count": 9,
   "id": "6701b31c",
   "metadata": {},
   "outputs": [
    {
     "name": "stdout",
     "output_type": "stream",
     "text": [
      "Match\n"
     ]
    }
   ],
   "source": [
    "pattern = \"india\"\n",
    "\n",
    "if re.search(pattern, \"The india is the best\"):\n",
    "    print(\"Match\")\n",
    "else:\n",
    "    print(\"Not match\")"
   ]
  },
  {
   "cell_type": "code",
   "execution_count": 11,
   "id": "78a3fe8d",
   "metadata": {},
   "outputs": [
    {
     "name": "stdout",
     "output_type": "stream",
     "text": [
      "Match\n"
     ]
    }
   ],
   "source": [
    "pattern = \"india \"\n",
    "\n",
    "if re.search(pattern, \"The india is the best\"):\n",
    "    print(\"Match\")\n",
    "else:\n",
    "    print(\"Not match\")"
   ]
  },
  {
   "cell_type": "code",
   "execution_count": 12,
   "id": "9152c0a4",
   "metadata": {},
   "outputs": [
    {
     "name": "stdout",
     "output_type": "stream",
     "text": [
      "Not match\n"
     ]
    }
   ],
   "source": [
    "pattern = \"ind ia\"\n",
    "\n",
    "if re.search(pattern, \"The india is the best\"):\n",
    "    print(\"Match\")\n",
    "else:\n",
    "    print(\"Not match\")"
   ]
  },
  {
   "cell_type": "code",
   "execution_count": 13,
   "id": "3fe957d1",
   "metadata": {},
   "outputs": [
    {
     "name": "stdout",
     "output_type": "stream",
     "text": [
      "Not match\n"
     ]
    }
   ],
   "source": [
    "pattern = \"IndiA\"\n",
    "\n",
    "if re.search(pattern, \"The india is the best\"):\n",
    "    print(\"Match\")\n",
    "else:\n",
    "    print(\"Not match\")"
   ]
  },
  {
   "cell_type": "markdown",
   "id": "72efa997",
   "metadata": {},
   "source": [
    "# findall"
   ]
  },
  {
   "cell_type": "code",
   "execution_count": 14,
   "id": "08789ee3",
   "metadata": {},
   "outputs": [
    {
     "name": "stdout",
     "output_type": "stream",
     "text": [
      "['india']\n"
     ]
    }
   ],
   "source": [
    "pattern = \"india\"\n",
    "print(re.findall(pattern, 'The india is the best'))"
   ]
  },
  {
   "cell_type": "code",
   "execution_count": 15,
   "id": "04037f3b",
   "metadata": {
    "scrolled": true
   },
   "outputs": [
    {
     "name": "stdout",
     "output_type": "stream",
     "text": [
      "['india', 'india']\n"
     ]
    }
   ],
   "source": [
    "pattern = \"india\"\n",
    "print(re.findall(pattern, 'The india is the best. india has a flag'))"
   ]
  },
  {
   "cell_type": "code",
   "execution_count": 16,
   "id": "fa8dd63d",
   "metadata": {},
   "outputs": [
    {
     "name": "stdout",
     "output_type": "stream",
     "text": [
      "['best']\n"
     ]
    }
   ],
   "source": [
    "pattern = \"best\"\n",
    "print(re.findall(pattern, 'The india is the best. india has a flag'))"
   ]
  },
  {
   "cell_type": "code",
   "execution_count": 18,
   "id": "afa8df22",
   "metadata": {},
   "outputs": [
    {
     "name": "stdout",
     "output_type": "stream",
     "text": [
      "['be', 'be']\n"
     ]
    }
   ],
   "source": [
    "pattern = \"be\"\n",
    "print(re.findall(pattern, 'The india is the best. india has a flag being'))"
   ]
  },
  {
   "cell_type": "markdown",
   "id": "b7bc0717",
   "metadata": {},
   "source": [
    "# group"
   ]
  },
  {
   "cell_type": "code",
   "execution_count": 20,
   "id": "b3abfba9",
   "metadata": {},
   "outputs": [
    {
     "name": "stdout",
     "output_type": "stream",
     "text": [
      "<re.Match object; span=(4, 7), match='goa'>\n"
     ]
    }
   ],
   "source": [
    "p = \"goa\"\n",
    "\n",
    "m = re.search(p, \"the goa is the smallest. goa\")\n",
    "print(m)"
   ]
  },
  {
   "cell_type": "code",
   "execution_count": 21,
   "id": "2e1ca309",
   "metadata": {},
   "outputs": [
    {
     "name": "stdout",
     "output_type": "stream",
     "text": [
      "goa\n"
     ]
    }
   ],
   "source": [
    "if m:\n",
    "    print(m.group())"
   ]
  },
  {
   "cell_type": "markdown",
   "id": "bd50b94a",
   "metadata": {},
   "source": [
    "# start"
   ]
  },
  {
   "cell_type": "code",
   "execution_count": 22,
   "id": "0d3bb475",
   "metadata": {},
   "outputs": [
    {
     "name": "stdout",
     "output_type": "stream",
     "text": [
      "4\n"
     ]
    }
   ],
   "source": [
    "if m:\n",
    "    print(m.start())"
   ]
  },
  {
   "cell_type": "markdown",
   "id": "9fe1333d",
   "metadata": {},
   "source": [
    "# end"
   ]
  },
  {
   "cell_type": "code",
   "execution_count": 23,
   "id": "22347ae9",
   "metadata": {},
   "outputs": [
    {
     "name": "stdout",
     "output_type": "stream",
     "text": [
      "7\n"
     ]
    }
   ],
   "source": [
    "if m:\n",
    "    print(m.end())"
   ]
  },
  {
   "cell_type": "markdown",
   "id": "f0421ab6",
   "metadata": {},
   "source": [
    "# span"
   ]
  },
  {
   "cell_type": "code",
   "execution_count": 24,
   "id": "3a7ab2ad",
   "metadata": {},
   "outputs": [
    {
     "name": "stdout",
     "output_type": "stream",
     "text": [
      "(4, 7)\n"
     ]
    }
   ],
   "source": [
    "if m:\n",
    "    print(m.span())"
   ]
  },
  {
   "cell_type": "markdown",
   "id": "dc77c008",
   "metadata": {},
   "source": [
    "# sub\n",
    "\n",
    "for substitution"
   ]
  },
  {
   "cell_type": "code",
   "execution_count": 28,
   "id": "9b80fb1b",
   "metadata": {},
   "outputs": [
    {
     "name": "stdout",
     "output_type": "stream",
     "text": [
      "His name is Rohit, Hi Rohit\n",
      "His name is Virat, Hi Virat\n"
     ]
    }
   ],
   "source": [
    "s = \"His name is Virat, Hi Virat\"\n",
    "\n",
    "p = \"Virat\"\n",
    "\n",
    "newstring = re.sub(p, \"Rohit\", s)\n",
    "\n",
    "print(newstring)\n",
    "\n",
    "print(s)"
   ]
  },
  {
   "cell_type": "code",
   "execution_count": 26,
   "id": "15276418",
   "metadata": {},
   "outputs": [
    {
     "name": "stdout",
     "output_type": "stream",
     "text": [
      "His name is Virat, Hi Virat\n"
     ]
    }
   ],
   "source": [
    "s = \"His name is Virat, Hi Virat\"\n",
    "\n",
    "p = \"virat\"\n",
    "\n",
    "newstring = re.sub(p, \"Rohit\", s)\n",
    "\n",
    "print(newstring)"
   ]
  },
  {
   "cell_type": "code",
   "execution_count": 27,
   "id": "59bd87ea",
   "metadata": {},
   "outputs": [
    {
     "name": "stdout",
     "output_type": "stream",
     "text": [
      "His name is Virat, Hi Virat\n"
     ]
    }
   ],
   "source": [
    "print(s)"
   ]
  },
  {
   "cell_type": "markdown",
   "id": "c576f4d6",
   "metadata": {},
   "source": [
    "# Meta characters\n",
    "\n",
    "\n",
    "1. dot (.)"
   ]
  },
  {
   "cell_type": "code",
   "execution_count": 1,
   "id": "00000cf6",
   "metadata": {},
   "outputs": [
    {
     "name": "stdout",
     "output_type": "stream",
     "text": [
      "1\n",
      "2\n"
     ]
    }
   ],
   "source": [
    "import re\n",
    "\n",
    "p = \"gr.y\"\n",
    "\n",
    "if re.match(p, \"gray\"):\n",
    "    print(1)\n",
    "\n",
    "if re.match(p, \"grey\"):\n",
    "    print(2)\n",
    "\n",
    "if re.match(p, \"blue\"):\n",
    "    print(3)"
   ]
  },
  {
   "cell_type": "code",
   "execution_count": 2,
   "id": "e19948ef",
   "metadata": {},
   "outputs": [
    {
     "name": "stdout",
     "output_type": "stream",
     "text": [
      "2\n"
     ]
    }
   ],
   "source": [
    "p = \"g..y\"\n",
    "\n",
    "if re.match(p, \"graay\"):\n",
    "    print(1)\n",
    "\n",
    "if re.match(p, \"greytt\"):\n",
    "    print(2)\n",
    "\n",
    "if re.match(p, \"blue\"):\n",
    "    print(3)"
   ]
  },
  {
   "cell_type": "code",
   "execution_count": 4,
   "id": "ee00352f",
   "metadata": {},
   "outputs": [
    {
     "name": "stdout",
     "output_type": "stream",
     "text": [
      "1\n",
      "2\n"
     ]
    }
   ],
   "source": [
    "p = \"g...\"\n",
    "\n",
    "if re.match(p, \"graay\"):\n",
    "    print(1)\n",
    "\n",
    "if re.match(p, \"gre3tt\"):\n",
    "    print(2)\n",
    "\n",
    "if re.match(p, \"gue\"):\n",
    "    print(3)"
   ]
  },
  {
   "cell_type": "code",
   "execution_count": 5,
   "id": "12dd96b3",
   "metadata": {},
   "outputs": [
    {
     "name": "stdout",
     "output_type": "stream",
     "text": [
      "1\n",
      "2\n",
      "3\n"
     ]
    }
   ],
   "source": [
    "p = \"....\"\n",
    "\n",
    "if re.match(p, \"graay\"):\n",
    "    print(1)\n",
    "\n",
    "if re.match(p, \"gre3tt\"):\n",
    "    print(2)\n",
    "\n",
    "if re.match(p, \"gue123454\"):\n",
    "    print(3)"
   ]
  },
  {
   "cell_type": "code",
   "execution_count": 6,
   "id": "4bc456e5",
   "metadata": {},
   "outputs": [
    {
     "name": "stdout",
     "output_type": "stream",
     "text": [
      "2\n",
      "3\n"
     ]
    }
   ],
   "source": [
    "p = \"..e\"\n",
    "\n",
    "if re.match(p, \"graay\"):\n",
    "    print(1)\n",
    "\n",
    "if re.match(p, \"gre3tt\"):\n",
    "    print(2)\n",
    "\n",
    "if re.match(p, \"gue123454\"):\n",
    "    print(3)"
   ]
  },
  {
   "cell_type": "code",
   "execution_count": 7,
   "id": "749e2e89",
   "metadata": {},
   "outputs": [],
   "source": [
    "p = \"..e..4\"\n",
    "\n",
    "if re.match(p, \"graay\"):\n",
    "    print(1)\n",
    "\n",
    "if re.match(p, \"gre3tt\"):\n",
    "    print(2)\n",
    "\n",
    "if re.match(p, \"gue123454\"):\n",
    "    print(3)"
   ]
  },
  {
   "cell_type": "markdown",
   "id": "7982e756",
   "metadata": {},
   "source": [
    "#### 2. start (^)"
   ]
  },
  {
   "cell_type": "code",
   "execution_count": 8,
   "id": "94f601f6",
   "metadata": {},
   "outputs": [
    {
     "name": "stdout",
     "output_type": "stream",
     "text": [
      "1\n",
      "2\n",
      "3\n"
     ]
    }
   ],
   "source": [
    "p = \"^gr.y\"\n",
    "\n",
    "if re.match(p, \"gray\"):\n",
    "    print(1)\n",
    "\n",
    "if re.match(p, \"gruy\"):\n",
    "    print(2)\n",
    "\n",
    "if re.match(p, \"grayt\"):\n",
    "    print(3)"
   ]
  },
  {
   "cell_type": "code",
   "execution_count": 12,
   "id": "a6e5bf64",
   "metadata": {},
   "outputs": [
    {
     "name": "stdout",
     "output_type": "stream",
     "text": [
      "1\n",
      "2\n"
     ]
    }
   ],
   "source": [
    "p = \"^gr.y\"\n",
    "\n",
    "if re.match(p, \"gray\"):\n",
    "    print(1)\n",
    "\n",
    "if re.match(p, \"gruy\"):\n",
    "    print(2)\n",
    "\n",
    "if re.search(p, \"dgrayt\"):\n",
    "    print(3)"
   ]
  },
  {
   "cell_type": "code",
   "execution_count": 10,
   "id": "741833b5",
   "metadata": {},
   "outputs": [
    {
     "name": "stdout",
     "output_type": "stream",
     "text": [
      "1\n",
      "2\n",
      "3\n"
     ]
    }
   ],
   "source": [
    "p = \"gr.y\"\n",
    "\n",
    "if re.match(p, \"gray\"):\n",
    "    print(1)\n",
    "\n",
    "if re.match(p, \"gruy\"):\n",
    "    print(2)\n",
    "\n",
    "if re.search(p, \"dgrayt\"):\n",
    "    print(3)"
   ]
  },
  {
   "cell_type": "code",
   "execution_count": 19,
   "id": "5bee8087",
   "metadata": {},
   "outputs": [
    {
     "name": "stdout",
     "output_type": "stream",
     "text": [
      "1\n",
      "2\n"
     ]
    }
   ],
   "source": [
    "p = \"^gr.y\"\n",
    "\n",
    "if re.match(p, \"grey\"):\n",
    "    print(1)\n",
    "\n",
    "if re.match(p, \"gray\"):\n",
    "    print(2)\n",
    "\n",
    "if re.search(p, \"dgrayt\"):\n",
    "    print(3)"
   ]
  },
  {
   "cell_type": "markdown",
   "id": "e8e5feab",
   "metadata": {},
   "source": [
    "#### 3. end ($)"
   ]
  },
  {
   "cell_type": "code",
   "execution_count": 22,
   "id": "18f26b74",
   "metadata": {},
   "outputs": [
    {
     "name": "stdout",
     "output_type": "stream",
     "text": [
      "1\n"
     ]
    }
   ],
   "source": [
    "p = \"^gr...y$\"\n",
    "\n",
    "if re.match(p, \"grafgy\"):\n",
    "    print(1)\n",
    "\n",
    "if re.match(p, \"gruy\"):\n",
    "    print(2)\n",
    "\n",
    "if re.search(p, \"dgraryy\"):\n",
    "    print(3)"
   ]
  },
  {
   "cell_type": "code",
   "execution_count": 23,
   "id": "e8440e5c",
   "metadata": {},
   "outputs": [
    {
     "name": "stdout",
     "output_type": "stream",
     "text": [
      "1\n",
      "3\n"
     ]
    }
   ],
   "source": [
    "p = \"^gr...y$\"\n",
    "\n",
    "if re.match(p, \"grafgy\"):\n",
    "    print(1)\n",
    "\n",
    "if re.match(p, \"gruy\"):\n",
    "    print(2)\n",
    "\n",
    "if re.search(p, \"graryy\"):\n",
    "    print(3)"
   ]
  },
  {
   "cell_type": "code",
   "execution_count": 28,
   "id": "1253b0c3",
   "metadata": {},
   "outputs": [
    {
     "name": "stdout",
     "output_type": "stream",
     "text": [
      "2\n",
      "3\n"
     ]
    }
   ],
   "source": [
    "p = \"....$\"\n",
    "\n",
    "if re.match(p, \"rafgy\"):\n",
    "    print(1)\n",
    "\n",
    "if re.match(p, \"gruy\"):\n",
    "    print(2)\n",
    "\n",
    "if re.search(p, \"dgraryy\"):\n",
    "    print(3)"
   ]
  },
  {
   "cell_type": "code",
   "execution_count": 29,
   "id": "183e13de",
   "metadata": {},
   "outputs": [],
   "source": [
    "p = \"uy$\"\n",
    "\n",
    "if re.match(p, \"grafuy\"):\n",
    "    print(1)\n",
    "\n",
    "if re.match(p, \"grey\"):\n",
    "    print(2)\n",
    "\n",
    "if re.search(p, \"dgrayy\"):\n",
    "    print(3)"
   ]
  },
  {
   "cell_type": "code",
   "execution_count": 31,
   "id": "76c18f8c",
   "metadata": {},
   "outputs": [
    {
     "name": "stdout",
     "output_type": "stream",
     "text": [
      "2\n",
      "3\n"
     ]
    }
   ],
   "source": [
    "p = \"uy$\"\n",
    "\n",
    "if re.match(p, \"tuy\"):\n",
    "    print(1)\n",
    "\n",
    "if re.match(p, \"uy\"):\n",
    "    print(2)\n",
    "\n",
    "if re.search(p, \"dgrauy\"):\n",
    "    print(3)"
   ]
  },
  {
   "cell_type": "code",
   "execution_count": 34,
   "id": "00771e4c",
   "metadata": {},
   "outputs": [
    {
     "name": "stdout",
     "output_type": "stream",
     "text": [
      "2\n",
      "3\n"
     ]
    }
   ],
   "source": [
    "p = \"uy$\"\n",
    "\n",
    "if re.match(p, \"tuy\"):\n",
    "    print(1)\n",
    "\n",
    "if re.match(p, \"uy\"):\n",
    "    print(2)\n",
    "\n",
    "if re.search(p, \"duyaguy\"):\n",
    "    print(3)"
   ]
  },
  {
   "cell_type": "markdown",
   "id": "0d4ad173",
   "metadata": {},
   "source": [
    "# character classes"
   ]
  },
  {
   "cell_type": "code",
   "execution_count": 35,
   "id": "756c8804",
   "metadata": {},
   "outputs": [
    {
     "name": "stdout",
     "output_type": "stream",
     "text": [
      "1\n",
      "2\n"
     ]
    }
   ],
   "source": [
    "p = \"[aeiou]\"\n",
    "\n",
    "if re.search(p, \"grey\"):\n",
    "    print(1)\n",
    "\n",
    "if re.search(p, \"qwrrtyiop\"):\n",
    "    print(2)\n",
    "\n",
    "if re.search(p, \"rhythms\"):\n",
    "    print(3)"
   ]
  },
  {
   "cell_type": "code",
   "execution_count": 36,
   "id": "f088393c",
   "metadata": {},
   "outputs": [
    {
     "name": "stdout",
     "output_type": "stream",
     "text": [
      "Strong\n"
     ]
    }
   ],
   "source": [
    "p = \"[!@#$%^&*]\"\n",
    "\n",
    "if re.search(p, \"gr$ey\"):\n",
    "    print(\"Strong\")\n",
    "\n",
    "if re.search(p, \"qwrrtyiop\"):\n",
    "    print(2)\n",
    "\n",
    "if re.search(p, \"rhythms\"):\n",
    "    print(3)"
   ]
  },
  {
   "cell_type": "code",
   "execution_count": 37,
   "id": "97cf526a",
   "metadata": {},
   "outputs": [
    {
     "name": "stdout",
     "output_type": "stream",
     "text": [
      "1\n",
      "2\n",
      "3\n"
     ]
    }
   ],
   "source": [
    "p = \"[a-z]\"\n",
    "\n",
    "if re.search(p, \"grey\"):\n",
    "    print(1)\n",
    "\n",
    "if re.search(p, \"qwrrtyiop\"):\n",
    "    print(2)\n",
    "\n",
    "if re.search(p, \"rhythms\"):\n",
    "    print(3)"
   ]
  },
  {
   "cell_type": "code",
   "execution_count": 38,
   "id": "af555c5d",
   "metadata": {},
   "outputs": [
    {
     "name": "stdout",
     "output_type": "stream",
     "text": [
      "1\n",
      "3\n"
     ]
    }
   ],
   "source": [
    "p = \"[a-z]\"\n",
    "\n",
    "if re.search(p, \"grey\"):\n",
    "    print(1)\n",
    "\n",
    "if re.search(p, \"QWERTTYY\"):\n",
    "    print(2)\n",
    "\n",
    "if re.search(p, \"rhythms\"):\n",
    "    print(3)"
   ]
  },
  {
   "cell_type": "code",
   "execution_count": 39,
   "id": "93344fc1",
   "metadata": {},
   "outputs": [
    {
     "name": "stdout",
     "output_type": "stream",
     "text": [
      "1\n",
      "2\n"
     ]
    }
   ],
   "source": [
    "p = \"[A-Za-z]\"\n",
    "\n",
    "if re.search(p, \"grey\"):\n",
    "    print(1)\n",
    "\n",
    "if re.search(p, \"QWRTYUII\"):\n",
    "    print(2)\n",
    "\n",
    "if re.search(p, \"12345\"):\n",
    "    print(3)"
   ]
  },
  {
   "cell_type": "code",
   "execution_count": 41,
   "id": "471c88bc",
   "metadata": {},
   "outputs": [
    {
     "name": "stdout",
     "output_type": "stream",
     "text": [
      "1\n",
      "2\n",
      "3\n"
     ]
    }
   ],
   "source": [
    "p = \"[0-9]\"\n",
    "\n",
    "if re.search(p, \"g-1rey\"):\n",
    "    print(1)\n",
    "\n",
    "if re.search(p, \"qwrr12345tyiop\"):\n",
    "    print(2)\n",
    "\n",
    "if re.search(p, \"rhyt4hms\"):\n",
    "    print(3)"
   ]
  },
  {
   "cell_type": "code",
   "execution_count": 43,
   "id": "aa16eb50",
   "metadata": {},
   "outputs": [
    {
     "name": "stdout",
     "output_type": "stream",
     "text": [
      "1\n",
      "2\n"
     ]
    }
   ],
   "source": [
    "p = \"-[0-9]\"\n",
    "\n",
    "if re.search(p, \"g-1rey\"):\n",
    "    print(1)\n",
    "\n",
    "if re.search(p, \"qwrr123-45tyiop\"):\n",
    "    print(2)\n",
    "\n",
    "if re.search(p, \"-rhyt4hms\"):\n",
    "    print(3)"
   ]
  },
  {
   "cell_type": "code",
   "execution_count": 46,
   "id": "479a5b28",
   "metadata": {},
   "outputs": [
    {
     "name": "stdout",
     "output_type": "stream",
     "text": [
      "3\n"
     ]
    }
   ],
   "source": [
    "p = \"[A-F][A-Z][0-7]\"\n",
    "\n",
    "if re.search(p, \"Cr7\"):\n",
    "    print(1)\n",
    "\n",
    "if re.search(p, \"XU5\"):\n",
    "    print(2)\n",
    "\n",
    "if re.search(p, \"lkhfsdbfdsknBR4khfdg\"):\n",
    "    print(3)"
   ]
  },
  {
   "cell_type": "code",
   "execution_count": 47,
   "id": "e0c206b1",
   "metadata": {},
   "outputs": [
    {
     "name": "stdout",
     "output_type": "stream",
     "text": [
      "1\n"
     ]
    }
   ],
   "source": [
    "p = \"[ace]\"\n",
    "\n",
    "if re.search(p, \"g-1rey\"):\n",
    "    print(1)\n",
    "\n",
    "if re.search(p, \"qwrr123-45tyiop\"):\n",
    "    print(2)\n",
    "\n",
    "if re.search(p, \"-rhyt4hms\"):\n",
    "    print(3)"
   ]
  },
  {
   "cell_type": "code",
   "execution_count": 48,
   "id": "9c7733fb",
   "metadata": {},
   "outputs": [
    {
     "name": "stdout",
     "output_type": "stream",
     "text": [
      "1\n"
     ]
    }
   ],
   "source": [
    "p = \"^[A-Z][A-Z][0-9]\"\n",
    "\n",
    "if re.search(p, \"GA1rey\"):\n",
    "    print(1)\n",
    "\n",
    "if re.search(p, \"QEE2rr123-45tyiop\"):\n",
    "    print(2)\n",
    "\n",
    "if re.search(p, \"-rhyt4hms\"):\n",
    "    print(3)"
   ]
  },
  {
   "cell_type": "code",
   "execution_count": 49,
   "id": "2ce482f7",
   "metadata": {},
   "outputs": [
    {
     "name": "stdout",
     "output_type": "stream",
     "text": [
      "1\n",
      "2\n"
     ]
    }
   ],
   "source": [
    "p = \"[A-Z][A-Z][0-9]\"\n",
    "\n",
    "if re.search(p, \"GA1rey\"):\n",
    "    print(1)\n",
    "\n",
    "if re.search(p, \"QEE2rr123-45tyiop\"):\n",
    "    print(2)\n",
    "\n",
    "if re.search(p, \"-rhyt4hms\"):\n",
    "    print(3)"
   ]
  },
  {
   "cell_type": "code",
   "execution_count": null,
   "id": "1eb07160",
   "metadata": {},
   "outputs": [],
   "source": [
    "p = \"[a-zA-Z0-9!@#$%^&*]\""
   ]
  },
  {
   "cell_type": "markdown",
   "id": "1549623e",
   "metadata": {},
   "source": [
    "1. check if it is a company email\n",
    "2. check a valid email\n",
    "3. check a strong password"
   ]
  },
  {
   "cell_type": "code",
   "execution_count": null,
   "id": "3eb98a94",
   "metadata": {},
   "outputs": [],
   "source": []
  }
 ],
 "metadata": {
  "kernelspec": {
   "display_name": "Python 3 (ipykernel)",
   "language": "python",
   "name": "python3"
  },
  "language_info": {
   "codemirror_mode": {
    "name": "ipython",
    "version": 3
   },
   "file_extension": ".py",
   "mimetype": "text/x-python",
   "name": "python",
   "nbconvert_exporter": "python",
   "pygments_lexer": "ipython3",
   "version": "3.9.12"
  }
 },
 "nbformat": 4,
 "nbformat_minor": 5
}
