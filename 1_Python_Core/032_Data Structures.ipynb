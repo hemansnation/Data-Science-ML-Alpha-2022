{
 "cells": [
  {
   "cell_type": "markdown",
   "id": "e12ef272",
   "metadata": {},
   "source": [
    "# Data Structures"
   ]
  },
  {
   "cell_type": "code",
   "execution_count": null,
   "id": "17a33498",
   "metadata": {},
   "outputs": [],
   "source": [
    "c\n",
    "\n",
    "int a = 10;  # 2 bytes\n",
    "\n",
    "struct student{\n",
    "    int rollno;\n",
    "    char name[10];\n",
    "    float per;\n",
    "}\n",
    "\n",
    "struct student s1;\n",
    "           int a;"
   ]
  },
  {
   "cell_type": "markdown",
   "id": "ccd9bea9",
   "metadata": {},
   "source": [
    "# Time Complexity"
   ]
  },
  {
   "cell_type": "code",
   "execution_count": null,
   "id": "7ed13591",
   "metadata": {},
   "outputs": [],
   "source": [
    "Big O\n",
    "Omega\n",
    "Theta"
   ]
  },
  {
   "cell_type": "code",
   "execution_count": null,
   "id": "e4907d23",
   "metadata": {},
   "outputs": [],
   "source": [
    "O(n) # n can be - size of array, input strin, length of string"
   ]
  },
  {
   "cell_type": "markdown",
   "id": "a4e7f7f7",
   "metadata": {},
   "source": [
    "## loops"
   ]
  },
  {
   "cell_type": "code",
   "execution_count": null,
   "id": "4e397a8a",
   "metadata": {},
   "outputs": [],
   "source": [
    "O(n^k)  # k is number of loops"
   ]
  },
  {
   "cell_type": "code",
   "execution_count": null,
   "id": "ec2b0703",
   "metadata": {},
   "outputs": [],
   "source": [
    "# O(n^1)\n",
    "\n",
    "for i in range(3):\n",
    "    #code"
   ]
  },
  {
   "cell_type": "code",
   "execution_count": null,
   "id": "78c600cb",
   "metadata": {},
   "outputs": [],
   "source": [
    "# O(n^2)\n",
    "\n",
    "for i in range(3):\n",
    "    for j in range(3):\n",
    "        #code"
   ]
  },
  {
   "cell_type": "markdown",
   "id": "4a1e50a8",
   "metadata": {},
   "source": [
    "## order of magnitude"
   ]
  },
  {
   "cell_type": "code",
   "execution_count": null,
   "id": "50537a13",
   "metadata": {},
   "outputs": [],
   "source": [
    "# O(n)\n",
    "\n",
    "for i in range(3*n):\n",
    "    #code\n",
    "for i in range(n + 5):\n",
    "    #code\n",
    "for i in range(n/2):\n",
    "    #code"
   ]
  },
  {
   "cell_type": "code",
   "execution_count": null,
   "id": "a6fa71f3",
   "metadata": {},
   "outputs": [],
   "source": [
    "# O(n^2)\n",
    "\n",
    "for i in range(3*n):\n",
    "    #code\n",
    "\n",
    "for i in range(n + 5):\n",
    "    for j in range(3):\n",
    "        #code\n",
    "\n",
    "for i in range(n/2):\n",
    "    #code"
   ]
  },
  {
   "cell_type": "code",
   "execution_count": null,
   "id": "7ba98104",
   "metadata": {},
   "outputs": [],
   "source": [
    "# O(n^3)\n",
    "\n",
    "for i in range(n):\n",
    "    for j in range(n):\n",
    "        for i in range(n):\n",
    "            #code"
   ]
  },
  {
   "cell_type": "markdown",
   "id": "151cf946",
   "metadata": {},
   "source": [
    "## several variables"
   ]
  },
  {
   "cell_type": "code",
   "execution_count": null,
   "id": "93b6a095",
   "metadata": {},
   "outputs": [],
   "source": [
    "# O(n^m)\n",
    "\n",
    "for i in range(n):\n",
    "    for j in range(m):\n",
    "        #code"
   ]
  },
  {
   "cell_type": "markdown",
   "id": "fa2d5e40",
   "metadata": {},
   "source": [
    "# Complexity Classes"
   ]
  },
  {
   "cell_type": "code",
   "execution_count": null,
   "id": "69eea79f",
   "metadata": {},
   "outputs": [],
   "source": [
    "O(1) > O(log n) > O(root(n)) > O(n) > O(n log n) > O(n^2) > O(n^3) > O(2^n) > O(n!) > O(n^k) > NP-Hard"
   ]
  },
  {
   "cell_type": "markdown",
   "id": "c329526d",
   "metadata": {},
   "source": [
    "# Stack\n",
    "\n",
    "LIFO (Last In First Out)\n",
    "\n",
    "\n",
    "Operations:\n",
    "1. Push - add a value\n",
    "2. Pop - delete a value\n",
    "3. Display"
   ]
  },
  {
   "cell_type": "code",
   "execution_count": null,
   "id": "45c51c2c",
   "metadata": {},
   "outputs": [],
   "source": []
  }
 ],
 "metadata": {
  "kernelspec": {
   "display_name": "Python 3 (ipykernel)",
   "language": "python",
   "name": "python3"
  },
  "language_info": {
   "codemirror_mode": {
    "name": "ipython",
    "version": 3
   },
   "file_extension": ".py",
   "mimetype": "text/x-python",
   "name": "python",
   "nbconvert_exporter": "python",
   "pygments_lexer": "ipython3",
   "version": "3.9.12"
  }
 },
 "nbformat": 4,
 "nbformat_minor": 5
}
