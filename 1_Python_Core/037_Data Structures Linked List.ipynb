{
 "cells": [
  {
   "cell_type": "markdown",
   "metadata": {},
   "source": [
    "# Linked List"
   ]
  },
  {
   "cell_type": "code",
   "execution_count": null,
   "metadata": {},
   "outputs": [],
   "source": [
    "#   node\n",
    "data | address\n",
    "\n",
    "\n",
    "        10  | 1234       11 | 2222       100 | 1212      12 | None     \n",
    "start-->   1111             1234            2222           1212        \n",
    "                                                           temp"
   ]
  },
  {
   "cell_type": "code",
   "execution_count": 12,
   "metadata": {},
   "outputs": [],
   "source": [
    "class LinkedList:\n",
    "    \n",
    "    class Node:\n",
    "        def __init__(self, element, add):\n",
    "            self.element = element\n",
    "            self.add = add\n",
    "    \n",
    "    def __init__(self):\n",
    "        self.start = None\n",
    "        self.new = None\n",
    "        self.temp = None\n",
    "        self.size = 0\n",
    "        self.next = None\n",
    "        self.prev = None\n",
    "    \n",
    "    def __len__(self):\n",
    "        return self.size\n",
    "    \n",
    "    def is_empty(self):\n",
    "        return self.size == 0\n",
    "    \n",
    "    def top(self):\n",
    "        if self.is_empty():\n",
    "            return \"LinkedList is Empty\"\n",
    "        else:\n",
    "            self.temp = self.start\n",
    "            while self.temp.add != None:\n",
    "                self.temp = self.temp.add\n",
    "            return self.temp.element\n",
    "    \n",
    "    # insert - insert at positions 1st 2nd and 3rd\n",
    "    def insert(self, e):\n",
    "        if self.size == 0:\n",
    "            self.new = self.Node(e, None)\n",
    "            self.start = self.new\n",
    "            self.size += 1\n",
    "        elif self.size == 1:\n",
    "            self.new = self.Node(e, None)\n",
    "            self.start.add = self.new\n",
    "            self.size += 1\n",
    "        else:\n",
    "            self.new = self.Node(e, None)\n",
    "            self.temp = self.start\n",
    "            while self.temp.add != None:\n",
    "                self.temp.add = self.new\n",
    "            self.size += 1\n",
    "    \n",
    "    # delete\n",
    "    def delete(self):\n",
    "        if self.is_empty():\n",
    "            return \"Linked List Is Empty\"\n",
    "        \n",
    "        self.temp = self.start\n",
    "        while self.temp.add != None:\n",
    "            self.temp = self.temp.add\n",
    "        \n",
    "        self.prev = self.start\n",
    "        while self.prev.add != self.temp:\n",
    "            self.prev = self.prev.add\n",
    "        \n",
    "        answer = self.temp.element\n",
    "        self.prev.add = None\n",
    "        self.size -= 1\n",
    "        return answer\n",
    "    \n",
    "    # display\n",
    "    def display(self):\n",
    "        if self.is_empty():\n",
    "            return \"LinkedList is Empty\"\n",
    "        else:\n",
    "            self.temp = self.start\n",
    "            while self.temp != None:\n",
    "                print(self.temp.element, end=\"  \")\n",
    "                self.temp = self.temp.add\n",
    "            "
   ]
  },
  {
   "cell_type": "code",
   "execution_count": 18,
   "metadata": {},
   "outputs": [],
   "source": [
    "l = LinkedList()"
   ]
  },
  {
   "cell_type": "code",
   "execution_count": 19,
   "metadata": {},
   "outputs": [],
   "source": [
    "l.insert(10)"
   ]
  },
  {
   "cell_type": "code",
   "execution_count": 20,
   "metadata": {},
   "outputs": [],
   "source": [
    "l.insert(20)"
   ]
  },
  {
   "cell_type": "code",
   "execution_count": 21,
   "metadata": {},
   "outputs": [
    {
     "ename": "KeyboardInterrupt",
     "evalue": "",
     "output_type": "error",
     "traceback": [
      "\u001b[1;31m---------------------------------------------------------------------------\u001b[0m",
      "\u001b[1;31mKeyboardInterrupt\u001b[0m                         Traceback (most recent call last)",
      "Input \u001b[1;32mIn [21]\u001b[0m, in \u001b[0;36m<cell line: 1>\u001b[1;34m()\u001b[0m\n\u001b[1;32m----> 1\u001b[0m \u001b[43ml\u001b[49m\u001b[38;5;241;43m.\u001b[39;49m\u001b[43minsert\u001b[49m\u001b[43m(\u001b[49m\u001b[38;5;241;43m30\u001b[39;49m\u001b[43m)\u001b[49m\n",
      "Input \u001b[1;32mIn [12]\u001b[0m, in \u001b[0;36mLinkedList.insert\u001b[1;34m(self, e)\u001b[0m\n\u001b[0;32m     43\u001b[0m \u001b[38;5;28mself\u001b[39m\u001b[38;5;241m.\u001b[39mtemp \u001b[38;5;241m=\u001b[39m \u001b[38;5;28mself\u001b[39m\u001b[38;5;241m.\u001b[39mstart\n\u001b[0;32m     44\u001b[0m \u001b[38;5;28;01mwhile\u001b[39;00m \u001b[38;5;28mself\u001b[39m\u001b[38;5;241m.\u001b[39mtemp\u001b[38;5;241m.\u001b[39madd \u001b[38;5;241m!=\u001b[39m \u001b[38;5;28;01mNone\u001b[39;00m:\n\u001b[1;32m---> 45\u001b[0m     \u001b[38;5;28;43mself\u001b[39;49m\u001b[38;5;241;43m.\u001b[39;49m\u001b[43mtemp\u001b[49m\u001b[38;5;241m.\u001b[39madd \u001b[38;5;241m=\u001b[39m \u001b[38;5;28mself\u001b[39m\u001b[38;5;241m.\u001b[39mnew\n\u001b[0;32m     46\u001b[0m \u001b[38;5;28mself\u001b[39m\u001b[38;5;241m.\u001b[39msize \u001b[38;5;241m+\u001b[39m\u001b[38;5;241m=\u001b[39m \u001b[38;5;241m1\u001b[39m\n",
      "\u001b[1;31mKeyboardInterrupt\u001b[0m: "
     ]
    }
   ],
   "source": [
    "l.insert(30)"
   ]
  },
  {
   "cell_type": "code",
   "execution_count": 22,
   "metadata": {},
   "outputs": [
    {
     "data": {
      "text/plain": [
       "<__main__.LinkedList at 0x22c31990a30>"
      ]
     },
     "execution_count": 22,
     "metadata": {},
     "output_type": "execute_result"
    }
   ],
   "source": [
    "l"
   ]
  },
  {
   "cell_type": "code",
   "execution_count": 23,
   "metadata": {},
   "outputs": [
    {
     "data": {
      "text/plain": [
       "2388833929776"
      ]
     },
     "execution_count": 23,
     "metadata": {},
     "output_type": "execute_result"
    }
   ],
   "source": [
    "id(l)"
   ]
  },
  {
   "cell_type": "code",
   "execution_count": 24,
   "metadata": {},
   "outputs": [
    {
     "name": "stdout",
     "output_type": "stream",
     "text": [
      "10  30  "
     ]
    }
   ],
   "source": [
    "l.display()"
   ]
  },
  {
   "cell_type": "code",
   "execution_count": 25,
   "metadata": {},
   "outputs": [
    {
     "data": {
      "text/plain": [
       "2"
      ]
     },
     "execution_count": 25,
     "metadata": {},
     "output_type": "execute_result"
    }
   ],
   "source": [
    "l.__len__()"
   ]
  },
  {
   "cell_type": "markdown",
   "metadata": {},
   "source": [
    "# LinkedList \n",
    "\n",
    "- Insert: first position, last position, specific position\n",
    "- Delete: first position, last position, specific position\n",
    "- Display: print all"
   ]
  },
  {
   "cell_type": "code",
   "execution_count": null,
   "metadata": {},
   "outputs": [],
   "source": []
  }
 ],
 "metadata": {
  "kernelspec": {
   "display_name": "Python 3 (ipykernel)",
   "language": "python",
   "name": "python3"
  },
  "language_info": {
   "codemirror_mode": {
    "name": "ipython",
    "version": 3
   },
   "file_extension": ".py",
   "mimetype": "text/x-python",
   "name": "python",
   "nbconvert_exporter": "python",
   "pygments_lexer": "ipython3",
   "version": "3.9.12"
  }
 },
 "nbformat": 4,
 "nbformat_minor": 4
}
