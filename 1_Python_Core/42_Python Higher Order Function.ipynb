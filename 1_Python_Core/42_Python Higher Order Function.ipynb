{
 "cells": [
  {
   "cell_type": "markdown",
   "id": "1836c5c5",
   "metadata": {},
   "source": [
    "# Higher Order Functions\n",
    "\n",
    "\n",
    "### Functions as a parameter"
   ]
  },
  {
   "cell_type": "code",
   "execution_count": 1,
   "id": "b23b591f",
   "metadata": {},
   "outputs": [
    {
     "name": "stdout",
     "output_type": "stream",
     "text": [
      "15\n"
     ]
    }
   ],
   "source": [
    "def numbers(nums):\n",
    "    return sum(nums)\n",
    "\n",
    "def higher_order_function(fun, l):   # fun = numbers\n",
    "    s = fun(l)\n",
    "    return s\n",
    "\n",
    "\n",
    "result = higher_order_function(numbers, [1,2,3,4,5])\n",
    "print(result)"
   ]
  },
  {
   "cell_type": "markdown",
   "id": "78d9f468",
   "metadata": {},
   "source": [
    "### Function as a return value"
   ]
  },
  {
   "cell_type": "code",
   "execution_count": 2,
   "id": "d08a4c89",
   "metadata": {},
   "outputs": [
    {
     "name": "stdout",
     "output_type": "stream",
     "text": [
      "9\n"
     ]
    }
   ],
   "source": [
    "def square(x):\n",
    "    return x ** 2\n",
    "\n",
    "def cube(x):\n",
    "    return x ** 3\n",
    "\n",
    "def higher_order_function(t):      # t = 'square'\n",
    "    if t == 'square':\n",
    "        return square\n",
    "    elif t == 'cube':\n",
    "        return cube\n",
    "\n",
    "result = higher_order_function('square')\n",
    "#        square\n",
    "\n",
    "print(result(3))\n",
    "#     square(3)"
   ]
  },
  {
   "cell_type": "code",
   "execution_count": 3,
   "id": "859df384",
   "metadata": {},
   "outputs": [
    {
     "name": "stdout",
     "output_type": "stream",
     "text": [
      "343\n"
     ]
    }
   ],
   "source": [
    "result = higher_order_function('cube')\n",
    "print(result(7))"
   ]
  },
  {
   "cell_type": "markdown",
   "id": "c77c5fe2",
   "metadata": {},
   "source": [
    "### Python closures"
   ]
  },
  {
   "cell_type": "code",
   "execution_count": 4,
   "id": "1e79f241",
   "metadata": {},
   "outputs": [
    {
     "name": "stdout",
     "output_type": "stream",
     "text": [
      "15\n"
     ]
    }
   ],
   "source": [
    "def add_ten():\n",
    "    ten = 10\n",
    "    \n",
    "    def add(n):\n",
    "        return n + ten\n",
    "    \n",
    "    return add\n",
    "\n",
    "closure_result = add_ten()\n",
    "#                add\n",
    "\n",
    "print(closure_result(5))\n",
    "#                add(5)"
   ]
  },
  {
   "cell_type": "markdown",
   "id": "836ad719",
   "metadata": {},
   "source": [
    "### Python Decorators"
   ]
  },
  {
   "cell_type": "code",
   "execution_count": null,
   "id": "a4c9bcc9",
   "metadata": {},
   "outputs": [],
   "source": [
    "# app = Flask()\n",
    "\n",
    "# @app.route('/')\n",
    "# def index():\n",
    "#     return \"hi\""
   ]
  },
  {
   "cell_type": "code",
   "execution_count": 5,
   "id": "b723d4ad",
   "metadata": {},
   "outputs": [
    {
     "name": "stdout",
     "output_type": "stream",
     "text": [
      "WELCOME TO DATA SCIENCE\n"
     ]
    }
   ],
   "source": [
    "def hello():\n",
    "    return \"Welcome to Data science\"\n",
    "\n",
    "def decorator(f):\n",
    "    \n",
    "    def wrapper():\n",
    "        fun = f()\n",
    "        uppercase = fun.upper()\n",
    "        return uppercase\n",
    "    \n",
    "    return wrapper\n",
    "\n",
    "g = decorator(hello)\n",
    "print(g())\n",
    "#   wrapper()"
   ]
  },
  {
   "cell_type": "code",
   "execution_count": 6,
   "id": "16d0c68b",
   "metadata": {},
   "outputs": [],
   "source": [
    "def decorator(f):\n",
    "    \n",
    "    def wrapper():\n",
    "        fun = f()\n",
    "        uppercase = fun.upper()\n",
    "        return uppercase\n",
    "    \n",
    "    return wrapper\n",
    "\n",
    "@decorator\n",
    "def hello():\n",
    "    return \"Welcome to Data science\""
   ]
  },
  {
   "cell_type": "code",
   "execution_count": 7,
   "id": "7aa23986",
   "metadata": {},
   "outputs": [
    {
     "name": "stdout",
     "output_type": "stream",
     "text": [
      "WELCOME TO DATA SCIENCE\n"
     ]
    }
   ],
   "source": [
    "print(hello())"
   ]
  },
  {
   "cell_type": "code",
   "execution_count": 10,
   "id": "6efd243a",
   "metadata": {},
   "outputs": [
    {
     "name": "stdout",
     "output_type": "stream",
     "text": [
      "\n",
      "\n",
      "-----Queue------\n",
      "Press 1 for insert element in queue\n",
      "Press 2 for delete a element from the queue\n",
      "Pess 3 for display\n",
      "Press 4 for break\n",
      "Press a key to perform opreation:1\n",
      "Enter a number you want to insert:10\n",
      "\n",
      "\n",
      "-----Queue------\n",
      "Press 1 for insert element in queue\n",
      "Press 2 for delete a element from the queue\n",
      "Pess 3 for display\n",
      "Press 4 for break\n",
      "Press a key to perform opreation:1\n",
      "Enter a number you want to insert:20\n",
      "\n",
      "\n",
      "-----Queue------\n",
      "Press 1 for insert element in queue\n",
      "Press 2 for delete a element from the queue\n",
      "Pess 3 for display\n",
      "Press 4 for break\n",
      "Press a key to perform opreation:3\n",
      "10\n",
      "20\n",
      "\n",
      "\n",
      "-----Queue------\n",
      "Press 1 for insert element in queue\n",
      "Press 2 for delete a element from the queue\n",
      "Pess 3 for display\n",
      "Press 4 for break\n",
      "Press a key to perform opreation:2\n",
      "10 deleted.\n",
      "\n",
      "\n",
      "-----Queue------\n",
      "Press 1 for insert element in queue\n",
      "Press 2 for delete a element from the queue\n",
      "Pess 3 for display\n",
      "Press 4 for break\n",
      "Press a key to perform opreation:3\n",
      "20\n",
      "\n",
      "\n",
      "-----Queue------\n",
      "Press 1 for insert element in queue\n",
      "Press 2 for delete a element from the queue\n",
      "Pess 3 for display\n",
      "Press 4 for break\n",
      "Press a key to perform opreation:4\n"
     ]
    }
   ],
   "source": [
    "class circular_queue:\n",
    "    \n",
    "    DEFAULT_CAPACITY = 10\n",
    "    \n",
    "    def __init__(self):\n",
    "        self.data= [None] * circular_queue.DEFAULT_CAPACITY\n",
    "        self.size = 0\n",
    "        self.front=-1\n",
    "        self.rear =0\n",
    "     \n",
    "    \n",
    "    def enqueue(self,value):\n",
    "        if self.size == 10:\n",
    "            print(\"Queue is overflow.\")\n",
    "        elif(self.rear!=0 and self.front==circular_queue.DEFAULT_CAPACITY):\n",
    "            self.front=-1\n",
    "            available = self.front + 1\n",
    "            self.data[available] = value\n",
    "            self.front+=1\n",
    "            self.size+=1\n",
    "        \n",
    "        elif(self.rear!=0 and self.front<self.rear-2):\n",
    "            self.data[available] = value\n",
    "            self.front+=1\n",
    "            self.size+=1\n",
    "            \n",
    "        else:\n",
    "            available = self.front + 1\n",
    "            self.data[available] = value\n",
    "            self.front+=1\n",
    "            self.size+=1\n",
    "        \n",
    "            \n",
    "    def dequeue(self):\n",
    "        if (self.size==0):\n",
    "            print(\"Queue is empty.\")\n",
    "            self.rear=0\n",
    "            self.front=-1\n",
    "            \n",
    "        elif(self.rear == circular_queue.DEFAULT_CAPACITY - 1):\n",
    "            r=self.data[self.rear]\n",
    "            self.data[self.rear]= None\n",
    "            self.rear=0\n",
    "            self.size-=1\n",
    "        else:\n",
    "            r= self.data[self.rear]\n",
    "            self.data[self.rear]= None\n",
    "            self.rear+=1\n",
    "            self.size-=1\n",
    "            print(r,\"deleted.\")\n",
    "        \n",
    "    def display(self):\n",
    "        i=self.rear\n",
    "        j=self.front\n",
    "        if (self.size==0):\n",
    "            print(\"Queue is empty.\")\n",
    "        \n",
    "        elif(i>=j):\n",
    "            for i in range(j,i+1):\n",
    "                print(self.data[i])\n",
    "        else:\n",
    "            while i<=j:\n",
    "                print(self.data[i])\n",
    "                i+=1\n",
    "                \n",
    "q1=circular_queue()\n",
    "a=0\n",
    "while a!=4:\n",
    "        \n",
    "        print(\"\\n\\n-----Queue------\\nPress 1 for insert element in queue\\nPress 2 for delete a element from the queue\\nPess 3 for display\\nPress 4 for break\")\n",
    "        a=int(input(\"Press a key to perform opreation:\"))\n",
    "        if a==1:\n",
    "            i=int(input(\"Enter a number you want to insert:\"))\n",
    "            q1.enqueue(i)\n",
    "            \n",
    "       \n",
    "        elif a==2:\n",
    "            q1.dequeue()\n",
    "            \n",
    "        \n",
    "        elif a==3:\n",
    "            q1.display()\n",
    "        \n",
    "        elif a==4:\n",
    "            pass\n",
    "        \n",
    "        else:\n",
    "            print(\"Press a valid Key!\")"
   ]
  },
  {
   "cell_type": "code",
   "execution_count": null,
   "id": "f91e3ef7",
   "metadata": {},
   "outputs": [],
   "source": []
  }
 ],
 "metadata": {
  "kernelspec": {
   "display_name": "Python 3 (ipykernel)",
   "language": "python",
   "name": "python3"
  },
  "language_info": {
   "codemirror_mode": {
    "name": "ipython",
    "version": 3
   },
   "file_extension": ".py",
   "mimetype": "text/x-python",
   "name": "python",
   "nbconvert_exporter": "python",
   "pygments_lexer": "ipython3",
   "version": "3.9.12"
  }
 },
 "nbformat": 4,
 "nbformat_minor": 5
}
