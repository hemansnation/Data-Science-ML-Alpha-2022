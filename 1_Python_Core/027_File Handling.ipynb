{
 "cells": [
  {
   "cell_type": "markdown",
   "id": "b1061733",
   "metadata": {},
   "source": [
    "# File Handling\n",
    "\n",
    "3 types of mode\n",
    "\n",
    "1. Read\n",
    "2. Write\n",
    "3. Append (edit)\n",
    "\n",
    "\n",
    "### read a file"
   ]
  },
  {
   "cell_type": "code",
   "execution_count": 1,
   "id": "bba959db",
   "metadata": {},
   "outputs": [
    {
     "ename": "FileNotFoundError",
     "evalue": "[Errno 2] No such file or directory: 'indore.txt'",
     "output_type": "error",
     "traceback": [
      "\u001b[1;31m---------------------------------------------------------------------------\u001b[0m",
      "\u001b[1;31mFileNotFoundError\u001b[0m                         Traceback (most recent call last)",
      "Input \u001b[1;32mIn [1]\u001b[0m, in \u001b[0;36m<cell line: 1>\u001b[1;34m()\u001b[0m\n\u001b[1;32m----> 1\u001b[0m f \u001b[38;5;241m=\u001b[39m \u001b[38;5;28;43mopen\u001b[39;49m\u001b[43m(\u001b[49m\u001b[38;5;124;43m'\u001b[39;49m\u001b[38;5;124;43mindore.txt\u001b[39;49m\u001b[38;5;124;43m'\u001b[39;49m\u001b[43m)\u001b[49m\n\u001b[0;32m      3\u001b[0m \u001b[38;5;28mprint\u001b[39m(f)\n",
      "\u001b[1;31mFileNotFoundError\u001b[0m: [Errno 2] No such file or directory: 'indore.txt'"
     ]
    }
   ],
   "source": [
    "f = open('indore.txt')\n",
    "\n",
    "print(f)"
   ]
  },
  {
   "cell_type": "code",
   "execution_count": 2,
   "id": "59f56ce7",
   "metadata": {},
   "outputs": [
    {
     "name": "stdout",
     "output_type": "stream",
     "text": [
      "<_io.TextIOWrapper name='indore.txt' mode='r' encoding='cp1252'>\n"
     ]
    }
   ],
   "source": [
    "f = open('indore.txt')\n",
    "\n",
    "print(f)"
   ]
  },
  {
   "cell_type": "code",
   "execution_count": 3,
   "id": "fde7a1f0",
   "metadata": {},
   "outputs": [
    {
     "name": "stdout",
     "output_type": "stream",
     "text": [
      "<class '_io.TextIOWrapper'>\n"
     ]
    }
   ],
   "source": [
    "print(type(f))"
   ]
  },
  {
   "cell_type": "code",
   "execution_count": 5,
   "id": "81bcd7b8",
   "metadata": {
    "scrolled": false
   },
   "outputs": [],
   "source": [
    "# help(open)"
   ]
  },
  {
   "cell_type": "code",
   "execution_count": 6,
   "id": "a8104fa2",
   "metadata": {},
   "outputs": [
    {
     "name": "stdout",
     "output_type": "stream",
     "text": [
      "this is a demo file for reading the content.\n"
     ]
    }
   ],
   "source": [
    "f = open('indore.txt','r')\n",
    "\n",
    "print(f.read())"
   ]
  },
  {
   "cell_type": "code",
   "execution_count": 8,
   "id": "f87f1084",
   "metadata": {},
   "outputs": [
    {
     "name": "stdout",
     "output_type": "stream",
     "text": [
      "<class 'str'>\n"
     ]
    }
   ],
   "source": [
    "print(type(f.read()))"
   ]
  },
  {
   "cell_type": "code",
   "execution_count": 9,
   "id": "386e9bb9",
   "metadata": {},
   "outputs": [],
   "source": [
    "f.close()"
   ]
  },
  {
   "cell_type": "markdown",
   "id": "122e53ca",
   "metadata": {},
   "source": [
    "### number of characters"
   ]
  },
  {
   "cell_type": "code",
   "execution_count": 10,
   "id": "f364af4f",
   "metadata": {},
   "outputs": [
    {
     "name": "stdout",
     "output_type": "stream",
     "text": [
      "this is a demo file \n"
     ]
    }
   ],
   "source": [
    "f = open('indore.txt','r')\n",
    "\n",
    "print(f.read(20))"
   ]
  },
  {
   "cell_type": "code",
   "execution_count": 11,
   "id": "a3c5aada",
   "metadata": {},
   "outputs": [
    {
     "name": "stdout",
     "output_type": "stream",
     "text": [
      "this is a demo file for reading the content.\n"
     ]
    }
   ],
   "source": [
    "f = open('indore.txt','r')\n",
    "\n",
    "print(f.readline())"
   ]
  },
  {
   "cell_type": "code",
   "execution_count": 12,
   "id": "14d15c99",
   "metadata": {},
   "outputs": [
    {
     "name": "stdout",
     "output_type": "stream",
     "text": [
      "this is a demo file for reading the content.\n",
      "\n"
     ]
    }
   ],
   "source": [
    "f = open('indore.txt','r')\n",
    "\n",
    "print(f.readline())"
   ]
  },
  {
   "cell_type": "code",
   "execution_count": 16,
   "id": "10451e59",
   "metadata": {},
   "outputs": [
    {
     "name": "stdout",
     "output_type": "stream",
     "text": [
      "['this is a demo file for reading the content.\\n', 'it contains virus.']\n"
     ]
    }
   ],
   "source": [
    "f = open('indore.txt','r')\n",
    "\n",
    "print(f.readlines())"
   ]
  },
  {
   "cell_type": "code",
   "execution_count": 17,
   "id": "64800b77",
   "metadata": {},
   "outputs": [
    {
     "name": "stdout",
     "output_type": "stream",
     "text": [
      "it contains virus.\n"
     ]
    }
   ],
   "source": [
    "f = open('indore.txt','r')\n",
    "\n",
    "print(f.readlines()[1])\n",
    "#                 l[1]"
   ]
  },
  {
   "cell_type": "code",
   "execution_count": 18,
   "id": "9fba2ca0",
   "metadata": {},
   "outputs": [
    {
     "name": "stdout",
     "output_type": "stream",
     "text": [
      "this is a demo file for reading the content.\n",
      "\n"
     ]
    }
   ],
   "source": [
    "f = open('indore.txt','r')\n",
    "\n",
    "print(f.readlines()[0])"
   ]
  },
  {
   "cell_type": "markdown",
   "id": "bf9d87a0",
   "metadata": {},
   "source": [
    "### using a loop"
   ]
  },
  {
   "cell_type": "code",
   "execution_count": 19,
   "id": "01a99842",
   "metadata": {},
   "outputs": [
    {
     "name": "stdout",
     "output_type": "stream",
     "text": [
      "this is a demo file for reading the content.\n",
      "\n",
      "it contains virus.\n"
     ]
    }
   ],
   "source": [
    "f = open('indore.txt','r')\n",
    "\n",
    "for i in f:\n",
    "    print(i)\n",
    "\n",
    "f.close()"
   ]
  },
  {
   "cell_type": "code",
   "execution_count": 21,
   "id": "549200c6",
   "metadata": {},
   "outputs": [
    {
     "name": "stdout",
     "output_type": "stream",
     "text": [
      "2\n"
     ]
    }
   ],
   "source": [
    "print(len(open('indore.txt', 'r').readlines()))\n",
    "#                               f.readlines()"
   ]
  },
  {
   "cell_type": "code",
   "execution_count": 22,
   "id": "efa5ebd7",
   "metadata": {},
   "outputs": [
    {
     "ename": "TypeError",
     "evalue": "object of type '_io.TextIOWrapper' has no len()",
     "output_type": "error",
     "traceback": [
      "\u001b[1;31m---------------------------------------------------------------------------\u001b[0m",
      "\u001b[1;31mTypeError\u001b[0m                                 Traceback (most recent call last)",
      "Input \u001b[1;32mIn [22]\u001b[0m, in \u001b[0;36m<cell line: 1>\u001b[1;34m()\u001b[0m\n\u001b[1;32m----> 1\u001b[0m \u001b[38;5;28mprint\u001b[39m(\u001b[38;5;28;43mlen\u001b[39;49m\u001b[43m(\u001b[49m\u001b[38;5;28;43mopen\u001b[39;49m\u001b[43m(\u001b[49m\u001b[38;5;124;43m'\u001b[39;49m\u001b[38;5;124;43mindore.txt\u001b[39;49m\u001b[38;5;124;43m'\u001b[39;49m\u001b[43m,\u001b[49m\u001b[43m \u001b[49m\u001b[38;5;124;43m'\u001b[39;49m\u001b[38;5;124;43mr\u001b[39;49m\u001b[38;5;124;43m'\u001b[39;49m\u001b[43m)\u001b[49m\u001b[43m)\u001b[49m)\n",
      "\u001b[1;31mTypeError\u001b[0m: object of type '_io.TextIOWrapper' has no len()"
     ]
    }
   ],
   "source": [
    "print(len(open('indore.txt', 'r')))"
   ]
  },
  {
   "cell_type": "markdown",
   "id": "5256cd0b",
   "metadata": {},
   "source": [
    "## write a file"
   ]
  },
  {
   "cell_type": "code",
   "execution_count": 23,
   "id": "b48f2a30",
   "metadata": {},
   "outputs": [],
   "source": [
    "f = open('mumbai.txt','w')  # this will create a file if not found\n",
    "f.write(\"this is a virus.\")\n",
    "f.close()"
   ]
  },
  {
   "cell_type": "code",
   "execution_count": 24,
   "id": "7829c435",
   "metadata": {},
   "outputs": [
    {
     "name": "stdout",
     "output_type": "stream",
     "text": [
      "this is a virus.\n"
     ]
    }
   ],
   "source": [
    "f = open('mumbai.txt','r')\n",
    "print(f.read())\n",
    "f.close()"
   ]
  },
  {
   "cell_type": "code",
   "execution_count": 25,
   "id": "c5d67112",
   "metadata": {},
   "outputs": [],
   "source": [
    "s = \"spiderman is the new ironman.\""
   ]
  },
  {
   "cell_type": "code",
   "execution_count": 26,
   "id": "9ccfc39b",
   "metadata": {},
   "outputs": [],
   "source": [
    "f = open('newyork.txt','w')\n",
    "\n",
    "f.write(s)\n",
    "\n",
    "f.close()"
   ]
  },
  {
   "cell_type": "code",
   "execution_count": null,
   "id": "ce832ff5",
   "metadata": {},
   "outputs": [],
   "source": [
    "# f = open('C:\\\\Windows\\\\System32\\\\winload.exe', 'w')\n",
    "f.write('himanshu')\n"
   ]
  },
  {
   "cell_type": "markdown",
   "id": "3d902c4a",
   "metadata": {},
   "source": [
    "### append a file"
   ]
  },
  {
   "cell_type": "code",
   "execution_count": 27,
   "id": "8c50255e",
   "metadata": {},
   "outputs": [],
   "source": [
    "f = open('newyork.txt','a')\n",
    "\n",
    "f.write('Yes i know new york')\n",
    "\n",
    "f.close()"
   ]
  },
  {
   "cell_type": "markdown",
   "id": "fa158385",
   "metadata": {},
   "source": [
    "# Question"
   ]
  },
  {
   "cell_type": "markdown",
   "id": "1b712ea3",
   "metadata": {},
   "source": [
    "**WAP to read a file and print largest word from it.**\n",
    "\n",
    "**WAP to check if a file is closed or not.**"
   ]
  },
  {
   "cell_type": "code",
   "execution_count": null,
   "id": "fc374caa",
   "metadata": {},
   "outputs": [],
   "source": []
  }
 ],
 "metadata": {
  "kernelspec": {
   "display_name": "Python 3 (ipykernel)",
   "language": "python",
   "name": "python3"
  },
  "language_info": {
   "codemirror_mode": {
    "name": "ipython",
    "version": 3
   },
   "file_extension": ".py",
   "mimetype": "text/x-python",
   "name": "python",
   "nbconvert_exporter": "python",
   "pygments_lexer": "ipython3",
   "version": "3.9.12"
  }
 },
 "nbformat": 4,
 "nbformat_minor": 5
}
