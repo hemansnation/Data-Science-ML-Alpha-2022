{
 "cells": [
  {
   "cell_type": "markdown",
   "id": "77abd333",
   "metadata": {},
   "source": [
    "Database - collection of tables\n",
    "\n",
    "tables - rows(tuple) and columns\n",
    "\n",
    "databases types-\n",
    "- relational - SQL(Structured Query Language) - CRUD\n",
    "    - MySQL\n",
    "    - PostgreSQL\n",
    "    - MSaccess\n",
    "- Document \n",
    "    - MongoDB\n",
    "    - Hbase"
   ]
  },
  {
   "cell_type": "code",
   "execution_count": null,
   "id": "6054605f",
   "metadata": {},
   "outputs": [],
   "source": [
    "SQL\n",
    "\n",
    "MySQL - install - https://dev.mysql.com/downloads/installer/\n",
    "\n",
    "MySQL - MySQL Workbench\n"
   ]
  }
 ],
 "metadata": {
  "kernelspec": {
   "display_name": "Python 3 (ipykernel)",
   "language": "python",
   "name": "python3"
  },
  "language_info": {
   "codemirror_mode": {
    "name": "ipython",
    "version": 3
   },
   "file_extension": ".py",
   "mimetype": "text/x-python",
   "name": "python",
   "nbconvert_exporter": "python",
   "pygments_lexer": "ipython3",
   "version": "3.9.12"
  }
 },
 "nbformat": 4,
 "nbformat_minor": 5
}
